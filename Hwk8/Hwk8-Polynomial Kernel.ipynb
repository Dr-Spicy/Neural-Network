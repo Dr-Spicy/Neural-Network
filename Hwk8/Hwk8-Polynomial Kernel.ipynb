{
 "cells": [
  {
   "cell_type": "markdown",
   "metadata": {},
   "source": [
    "##                                                                  CS 559 Hwk 8"
   ]
  },
  {
   "cell_type": "markdown",
   "metadata": {},
   "source": [
    "  ### Xiaohan Liu                             659692941                                        Nov 14 2017"
   ]
  },
  {
   "cell_type": "code",
   "execution_count": 1,
   "metadata": {
    "collapsed": true
   },
   "outputs": [],
   "source": [
    "import numpy as np\n",
    "import pandas as pd\n",
    "import matplotlib.pyplot as plt\n",
    "from matplotlib.patches import Circle\n",
    "from scipy.spatial.distance import euclidean\n",
    "from scipy.interpolate import RectBivariateSpline"
   ]
  },
  {
   "cell_type": "markdown",
   "metadata": {},
   "source": [
    "#### Q1.\n",
    "(100pts) In this computer project, we will design an SVM. You may use an existing library for solving the\n",
    "quadratic optimization problem that is associated with the SVM. For example, the free software Octave has\n",
    "such a command named \\quadprog\" to solve such problems. Other than that, you cannot use any existing\n",
    "machine learning/SVM library. As usual, please include the computer codes in your report."
   ]
  },
  {
   "cell_type": "markdown",
   "metadata": {},
   "source": [
    "(a) Draw 100 points x1; ... ; x100 independently and uniformly at random on [0,1]$^2$. These will be our input patterns."
   ]
  },
  {
   "cell_type": "code",
   "execution_count": 2,
   "metadata": {
    "collapsed": true
   },
   "outputs": [],
   "source": [
    "np.random.seed(21)\n",
    "X = np.random.uniform(0,1,size=200).reshape((2,100))\n",
    "# ith column of X is X_i"
   ]
  },
  {
   "cell_type": "markdown",
   "metadata": {},
   "source": [
    "![ ](b.jpg)"
   ]
  },
  {
   "cell_type": "code",
   "execution_count": 3,
   "metadata": {
    "collapsed": true
   },
   "outputs": [],
   "source": [
    "ctgy = np.ones(100)\n",
    "for i in range(X.shape[1]):\n",
    "    if (X[1,i] >= 0.2 * np.sin(10*X[0,i])+0.3) and ((X[1,i]-0.8)**2 + (X[0,i]-0.5)**2 >= 0.15**2):\n",
    "            ctgy[i] = -1\n",
    "t = np.arange(0,1,0.002)\n",
    "yt = 0.2* np.sin(10*t) +0.3\n",
    "X = np.vstack((X,ctgy))\n",
    "C1 = X[:,X[2,:] ==1][0:2,:]\n",
    "CN1 = X[:,X[2,:] ==-1][0:2,:]"
   ]
  },
  {
   "cell_type": "code",
   "execution_count": 4,
   "metadata": {
    "scrolled": true
   },
   "outputs": [
    {
     "data": {
      "image/png": "[encoded data removed]",
      "text/plain": [
       "<matplotlib.figure.Figure at 0x18136f2668>"
      ]
     },
     "metadata": {},
     "output_type": "display_data"
    }
   ],
   "source": [
    "fig = plt.figure()\n",
    "ax = fig.add_subplot(1, 1, 1)\n",
    "ax.add_patch(Circle((0.5,0.8), 0.15, color = 'b', fill = False))\n",
    "ax.plot(t,yt,color = 'b')\n",
    "pt1 = plt.scatter(x = C1[0,:], y = C1[1,:],c ='r', marker = 'x')\n",
    "pt2 = plt.scatter(x = CN1[0,:], y = CN1[1,:],c ='k', marker = 'd')\n",
    "plt.xlim(0,1)\n",
    "plt.ylim(0,1)\n",
    "plt.legend([pt1,pt2],('Class 1', 'Class -1'), loc = (0,1))\n",
    "plt.show()"
   ]
  },
  {
   "cell_type": "markdown",
   "metadata": {},
   "source": [
    "![](c1.png)\n",
    "![](c2.png)"
   ]
  },
  {
   "cell_type": "markdown",
   "metadata": {},
   "source": [
    "I picked the Gaussian Kernel:$K(x,x') = exp(-\\frac{||x-x'||^2}{2})$"
   ]
  },
  {
   "cell_type": "code",
   "execution_count": 5,
   "metadata": {
    "collapsed": true
   },
   "outputs": [],
   "source": [
    "# Get the desired output\n",
    "D = X[2,:]\n",
    "# Define the Kernel function\n",
    "def Kernel(x, y, p = 10):\n",
    "    x = np.array(x)\n",
    "    y = np.array(y)\n",
    "    return (x.T @ y +1) ** p\n",
    "# Compute the Kernel matrix for all 100 data points as K1\n",
    "K1 = np.zeros(100*100).reshape(100,100)\n",
    "for i in range(100):\n",
    "    for j in range(100):\n",
    "        K1[i,j] = Kernel(X[0:2,i],X[0:2,j])"
   ]
  },
  {
   "cell_type": "code",
   "execution_count": 6,
   "metadata": {},
   "outputs": [
    {
     "name": "stdout",
     "output_type": "stream",
     "text": [
      "Optimization terminated successfully.    (Exit mode 0)\n",
      "            Current function value: -141.62325484498467\n",
      "            Iterations: 45\n",
      "            Function evaluations: 65\n",
      "            Gradient evaluations: 45\n"
     ]
    }
   ],
   "source": [
    "# Use Scipy.optimize.minimize to perform the quadratic programing\n",
    "from scipy.optimize import minimize\n",
    "def dual_form (x):\n",
    "    s = (x * D) @ K1 @ (x * D).T \n",
    "    return -(np.sum(x)-0.5*s)\n",
    "def dual_form_d(x):\n",
    "    return -(np.ones(100) - x.T @ np.diag(D)@ K1 @ np.diag(D))\n",
    "cons = ({'type': 'eq',\n",
    "         'fun' : lambda x: np.sum(x * D)},\n",
    "        {'type': 'ineq',\n",
    "         'fun' : lambda x: x})\n",
    "res = minimize(dual_form,np.zeros(100), jac = dual_form_d,\n",
    "                   constraints=cons, method='SLSQP', options={'disp': True, 'maxiter':1000})"
   ]
  },
  {
   "cell_type": "markdown",
   "metadata": {},
   "source": [
    "#### Get the optimized result as the alpha "
   ]
  },
  {
   "cell_type": "code",
   "execution_count": 7,
   "metadata": {},
   "outputs": [
    {
     "data": {
      "text/plain": [
       "array([  -0.       ,    0.       ,    0.       ,   -0.       ,\n",
       "          3.9738284,   -0.       ,    0.       ,    0.       ,\n",
       "          0.       ,   -0.       ,    0.       ,   -0.       ,\n",
       "         -0.       ,    0.       ,    0.       ,    0.       ,\n",
       "          0.       ,   -0.       ,    0.       ,    0.       ,\n",
       "         -0.       ,    5.499514 ,    0.       ,    0.       ,\n",
       "         -0.       ,   -0.       ,    0.       ,   -0.       ,\n",
       "          0.       ,   -0.       ,  130.9371398,   -0.       ,\n",
       "         -0.       ,   -0.       ,    0.       ,   -0.       ,\n",
       "          0.       ,  106.3127009,   -0.       ,   -0.       ,\n",
       "         -0.       ,   -0.       ,   -0.       ,    0.       ,\n",
       "          0.       ,    0.       ,   -0.       ,   -0.       ,\n",
       "          0.       ,    0.       ,   -0.       ,    0.       ,\n",
       "         -0.       ,    0.       ,    0.       ,    0.       ,\n",
       "         -0.       ,   -0.       ,    0.       ,   -0.       ,\n",
       "          0.       ,   -0.       ,   -0.       ,   -0.       ,\n",
       "          0.       ,    3.9177564,    0.       ,   -0.       ,\n",
       "          1.2426002,   -0.       ,    0.       ,   -0.       ,\n",
       "          0.       ,   25.8934098,   -0.       ,   -0.       ,\n",
       "          0.       ,    0.       ,   -0.       ,   -0.       ,\n",
       "         -0.       ,   -0.       ,    0.       ,   -0.       ,\n",
       "         -0.       ,    0.7102181,   -0.       ,    0.       ,\n",
       "         -0.       ,   -0.       ,    0.       ,   -0.       ,\n",
       "          0.       ,    0.       ,    0.       ,    0.       ,\n",
       "          0.       ,    4.7595948,   -0.       ,    0.       ])"
      ]
     },
     "execution_count": 7,
     "metadata": {},
     "output_type": "execute_result"
    }
   ],
   "source": [
    "# Get the optimized alpha \n",
    "alpha = np.round(res.x,7) \n",
    "X = np.vstack((X,alpha))\n",
    "alpha"
   ]
  },
  {
   "cell_type": "markdown",
   "metadata": {},
   "source": [
    "#### Get the supporting vectors"
   ]
  },
  {
   "cell_type": "code",
   "execution_count": 8,
   "metadata": {},
   "outputs": [
    {
     "data": {
      "text/html": [
       "<div>\n",
       "<style>\n",
       "    .dataframe thead tr:only-child th {\n",
       "        text-align: right;\n",
       "    }\n",
       "\n",
       "    .dataframe thead th {\n",
       "        text-align: left;\n",
       "    }\n",
       "\n",
       "    .dataframe tbody tr th {\n",
       "        vertical-align: top;\n",
       "    }\n",
       "</style>\n",
       "<table border=\"1\" class=\"dataframe\">\n",
       "  <thead>\n",
       "    <tr style=\"text-align: right;\">\n",
       "      <th></th>\n",
       "      <th>0</th>\n",
       "      <th>1</th>\n",
       "      <th>2</th>\n",
       "      <th>3</th>\n",
       "      <th>4</th>\n",
       "      <th>5</th>\n",
       "      <th>6</th>\n",
       "      <th>7</th>\n",
       "      <th>8</th>\n",
       "    </tr>\n",
       "  </thead>\n",
       "  <tbody>\n",
       "    <tr>\n",
       "      <th>0</th>\n",
       "      <td>0.205923</td>\n",
       "      <td>0.713360</td>\n",
       "      <td>0.327213</td>\n",
       "      <td>0.267522</td>\n",
       "      <td>0.467601</td>\n",
       "      <td>0.864086</td>\n",
       "      <td>0.365112</td>\n",
       "      <td>0.511137</td>\n",
       "      <td>0.035103</td>\n",
       "    </tr>\n",
       "    <tr>\n",
       "      <th>1</th>\n",
       "      <td>0.604845</td>\n",
       "      <td>0.363309</td>\n",
       "      <td>0.330211</td>\n",
       "      <td>0.365868</td>\n",
       "      <td>0.743765</td>\n",
       "      <td>0.533436</td>\n",
       "      <td>0.202257</td>\n",
       "      <td>0.951309</td>\n",
       "      <td>0.588882</td>\n",
       "    </tr>\n",
       "    <tr>\n",
       "      <th>2</th>\n",
       "      <td>-1.000000</td>\n",
       "      <td>1.000000</td>\n",
       "      <td>-1.000000</td>\n",
       "      <td>1.000000</td>\n",
       "      <td>1.000000</td>\n",
       "      <td>-1.000000</td>\n",
       "      <td>1.000000</td>\n",
       "      <td>-1.000000</td>\n",
       "      <td>-1.000000</td>\n",
       "    </tr>\n",
       "    <tr>\n",
       "      <th>3</th>\n",
       "      <td>3.973828</td>\n",
       "      <td>5.499514</td>\n",
       "      <td>130.937140</td>\n",
       "      <td>106.312701</td>\n",
       "      <td>3.917756</td>\n",
       "      <td>1.242600</td>\n",
       "      <td>25.893410</td>\n",
       "      <td>0.710218</td>\n",
       "      <td>4.759595</td>\n",
       "    </tr>\n",
       "  </tbody>\n",
       "</table>\n",
       "</div>"
      ],
      "text/plain": [
       "          0         1           2           3         4         5          6  \\\n",
       "0  0.205923  0.713360    0.327213    0.267522  0.467601  0.864086   0.365112   \n",
       "1  0.604845  0.363309    0.330211    0.365868  0.743765  0.533436   0.202257   \n",
       "2 -1.000000  1.000000   -1.000000    1.000000  1.000000 -1.000000   1.000000   \n",
       "3  3.973828  5.499514  130.937140  106.312701  3.917756  1.242600  25.893410   \n",
       "\n",
       "          7         8  \n",
       "0  0.511137  0.035103  \n",
       "1  0.951309  0.588882  \n",
       "2 -1.000000 -1.000000  \n",
       "3  0.710218  4.759595  "
      ]
     },
     "execution_count": 8,
     "metadata": {},
     "output_type": "execute_result"
    }
   ],
   "source": [
    "# Get the supporting vectors\n",
    "sv = X[:,X[3,:]>0]\n",
    "n_sv = sv.shape[1]\n",
    "sv_temp = pd.DataFrame(sv)\n",
    "sv_temp"
   ]
  },
  {
   "cell_type": "markdown",
   "metadata": {},
   "source": [
    "#### Get the optimized bias $\\theta$"
   ]
  },
  {
   "cell_type": "code",
   "execution_count": 9,
   "metadata": {},
   "outputs": [
    {
     "data": {
      "text/plain": [
       "15.1503876"
      ]
     },
     "execution_count": 9,
     "metadata": {},
     "output_type": "execute_result"
    }
   ],
   "source": [
    "theta = list()\n",
    "for j in range(n_sv):\n",
    "    temp  = 0\n",
    "    for i in range(n_sv):\n",
    "            temp += sv[3,i] * sv[2,i] * Kernel(sv[0:2,i],sv[0:2,j])\n",
    "    theta.append(sv[2,j] - temp)\n",
    "theta0 = np.mean(theta)\n",
    "round(theta0, 7)"
   ]
  },
  {
   "cell_type": "markdown",
   "metadata": {},
   "source": [
    "#### Now, with the optimized bias calculated, we could start to draw the decision boundary and the two margins. "
   ]
  },
  {
   "cell_type": "code",
   "execution_count": 10,
   "metadata": {
    "collapsed": true
   },
   "outputs": [],
   "source": [
    "# Define a discriminant function g(x)\n",
    "def disc (x):\n",
    "    x = np.array(x)\n",
    "    temp = 0\n",
    "    for i in range(n_sv):\n",
    "        temp += sv[3,i] * sv[2,i] * Kernel(sv[0:2,i],x)\n",
    "    return temp + theta0"
   ]
  },
  {
   "cell_type": "code",
   "execution_count": 11,
   "metadata": {
    "collapsed": true
   },
   "outputs": [],
   "source": [
    "# mesh out the decision boundaries\n",
    "epsilon = 5e-2\n",
    "H0x1 = list()\n",
    "H0x2 = list()\n",
    "Hpx1 = list()\n",
    "Hpx2 = list()\n",
    "Hnx1 = list()\n",
    "Hnx2 = list()\n",
    "#lamb = np.outer(np.arange(0,1,0.001),np.arange(0,1,0.001))\n",
    "for x1 in np.arange(0,1,0.001):\n",
    "    for x2 in np.arange(0,1,0.001):\n",
    "        x = (x1,x2)\n",
    "        temp = disc(x)\n",
    "        if np.abs(temp) < epsilon:\n",
    "            H0x1.append(x1)\n",
    "            H0x2.append(x2)\n",
    "        elif np.abs(temp-1) < epsilon:\n",
    "            Hpx1.append(x1)\n",
    "            Hpx2.append(x2)\n",
    "        elif np.abs(temp+1) < epsilon:\n",
    "            Hnx1.append(x1)\n",
    "            Hnx2.append(x2)"
   ]
  },
  {
   "cell_type": "code",
   "execution_count": 12,
   "metadata": {},
   "outputs": [
    {
     "data": {
      "image/png": "[encoded data removed]",
      "text/plain": [
       "<matplotlib.figure.Figure at 0x181bd62d68>"
      ]
     },
     "metadata": {},
     "output_type": "display_data"
    }
   ],
   "source": [
    "# seperate support vectors by class\n",
    "svp = sv[:,sv[2,:] ==1.]\n",
    "svn = sv[:,sv[2,:] ==-1.]\n",
    "# start ploting\n",
    "fig = plt.figure()\n",
    "ax = fig.add_subplot(1, 1, 1)\n",
    "for i in range(svp.shape[1]):\n",
    "    ax.add_patch(Circle((svp[0,i],svp[1,i]), 0.025, color = 'r', fill = False))\n",
    "for i in range(svn.shape[1]):\n",
    "    ax.add_patch(Circle((svn[0,i],svn[1,i]), 0.025, color = 'k', fill = False))\n",
    "ptH0 = plt.scatter(H0x1,H0x2, c = 'b', s = 5, alpha = 0.5)\n",
    "ptHp = plt.scatter(Hpx1,Hpx2, c = 'r', s = 5, alpha = 0.5)\n",
    "ptHn = plt.scatter(Hnx1,Hnx2, c = 'k', s = 5, alpha = 0.5)\n",
    "pt1 = plt.scatter(x = C1[0,:], y = C1[1,:],c ='r', marker = 'x', s=80)\n",
    "pt2 = plt.scatter(x = CN1[0,:], y = CN1[1,:],c ='k', marker = 'd', s=80)\n",
    "plt.xlim(0,1)\n",
    "plt.ylim(0,1)\n",
    "plt.legend([pt1,pt2],('Class 1', 'Class -1'), loc = (0.,1.))\n",
    "plt.show()"
   ]
  },
  {
   "cell_type": "code",
   "execution_count": 13,
   "metadata": {},
   "outputs": [
    {
     "data": {
      "text/html": [
       "<div>\n",
       "<style>\n",
       "    .dataframe thead tr:only-child th {\n",
       "        text-align: right;\n",
       "    }\n",
       "\n",
       "    .dataframe thead th {\n",
       "        text-align: left;\n",
       "    }\n",
       "\n",
       "    .dataframe tbody tr th {\n",
       "        vertical-align: top;\n",
       "    }\n",
       "</style>\n",
       "<table border=\"1\" class=\"dataframe\">\n",
       "  <thead>\n",
       "    <tr style=\"text-align: right;\">\n",
       "      <th></th>\n",
       "      <th>0</th>\n",
       "      <th>1</th>\n",
       "      <th>2</th>\n",
       "      <th>3</th>\n",
       "    </tr>\n",
       "  </thead>\n",
       "  <tbody>\n",
       "    <tr>\n",
       "      <th>x1</th>\n",
       "      <td>0.713360</td>\n",
       "      <td>0.267522</td>\n",
       "      <td>0.467601</td>\n",
       "      <td>0.365112</td>\n",
       "    </tr>\n",
       "    <tr>\n",
       "      <th>x2</th>\n",
       "      <td>0.363309</td>\n",
       "      <td>0.365868</td>\n",
       "      <td>0.743765</td>\n",
       "      <td>0.202257</td>\n",
       "    </tr>\n",
       "    <tr>\n",
       "      <th>alpha</th>\n",
       "      <td>5.499514</td>\n",
       "      <td>106.312701</td>\n",
       "      <td>3.917756</td>\n",
       "      <td>25.893410</td>\n",
       "    </tr>\n",
       "  </tbody>\n",
       "</table>\n",
       "</div>"
      ],
      "text/plain": [
       "              0           1         2          3\n",
       "x1     0.713360    0.267522  0.467601   0.365112\n",
       "x2     0.363309    0.365868  0.743765   0.202257\n",
       "alpha  5.499514  106.312701  3.917756  25.893410"
      ]
     },
     "execution_count": 13,
     "metadata": {},
     "output_type": "execute_result"
    }
   ],
   "source": [
    "# List of support vectors on the class 1\n",
    "svp_temp = pd.DataFrame(svp)\n",
    "a = svp_temp.loc[(0,1,3),]\n",
    "a.rename(index={0: 'x1', 1: 'x2', 3:'alpha'})"
   ]
  },
  {
   "cell_type": "code",
   "execution_count": 19,
   "metadata": {},
   "outputs": [
    {
     "data": {
      "text/html": [
       "<div>\n",
       "<style>\n",
       "    .dataframe thead tr:only-child th {\n",
       "        text-align: right;\n",
       "    }\n",
       "\n",
       "    .dataframe thead th {\n",
       "        text-align: left;\n",
       "    }\n",
       "\n",
       "    .dataframe tbody tr th {\n",
       "        vertical-align: top;\n",
       "    }\n",
       "</style>\n",
       "<table border=\"1\" class=\"dataframe\">\n",
       "  <thead>\n",
       "    <tr style=\"text-align: right;\">\n",
       "      <th></th>\n",
       "      <th>0</th>\n",
       "      <th>1</th>\n",
       "      <th>2</th>\n",
       "      <th>3</th>\n",
       "      <th>4</th>\n",
       "    </tr>\n",
       "  </thead>\n",
       "  <tbody>\n",
       "    <tr>\n",
       "      <th>x1</th>\n",
       "      <td>0.205923</td>\n",
       "      <td>0.327213</td>\n",
       "      <td>0.864086</td>\n",
       "      <td>0.511137</td>\n",
       "      <td>0.035103</td>\n",
       "    </tr>\n",
       "    <tr>\n",
       "      <th>x2</th>\n",
       "      <td>0.604845</td>\n",
       "      <td>0.330211</td>\n",
       "      <td>0.533436</td>\n",
       "      <td>0.951309</td>\n",
       "      <td>0.588882</td>\n",
       "    </tr>\n",
       "    <tr>\n",
       "      <th>alpha</th>\n",
       "      <td>3.973828</td>\n",
       "      <td>130.937140</td>\n",
       "      <td>1.242600</td>\n",
       "      <td>0.710218</td>\n",
       "      <td>4.759595</td>\n",
       "    </tr>\n",
       "  </tbody>\n",
       "</table>\n",
       "</div>"
      ],
      "text/plain": [
       "              0           1         2         3         4\n",
       "x1     0.205923    0.327213  0.864086  0.511137  0.035103\n",
       "x2     0.604845    0.330211  0.533436  0.951309  0.588882\n",
       "alpha  3.973828  130.937140  1.242600  0.710218  4.759595"
      ]
     },
     "execution_count": 19,
     "metadata": {},
     "output_type": "execute_result"
    }
   ],
   "source": [
    "# List of support vectors on the class -1\n",
    "svn_temp = pd.DataFrame(svn)\n",
    "a = svn_temp.loc[(0,1,3),]\n",
    "a.rename(index={0: 'x1', 1: 'x2', 3:'alpha'})"
   ]
  },
  {
   "cell_type": "code",
   "execution_count": null,
   "metadata": {},
   "outputs": [],
   "source": []
  }
 ],
 "metadata": {
  "kernelspec": {
   "display_name": "Python 3",
   "language": "python",
   "name": "python3"
  },
  "language_info": {
   "codemirror_mode": {
    "name": "ipython",
    "version": 3
   },
   "file_extension": ".py",
   "mimetype": "text/x-python",
   "name": "python",
   "nbconvert_exporter": "python",
   "pygments_lexer": "ipython3",
   "version": "3.6.3"
  }
 },
 "nbformat": 4,
 "nbformat_minor": 2
}
