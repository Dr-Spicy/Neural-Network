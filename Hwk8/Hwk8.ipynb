{
 "cells": [
  {
   "cell_type": "markdown",
   "metadata": {},
   "source": [
    "##                                                                  CS 559 Hwk 8"
   ]
  },
  {
   "cell_type": "markdown",
   "metadata": {},
   "source": [
    "  ### Xiaohan Liu                             659692941                                        Nov 14 2017"
   ]
  },
  {
   "cell_type": "code",
   "execution_count": 1,
   "metadata": {
    "collapsed": true
   },
   "outputs": [],
   "source": [
    "import numpy as np\n",
    "import pandas as pd\n",
    "import matplotlib.pyplot as plt\n",
    "from matplotlib.patches import Circle\n",
    "from scipy.spatial.distance import euclidean\n",
    "from scipy.interpolate import RectBivariateSpline"
   ]
  },
  {
   "cell_type": "markdown",
   "metadata": {},
   "source": [
    "#### Q1.\n",
    "(100pts) In this computer project, we will design an SVM. You may use an existing library for solving the\n",
    "quadratic optimization problem that is associated with the SVM. For example, the free software Octave has\n",
    "such a command named \\quadprog\" to solve such problems. Other than that, you cannot use any existing\n",
    "machine learning/SVM library. As usual, please include the computer codes in your report."
   ]
  },
  {
   "cell_type": "markdown",
   "metadata": {},
   "source": [
    "(a) Draw 100 points x1; ... ; x100 independently and uniformly at random on [0,1]$^2$. These will be our input patterns."
   ]
  },
  {
   "cell_type": "code",
   "execution_count": 2,
   "metadata": {
    "collapsed": true
   },
   "outputs": [],
   "source": [
    "np.random.seed(21)\n",
    "X = np.random.uniform(0,1,size=200).reshape((2,100))\n",
    "# ith column of X is X_i"
   ]
  },
  {
   "cell_type": "markdown",
   "metadata": {},
   "source": [
    "![ ](b.jpg)"
   ]
  },
  {
   "cell_type": "code",
   "execution_count": 3,
   "metadata": {
    "collapsed": true
   },
   "outputs": [],
   "source": [
    "ctgy = np.ones(100)\n",
    "for i in range(X.shape[1]):\n",
    "    if (X[1,i] >= 0.2 * np.sin(10*X[0,i])+0.3) and ((X[1,i]-0.8)**2 + (X[0,i]-0.5)**2 >= 0.15**2):\n",
    "            ctgy[i] = -1\n",
    "t = np.arange(0,1,0.002)\n",
    "yt = 0.2* np.sin(10*t) +0.3\n",
    "X = np.vstack((X,ctgy))\n",
    "C1 = X[:,X[2,:] ==1][0:2,:]\n",
    "CN1 = X[:,X[2,:] ==-1][0:2,:]"
   ]
  },
  {
   "cell_type": "code",
   "execution_count": 4,
   "metadata": {
    "scrolled": true
   },
   "outputs": [
    {
     "data": {
      "image/png": "[encoded data removed]",
      "text/plain": [
       "<matplotlib.figure.Figure at 0x10945f748>"
      ]
     },
     "metadata": {},
     "output_type": "display_data"
    }
   ],
   "source": [
    "fig = plt.figure()\n",
    "ax = fig.add_subplot(1, 1, 1)\n",
    "ax.add_patch(Circle((0.5,0.8), 0.15, color = 'b', fill = False))\n",
    "ax.plot(t,yt,color = 'b')\n",
    "pt1 = plt.scatter(x = C1[0,:], y = C1[1,:],c ='r', marker = 'x')\n",
    "pt2 = plt.scatter(x = CN1[0,:], y = CN1[1,:],c ='k', marker = 'd')\n",
    "plt.xlim(0,1)\n",
    "plt.ylim(0,1)\n",
    "plt.legend([pt1,pt2],('Class 1', 'Class -1'), loc = (0,1))\n",
    "plt.show()"
   ]
  },
  {
   "cell_type": "markdown",
   "metadata": {},
   "source": [
    "![](c1.png)\n",
    "![](c2.png)"
   ]
  },
  {
   "cell_type": "markdown",
   "metadata": {},
   "source": [
    "I picked the Gaussian Kernel:$K(x,x') = exp(-\\frac{||x-x'||^2}{2})$"
   ]
  },
  {
   "cell_type": "code",
   "execution_count": 5,
   "metadata": {
    "collapsed": true
   },
   "outputs": [],
   "source": [
    "# Get the desired output\n",
    "D = X[2,:]\n",
    "# Define the Kernel function\n",
    "def Kernel(x, y, p = 10):\n",
    "    x = np.array(x)\n",
    "    y = np.array(y)\n",
    "    return (x.T @ y +1) ** p\n",
    "# Compute the Kernel matrix for all 100 data points as K1\n",
    "K1 = np.zeros(100*100).reshape(100,100)\n",
    "for i in range(100):\n",
    "    for j in range(100):\n",
    "        K1[i,j] = Kernel(X[0:2,i],X[0:2,j])"
   ]
  },
  {
   "cell_type": "code",
   "execution_count": 6,
   "metadata": {},
   "outputs": [
    {
     "name": "stdout",
     "output_type": "stream",
     "text": [
      "Optimization terminated successfully.    (Exit mode 0)\n",
      "            Current function value: -282.56371284324973\n",
      "            Iterations: 77\n",
      "            Function evaluations: 79\n",
      "            Gradient evaluations: 77\n"
     ]
    }
   ],
   "source": [
    "# Use Scipy.optimize.minimize to perform the quadratic programing\n",
    "from scipy.optimize import minimize\n",
    "def dual_form (x):\n",
    "    s = (x * D) @ K1 @ (x * D).T \n",
    "    return -(np.sum(x)-0.5*s)\n",
    "def dual_form_d(x):\n",
    "    return -(np.ones(100) - x.T @ np.diag(D)@ K1 @ np.diag(D))\n",
    "cons = ({'type': 'eq',\n",
    "         'fun' : lambda x: np.sum(x * D)},\n",
    "        {'type': 'ineq',\n",
    "         'fun' : lambda x: x})\n",
    "res = minimize(dual_form,np.zeros(100), jac = dual_form_d,\n",
    "                   constraints=cons, method='SLSQP', options={'disp': True, 'maxiter':1000})"
   ]
  },
  {
   "cell_type": "markdown",
   "metadata": {},
   "source": [
    "#### Get the optimized result as the alpha "
   ]
  },
  {
   "cell_type": "code",
   "execution_count": 7,
   "metadata": {},
   "outputs": [
    {
     "data": {
      "text/plain": [
       "array([  -0.       ,    2.9639558,    0.       ,   -0.       ,\n",
       "          7.0178476,   -0.       ,   -0.       ,    3.3300139,\n",
       "         -0.       ,   -0.       ,   -0.       ,   -0.       ,\n",
       "         -0.       ,    4.1494386,   29.5912599,    0.       ,\n",
       "         -0.       ,    0.4698218,    0.       ,   -0.       ,\n",
       "          0.       ,   21.0253473,    9.7665472,    0.       ,\n",
       "         -0.       ,   -0.       ,    5.2388473,   -0.       ,\n",
       "          1.8330879,   -0.       ,   20.1082843,   -0.       ,\n",
       "         -0.       ,    0.       ,   -0.       ,    0.       ,\n",
       "         -0.       ,   25.7749979,    0.       ,    0.       ,\n",
       "         18.7606294,    0.       ,   -0.       ,   17.3331047,\n",
       "          0.       ,   -0.       ,    5.8733231,    2.1153528,\n",
       "         -0.       ,   -0.       ,    0.       ,   20.9536457,\n",
       "         -0.       ,   -0.       ,   16.9981321,   -0.       ,\n",
       "          0.       ,   -0.       ,   -0.       ,   11.5114533,\n",
       "          0.       ,   -0.       ,   12.6934279,    0.       ,\n",
       "         -0.       ,   21.1624501,    7.3527326,   -0.       ,\n",
       "          4.2602181,   -0.       ,   -0.       ,   -0.       ,\n",
       "         -0.       ,   28.4656608,   -0.       ,   -0.       ,\n",
       "          7.5325188,   -0.       ,    1.5098431,   -0.       ,\n",
       "         -0.       ,   -0.       ,   -0.       ,    4.0624753,\n",
       "         -0.       ,  113.3496746,    8.2633275,   95.8090576,\n",
       "         -0.       ,   -0.       ,    0.       ,   -0.       ,\n",
       "          7.0206329,    1.4677673,   -0.       ,   -0.       ,\n",
       "         -0.       ,   12.3822106,    0.       ,   14.9802922])"
      ]
     },
     "execution_count": 7,
     "metadata": {},
     "output_type": "execute_result"
    }
   ],
   "source": [
    "# Get the optimized alpha \n",
    "alpha = np.round(res.x,7) \n",
    "X = np.vstack((X,alpha))\n",
    "alpha"
   ]
  },
  {
   "cell_type": "markdown",
   "metadata": {},
   "source": [
    "#### Get the supporting vectors"
   ]
  },
  {
   "cell_type": "code",
   "execution_count": 8,
   "metadata": {},
   "outputs": [
    {
     "data": {
      "text/html": [
       "<div>\n",
       "<style>\n",
       "    .dataframe thead tr:only-child th {\n",
       "        text-align: right;\n",
       "    }\n",
       "\n",
       "    .dataframe thead th {\n",
       "        text-align: left;\n",
       "    }\n",
       "\n",
       "    .dataframe tbody tr th {\n",
       "        vertical-align: top;\n",
       "    }\n",
       "</style>\n",
       "<table border=\"1\" class=\"dataframe\">\n",
       "  <thead>\n",
       "    <tr style=\"text-align: right;\">\n",
       "      <th></th>\n",
       "      <th>0</th>\n",
       "      <th>1</th>\n",
       "      <th>2</th>\n",
       "      <th>3</th>\n",
       "      <th>4</th>\n",
       "      <th>5</th>\n",
       "      <th>6</th>\n",
       "      <th>7</th>\n",
       "      <th>8</th>\n",
       "      <th>9</th>\n",
       "      <th>...</th>\n",
       "      <th>24</th>\n",
       "      <th>25</th>\n",
       "      <th>26</th>\n",
       "      <th>27</th>\n",
       "      <th>28</th>\n",
       "      <th>29</th>\n",
       "      <th>30</th>\n",
       "      <th>31</th>\n",
       "      <th>32</th>\n",
       "      <th>33</th>\n",
       "    </tr>\n",
       "  </thead>\n",
       "  <tbody>\n",
       "    <tr>\n",
       "      <th>0</th>\n",
       "      <td>0.289110</td>\n",
       "      <td>0.205923</td>\n",
       "      <td>0.663910</td>\n",
       "      <td>0.178125</td>\n",
       "      <td>0.495930</td>\n",
       "      <td>0.970485</td>\n",
       "      <td>0.713360</td>\n",
       "      <td>0.270670</td>\n",
       "      <td>0.516669</td>\n",
       "      <td>0.298692</td>\n",
       "      <td>...</td>\n",
       "      <td>0.634163</td>\n",
       "      <td>0.897313</td>\n",
       "      <td>0.382279</td>\n",
       "      <td>0.511137</td>\n",
       "      <td>0.529077</td>\n",
       "      <td>0.523203</td>\n",
       "      <td>0.303867</td>\n",
       "      <td>0.675392</td>\n",
       "      <td>0.035103</td>\n",
       "      <td>0.438792</td>\n",
       "    </tr>\n",
       "    <tr>\n",
       "      <th>1</th>\n",
       "      <td>0.779247</td>\n",
       "      <td>0.604845</td>\n",
       "      <td>0.614764</td>\n",
       "      <td>0.462799</td>\n",
       "      <td>0.916774</td>\n",
       "      <td>0.672929</td>\n",
       "      <td>0.363309</td>\n",
       "      <td>0.284143</td>\n",
       "      <td>0.760708</td>\n",
       "      <td>0.738607</td>\n",
       "      <td>...</td>\n",
       "      <td>0.423234</td>\n",
       "      <td>0.319210</td>\n",
       "      <td>0.968664</td>\n",
       "      <td>0.951309</td>\n",
       "      <td>0.129406</td>\n",
       "      <td>0.937064</td>\n",
       "      <td>0.519451</td>\n",
       "      <td>0.510675</td>\n",
       "      <td>0.588882</td>\n",
       "      <td>0.655877</td>\n",
       "    </tr>\n",
       "    <tr>\n",
       "      <th>2</th>\n",
       "      <td>-1.000000</td>\n",
       "      <td>-1.000000</td>\n",
       "      <td>-1.000000</td>\n",
       "      <td>1.000000</td>\n",
       "      <td>1.000000</td>\n",
       "      <td>-1.000000</td>\n",
       "      <td>1.000000</td>\n",
       "      <td>1.000000</td>\n",
       "      <td>1.000000</td>\n",
       "      <td>-1.000000</td>\n",
       "      <td>...</td>\n",
       "      <td>-1.000000</td>\n",
       "      <td>1.000000</td>\n",
       "      <td>-1.000000</td>\n",
       "      <td>-1.000000</td>\n",
       "      <td>1.000000</td>\n",
       "      <td>1.000000</td>\n",
       "      <td>-1.000000</td>\n",
       "      <td>-1.000000</td>\n",
       "      <td>-1.000000</td>\n",
       "      <td>-1.000000</td>\n",
       "    </tr>\n",
       "    <tr>\n",
       "      <th>3</th>\n",
       "      <td>2.963956</td>\n",
       "      <td>7.017848</td>\n",
       "      <td>3.330014</td>\n",
       "      <td>4.149439</td>\n",
       "      <td>29.591260</td>\n",
       "      <td>0.469822</td>\n",
       "      <td>21.025347</td>\n",
       "      <td>9.766547</td>\n",
       "      <td>5.238847</td>\n",
       "      <td>1.833088</td>\n",
       "      <td>...</td>\n",
       "      <td>7.532519</td>\n",
       "      <td>1.509843</td>\n",
       "      <td>4.062475</td>\n",
       "      <td>113.349675</td>\n",
       "      <td>8.263328</td>\n",
       "      <td>95.809058</td>\n",
       "      <td>7.020633</td>\n",
       "      <td>1.467767</td>\n",
       "      <td>12.382211</td>\n",
       "      <td>14.980292</td>\n",
       "    </tr>\n",
       "  </tbody>\n",
       "</table>\n",
       "<p>4 rows × 34 columns</p>\n",
       "</div>"
      ],
      "text/plain": [
       "         0         1         2         3          4         5          6   \\\n",
       "0  0.289110  0.205923  0.663910  0.178125   0.495930  0.970485   0.713360   \n",
       "1  0.779247  0.604845  0.614764  0.462799   0.916774  0.672929   0.363309   \n",
       "2 -1.000000 -1.000000 -1.000000  1.000000   1.000000 -1.000000   1.000000   \n",
       "3  2.963956  7.017848  3.330014  4.149439  29.591260  0.469822  21.025347   \n",
       "\n",
       "         7         8         9     ...            24        25        26  \\\n",
       "0  0.270670  0.516669  0.298692    ...      0.634163  0.897313  0.382279   \n",
       "1  0.284143  0.760708  0.738607    ...      0.423234  0.319210  0.968664   \n",
       "2  1.000000  1.000000 -1.000000    ...     -1.000000  1.000000 -1.000000   \n",
       "3  9.766547  5.238847  1.833088    ...      7.532519  1.509843  4.062475   \n",
       "\n",
       "           27        28         29        30        31         32         33  \n",
       "0    0.511137  0.529077   0.523203  0.303867  0.675392   0.035103   0.438792  \n",
       "1    0.951309  0.129406   0.937064  0.519451  0.510675   0.588882   0.655877  \n",
       "2   -1.000000  1.000000   1.000000 -1.000000 -1.000000  -1.000000  -1.000000  \n",
       "3  113.349675  8.263328  95.809058  7.020633  1.467767  12.382211  14.980292  \n",
       "\n",
       "[4 rows x 34 columns]"
      ]
     },
     "execution_count": 8,
     "metadata": {},
     "output_type": "execute_result"
    }
   ],
   "source": [
    "# Get the supporting vectors\n",
    "sv = X[:,X[3,:]>0]\n",
    "n_sv = sv.shape[1]\n",
    "sv_temp = pd.DataFrame(sv)\n",
    "sv_temp"
   ]
  },
  {
   "cell_type": "markdown",
   "metadata": {},
   "source": [
    "#### Get the optimized bias $\\theta$"
   ]
  },
  {
   "cell_type": "code",
   "execution_count": 9,
   "metadata": {},
   "outputs": [
    {
     "data": {
      "text/plain": [
       "0.1064346"
      ]
     },
     "execution_count": 9,
     "metadata": {},
     "output_type": "execute_result"
    }
   ],
   "source": [
    "theta = list()\n",
    "for j in range(n_sv):\n",
    "    temp  = 0\n",
    "    for i in range(n_sv):\n",
    "            temp += sv[3,i] * sv[2,i] * Kernel(sv[0:2,i],sv[0:2,j])\n",
    "    theta.append(sv[2,j] - temp)\n",
    "theta0 = np.mean(theta)\n",
    "round(theta0, 7)"
   ]
  },
  {
   "cell_type": "markdown",
   "metadata": {},
   "source": [
    "#### Now, with the optimized bias calculated, we could start to draw the decision boundary and the two margins. "
   ]
  },
  {
   "cell_type": "code",
   "execution_count": null,
   "metadata": {
    "collapsed": true
   },
   "outputs": [],
   "source": [
    "# Define a discriminant function g(x)\n",
    "def disc (x):\n",
    "    x = np.array(x)\n",
    "    temp = 0\n",
    "    for i in range(n_sv):\n",
    "        temp += sv[3,i] * sv[2,i] * Kernel(sv[0:2,i],x)\n",
    "    return temp + theta0"
   ]
  },
  {
   "cell_type": "code",
   "execution_count": null,
   "metadata": {
    "collapsed": true
   },
   "outputs": [],
   "source": [
    "# mesh out the decision boundaries\n",
    "epsilon = 5e-3\n",
    "H0x1 = list()\n",
    "H0x2 = list()\n",
    "Hpx1 = list()\n",
    "Hpx2 = list()\n",
    "Hnx1 = list()\n",
    "Hnx2 = list()\n",
    "#lamb = np.outer(np.arange(0,1,0.001),np.arange(0,1,0.001))\n",
    "for x1 in np.arange(0,1,0.001):\n",
    "    for x2 in np.arange(0,1,0.001):\n",
    "        x = (x1,x2)\n",
    "        temp = disc(x)\n",
    "        if np.abs(temp) < epsilon:\n",
    "            H0x1.append(x1)\n",
    "            H0x2.append(x2)\n",
    "        elif np.abs(temp-1) < epsilon:\n",
    "            Hpx1.append(x1)\n",
    "            Hpx2.append(x2)\n",
    "        elif np.abs(temp+1) < epsilon:\n",
    "            Hnx1.append(x1)\n",
    "            Hnx2.append(x2)"
   ]
  },
  {
   "cell_type": "code",
   "execution_count": null,
   "metadata": {},
   "outputs": [],
   "source": [
    "# seperate support vectors by class\n",
    "svp = sv[:,sv[2,:] ==1.]\n",
    "svn = sv[:,sv[2,:] ==-1.]\n",
    "# start ploting\n",
    "fig = plt.figure()\n",
    "ax = fig.add_subplot(1, 1, 1)\n",
    "for i in range(svp.shape[1]):\n",
    "    ax.add_patch(Circle((svp[0,i],svp[1,i]), 0.025, color = 'r', fill = False))\n",
    "for i in range(svn.shape[1]):\n",
    "    ax.add_patch(Circle((svn[0,i],svn[1,i]), 0.025, color = 'k', fill = False))\n",
    "ptH0 = plt.scatter(H0x1,H0x2, c = 'b', s = 5, alpha = 0.5)\n",
    "ptHp = plt.scatter(Hpx1,Hpx2, c = 'r', s = 5, alpha = 0.5)\n",
    "ptHn = plt.scatter(Hnx1,Hnx2, c = 'k', s = 5, alpha = 0.5)\n",
    "pt1 = plt.scatter(x = C1[0,:], y = C1[1,:],c ='r', marker = 'x', s=80)\n",
    "pt2 = plt.scatter(x = CN1[0,:], y = CN1[1,:],c ='k', marker = 'd', s=80)\n",
    "plt.xlim(0,1)\n",
    "plt.ylim(0,1)\n",
    "plt.legend([pt1,pt2],('Class 1', 'Class -1'), loc = (0.,1.))\n",
    "plt.show()"
   ]
  },
  {
   "cell_type": "code",
   "execution_count": null,
   "metadata": {},
   "outputs": [],
   "source": [
    "# List of support vectors on the class 1\n",
    "svp_temp = pd.DataFrame(svp)\n",
    "a = svp_temp.loc[(0,1,3),]\n",
    "a.rename(index={0: 'x1', 1: 'x2', 3:'alpha'})"
   ]
  },
  {
   "cell_type": "code",
   "execution_count": null,
   "metadata": {},
   "outputs": [],
   "source": [
    "# List of support vectors on the class -1\n",
    "svn_temp = pd.DataFrame(svn)\n",
    "a = svn_temp.loc[(0,1,3),]\n",
    "a.rename(index={0: 'x1', 1: 'x2', 3:'alpha'})"
   ]
  }
 ],
 "metadata": {
  "kernelspec": {
   "display_name": "Python 3",
   "language": "python",
   "name": "python3"
  },
  "language_info": {
   "codemirror_mode": {
    "name": "ipython",
    "version": 3
   },
   "file_extension": ".py",
   "mimetype": "text/x-python",
   "name": "python",
   "nbconvert_exporter": "python",
   "pygments_lexer": "ipython3",
   "version": "3.6.3"
  }
 },
 "nbformat": 4,
 "nbformat_minor": 2
}
