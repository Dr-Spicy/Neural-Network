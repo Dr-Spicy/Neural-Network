{
 "cells": [
  {
   "cell_type": "markdown",
   "metadata": {},
   "source": [
    "## Q.2"
   ]
  },
  {
   "cell_type": "code",
   "execution_count": 1,
   "metadata": {
    "collapsed": true
   },
   "outputs": [],
   "source": [
    "import os\n",
    "import struct\n",
    "import numpy as np\n",
    "import matplotlib.pyplot as plt\n",
    "import matplotlib as mpl"
   ]
  },
  {
   "cell_type": "markdown",
   "metadata": {},
   "source": [
    "### (c)\n",
    "Each image is 28 $\\times$ 28, so that we will have a neural network 28 $\\times$ 28 = 784 nodes in the input layer,\n",
    "and 10 nodes in the output layer. We will ignore the biases. We wish to find 784 $\\times$ 10 = 7840\n",
    "weights such that the network outputs [1 0 0 ... 0]T if the input image corresponds to a 0,\n",
    "[0 1 0 ... 0]T if the input image corresponds to a 1, and so on."
   ]
  },
  {
   "cell_type": "code",
   "execution_count": 2,
   "metadata": {
    "collapsed": true
   },
   "outputs": [],
   "source": [
    "# save the original binary MNIST data files in 0-255\n",
    "def read(dataset = \"training\", path = \".\"):\n",
    "    if dataset is \"training\":\n",
    "        fname_img = os.path.join(path, 'train-images-idx3-ubyte')\n",
    "        fname_lbl = os.path.join(path, 'train-labels-idx1-ubyte')\n",
    "    elif dataset is \"testing\":\n",
    "        fname_img = os.path.join(path, 't10k-images-idx3-ubyte')\n",
    "        fname_lbl = os.path.join(path, 't10k-labels-idx1-ubyte')\n",
    "    else:\n",
    "        raise ValueError( \"It needs to be between 'testing' and 'training'\")\n",
    "\n",
    "    with open(fname_lbl, 'rb') as flbl:\n",
    "        magic, num = struct.unpack(\">II\", flbl.read(8))\n",
    "        lbl = np.fromfile(flbl, dtype=np.int8)\n",
    "        # print(len(lbl))\n",
    "    with open(fname_img, 'rb') as fimg:\n",
    "        magic, num, rows, cols = struct.unpack(\">IIII\", fimg.read(16))\n",
    "        image = np.fromfile(fimg, dtype=np.uint8)      \n",
    "        image = image.reshape(len(lbl), rows, cols)\n",
    "\n",
    "    get_image = lambda idx: (lbl[idx], image[idx])\n",
    "\n",
    "    for i in range(len(lbl)):\n",
    "        yield get_image(i)\n",
    "\n",
    "training_data = list(read(dataset = \"training\",path = r'C:\\Users\\Han\\Desktop\\Box Sync\\CS 559\\hwk2'))\n",
    "testing_data = list(read(dataset = \"testing\",path = r'C:\\Users\\Han\\Desktop\\Box Sync\\CS 559\\hwk2'))\n",
    "training_label = np.zeros((len(training_data),1))\n",
    "training_desiredout =np.zeros((len(training_data),10))\n",
    "training_image = np.zeros((len(training_data),28*28))\n",
    "testing_label = np.zeros((len(testing_data),1))\n",
    "testing_desiredout = np.zeros((len(testing_data),10))\n",
    "testing_image = np.zeros((len(testing_data),28*28))\n",
    "\n",
    "# split the training and testing data to labels and images\n",
    "for i in range(len(training_data)):\n",
    "    temp = training_data[i]\n",
    "    training_label[i] = temp[0]\n",
    "    training_desiredout[i,temp[0]] = 1 \n",
    "    training_image[i,] = temp[1].reshape(1,28*28)\n",
    "#training_label = training_label.reshape((1,60000))\n",
    "for i in range(len(testing_data)):\n",
    "    temp = testing_data[i]\n",
    "    testing_label[i] = temp[0]\n",
    "    testing_desiredout[i,temp[0]] = 1 \n",
    "    testing_image[i,] = temp[1].reshape(1,28*28)\n",
    "#testing_label = testing_label.reshape((1,10000))"
   ]
  },
  {
   "cell_type": "code",
   "execution_count": 19,
   "metadata": {},
   "outputs": [
    {
     "name": "stdout",
     "output_type": "stream",
     "text": [
      "魔数:2051, 图片数量: 60000张, 图片大小: 28*28\n"
     ]
    }
   ],
   "source": [
    "bin_data = open(r'C:\\Users\\Han\\Desktop\\Box Sync\\CS 559\\hwk2\\train-images-idx3-ubyte', 'rb').read()\n",
    "\n",
    "offset = 0\n",
    "fmt_header = '>iiii'\n",
    "magic_number, num_images, num_rows, num_cols = struct.unpack_from(fmt_header, bin_data, offset)\n",
    "print ('魔数:%d, 图片数量: %d张, 图片大小: %d*%d' % (magic_number, num_images, num_rows, num_cols))\n"
   ]
  },
  {
   "cell_type": "code",
   "execution_count": 16,
   "metadata": {},
   "outputs": [
    {
     "data": {
      "image/png": "[encoded data removed]",
      "text/plain": [
       "<matplotlib.figure.Figure at 0x29f16a0bb00>"
      ]
     },
     "metadata": {},
     "output_type": "display_data"
    }
   ],
   "source": [
    "plt.imshow(training_image[0,:].reshape(28,28),cmap='gray')\n",
    "plt.show()"
   ]
  },
  {
   "cell_type": "markdown",
   "metadata": {
    "collapsed": true
   },
   "source": [
    "### (d)(e)(f)\n",
    "Run Steps (d) and (e) for n = 50, $\\eta$ = 1, and some very small $\\epsilon$ ($\\epsilon$ = 0 should also work). You\n",
    "should observe that step (d) terminates with 0 errors eventually. So, we have 0% error according to\n",
    "our training samples. Plot the epoch number vs. the number of misclassification errors (including\n",
    "epoch 0). Now, run Step (e) and record the percentage of misclassified test samples (over all\n",
    "10000 test samples). "
   ]
  },
  {
   "cell_type": "code",
   "execution_count": 5,
   "metadata": {},
   "outputs": [
    {
     "data": {
      "image/png": "[encoded data removed]",
      "text/plain": [
       "<matplotlib.figure.Figure at 0x1dcf1cc2c18>"
      ]
     },
     "metadata": {},
     "output_type": "display_data"
    }
   ],
   "source": [
    "### Do (d) under (f)'s request\n",
    "\n",
    "## initialization\n",
    "np.random.seed(1)\n",
    "# use first n samples from training data to train the NN\n",
    "n = 50\n",
    "# learning rate\n",
    "eta = 1\n",
    "# convergence threshold\n",
    "epsi = 0\n",
    "# epoch number \n",
    "epoch = 0\n",
    "m = 9\n",
    "# initialize errors\n",
    "errors = np.zeros((m+1,1))\n",
    "# initialize real outputs given the current w\n",
    "y = np.zeros((n,1))\n",
    "# initialize w0\n",
    "w = np.random.rand(10,28*28)\n",
    "# initialize condi\n",
    "conti = True\n",
    "\n",
    "# realize 3)\n",
    "\n",
    "while conti ==True:\n",
    "    if epoch >m:\n",
    "        print('Not converged yet, need more epoches.')\n",
    "        print('But the results are saved.')\n",
    "        break\n",
    "    else:\n",
    "        for i in range(n): # 3.1.1) this loop is where we count the misclassification errors\n",
    "            v = w.dot(training_image[i,])  #compute the induced local field\n",
    "            y[i,:] = np.argmax(v)  # the output of image i by argmax() instead of using the real step funcion, considering  multiple 1s or no 1\n",
    "            diff = y[i,:] - training_label[i]\n",
    "            if diff != 0:\n",
    "                errors[epoch,:] += 1\n",
    "        epoch += 1\n",
    "        for i in range(n): # 3.1.3) (this loop is where we update the weights)\n",
    "            v = w.dot(training_image[i,])\n",
    "            w += eta*(training_desiredout[i].reshape(10,1)-np.heaviside(v.reshape(10,1),1)).dot(training_image[i,].reshape(1,28*28))\n",
    "        conti = errors[(epoch-1),:]/n > epsi\n",
    "        conti = conti.astype(bool)\n",
    "## Plot the epoch number vs. the number of misclassification errors (including epoch 0).\n",
    "x = np.arange(0,m+1,1)\n",
    "plt.plot(x,errors,'k-o',label = '$\\eta$ =1, n =50, $\\epsilon$ = 0')\n",
    "plt.xlabel('epoch')\n",
    "plt.title('Plot for (f)')\n",
    "plt.ylabel('number of misclassification')\n",
    "plt.legend()\n",
    "plt.show()"
   ]
  },
  {
   "cell_type": "code",
   "execution_count": 6,
   "metadata": {},
   "outputs": [
    {
     "data": {
      "text/plain": [
       "0.4559"
      ]
     },
     "execution_count": 6,
     "metadata": {},
     "output_type": "execute_result"
    }
   ],
   "source": [
    "## Now, run Step (e) and record the percentage of misclassified test samples under (f).\n",
    "# Given W obtained from the multicategory PTA.\n",
    "W = w\n",
    "#  Initialize errors = 0.\n",
    "error_test = 0\n",
    "# loop on all testing samples\n",
    "for i in range(10000):\n",
    "    # Calculate the induced local fields with the current test sample and weights:\n",
    "    vprime = W.dot(testing_image[i,])\n",
    "    # Find the largest component of v0 = [v0', v1', ...v9']^T^\n",
    "    predic_out = np.argmax(vprime)\n",
    "    #  If the prediceted output is different to the testing label, error +=1\n",
    "    diff = predic_out - testing_label[i]\n",
    "    if diff != 0:\n",
    "        error_test += 1\n",
    "error_test/10000"
   ]
  },
  {
   "cell_type": "markdown",
   "metadata": {},
   "source": [
    "##### <span style = 'color:red'> Q: What is the error rate when n=50?.</span.>\n",
    "##### <span style = 'color:blue'>A: Error rate is 45.59%. </span>"
   ]
  },
  {
   "cell_type": "markdown",
   "metadata": {},
   "source": [
    "##### <span style = 'color:red'> Q: Explain the discrepancy between the percentages of errors obtained through the training and test samples.</span.>\n",
    "#### <span style = 'color:blue'>A: Here we see the NN was tuned to have a 0 error on those 50 training samples, however, it was clearly an overfitting for these 10,000 testing samples. Thus, the error rates on two batches of samples are different. </span>"
   ]
  },
  {
   "cell_type": "markdown",
   "metadata": {},
   "source": [
    "### (d)(e)(g)\n",
    "Run Steps (d) and (e) for n = 1000, $\\eta$ = 1, and some very small $\\epsilon$ ( $\\epsilon$ = 0 should also work).\n",
    "Again, you should observe that step (d) terminates with 0 errors eventually. Repeat the same\n",
    "tasks as in Step (f). "
   ]
  },
  {
   "cell_type": "code",
   "execution_count": 7,
   "metadata": {},
   "outputs": [
    {
     "data": {
      "image/png": "[encoded data removed]",
      "text/plain": [
       "<matplotlib.figure.Figure at 0x1dcf1cc21d0>"
      ]
     },
     "metadata": {},
     "output_type": "display_data"
    }
   ],
   "source": [
    "### Do (d) under (g)'s request\n",
    "\n",
    "## initialization\n",
    "np.random.seed(1)\n",
    "# use first n samples from training data to train the NN\n",
    "n = 1000\n",
    "# learning rate\n",
    "eta = 1\n",
    "# convergence threshold\n",
    "epsi = 0\n",
    "# epoch number \n",
    "epoch = 0\n",
    "m = 39\n",
    "# initialize errors\n",
    "errors = np.zeros((m+1,1))\n",
    "# initialize real outputs given the current w\n",
    "y = np.zeros((n,1))\n",
    "# initialize w0\n",
    "w = np.random.rand(10,28*28)\n",
    "# initialize condi\n",
    "conti = True\n",
    "\n",
    "# realize 3)\n",
    "while conti ==True:\n",
    "    if epoch >=m:\n",
    "        print('Not converged yet, need more epoches.')\n",
    "        print('But the results are saved.')\n",
    "        break\n",
    "    else:\n",
    "        for i in range(n): # 3.1.1) this loop is where we count the misclassification errors\n",
    "            v = w.dot(training_image[i,])  #compute the induced local field\n",
    "            y[i,:] = np.argmax(v)  # the output of image i by argmax() instead of using the real step funcion, considering  multiple 1s or no 1\n",
    "            diff = y[i,:] - training_label[i]\n",
    "            if diff != 0:\n",
    "                errors[epoch,:] += 1\n",
    "        epoch += 1\n",
    "        for i in range(n): # 3.1.3) (this loop is where we update the weights)\n",
    "            v = w.dot(training_image[i,])\n",
    "            w += eta*(training_desiredout[i].reshape(10,1)-np.heaviside(v.reshape(10,1),1)).dot(training_image[i,].reshape(1,28*28))\n",
    "        conti = errors[(epoch-1),:]/n > epsi\n",
    "        conti = conti.astype(bool)\n",
    "        \n",
    "## Plot the epoch number vs. the number of misclassification errors (including epoch 0).\n",
    "x = np.arange(0,epoch+1,1)\n",
    "plt.plot(x,errors,'k-o',label = '$\\eta$ =1, n =1000, $\\epsilon$ = 0')\n",
    "plt.xlabel('epoch')\n",
    "plt.ylabel('number of misclassification')\n",
    "plt.title('Plot for (g)')\n",
    "plt.legend()\n",
    "plt.show()"
   ]
  },
  {
   "cell_type": "code",
   "execution_count": 8,
   "metadata": {},
   "outputs": [
    {
     "data": {
      "text/plain": [
       "0.1772"
      ]
     },
     "execution_count": 8,
     "metadata": {},
     "output_type": "execute_result"
    }
   ],
   "source": [
    "## Now, run Step (e) and record the percentage of misclassified test samples under (g).\n",
    "# Given W obtained from the multicategory PTA.\n",
    "W = w\n",
    "#  Initialize errors = 0.\n",
    "error_test = 0\n",
    "# loop on all testing samples\n",
    "for i in range(10000):\n",
    "    # Calculate the induced local fields with the current test sample and weights:\n",
    "    vprime = W.dot(testing_image[i,])\n",
    "    # Find the largest component of v0 = [v0', v1', ...v9']^T^\n",
    "    predic_out = np.argmax(vprime)\n",
    "    #  If the prediceted output is different to the testing label, error +=1\n",
    "    diff = predic_out - testing_label[i]\n",
    "    if diff != 0:\n",
    "        error_test += 1\n",
    "error_test/10000"
   ]
  },
  {
   "cell_type": "markdown",
   "metadata": {},
   "source": [
    "##### <span style = 'color:red'> Q: What is the error rate when n=1000?.</span.>\n",
    "##### <span style = 'color:blue'>A: Error rate is 17.72%. </span>"
   ]
  },
  {
   "cell_type": "markdown",
   "metadata": {},
   "source": [
    "##### <span style = 'color:red'> Q: Compare what you obtain here with what you have obtained in Step (f). </span>  \n",
    "#### <span style = 'color:blue'>A: Here we see the NN was tuned to have a 0 error on those 1,000 training samples, which was still an overfitting for these 10,000 testing samples. Thus, the error rates on training and testing are different. However, with the increased training sample size in this case, it will represent more patterns of thses 10,000 testing samples. Therefore, the level of overfitting would be less and the error rate becomes significantly lower.  </span>"
   ]
  },
  {
   "cell_type": "markdown",
   "metadata": {},
   "source": [
    "### (h)\n",
    "Run Step (d) for n = 60000 and $\\epsilon$ = 0. Make note of (i.e., plot) the errors as the number of\n",
    "epochs grow large, and note that the algorithm may not converge. "
   ]
  },
  {
   "cell_type": "code",
   "execution_count": 9,
   "metadata": {},
   "outputs": [
    {
     "name": "stdout",
     "output_type": "stream",
     "text": [
      "Not converged yet, need more epoches.\n",
      "But the results are saved.\n"
     ]
    },
    {
     "data": {
      "image/png": "[encoded data removed]",
      "text/plain": [
       "<matplotlib.figure.Figure at 0x1dc83fae5c0>"
      ]
     },
     "metadata": {},
     "output_type": "display_data"
    }
   ],
   "source": [
    "### Do (d) under (h)'s request\n",
    "\n",
    "## initialization\n",
    "np.random.seed(1)\n",
    "# use first n samples from training data to train the NN\n",
    "n = 60000\n",
    "# learning rate\n",
    "eta = 1\n",
    "# convergence threshold\n",
    "epsi = 0\n",
    "# epoch number \n",
    "epoch = 0\n",
    "m = 100\n",
    "# initialize errors\n",
    "errors = np.zeros((m+1,1))\n",
    "# initialize real outputs given the current w\n",
    "y = np.zeros((n,1))\n",
    "# initialize w0\n",
    "w = np.random.rand(10,28*28)\n",
    "# initialize condi\n",
    "conti = True\n",
    "\n",
    "# realize 3)\n",
    "while conti ==True:\n",
    "    if epoch >=m:\n",
    "        print('Not converged yet, need more epoches.')\n",
    "        print('But the results are saved.')\n",
    "        break\n",
    "    else:\n",
    "        for i in range(n): # 3.1.1) this loop is where we count the misclassification errors\n",
    "            v = w.dot(training_image[i,])  #compute the induced local field\n",
    "            y[i,:] = np.argmax(v)  # the output of image i by argmax() instead of using the real step funcion, considering  multiple 1s or no 1\n",
    "            diff = y[i,:] - training_label[i]\n",
    "            if diff != 0:\n",
    "                errors[epoch,:] += 1\n",
    "        epoch += 1\n",
    "        for i in range(n): # 3.1.3) (this loop is where we update the weights)\n",
    "            v = w.dot(training_image[i,])\n",
    "            w += eta*(training_desiredout[i].reshape(10,1)-np.heaviside(v.reshape(10,1),1)).dot(training_image[i,].reshape(1,28*28))\n",
    "        conti = errors[(epoch-1),:]/n > epsi\n",
    "        conti = conti.astype(bool)\n",
    "## Plot the epoch number vs. the number of misclassification errors (including epoch 0).\n",
    "x = np.arange(0,epoch+1,1)\n",
    "plt.plot(x,errors,'k-o',label = '$\\eta$ =1, n =60000, $\\epsilon$ = 0')\n",
    "plt.xlabel('epoch')\n",
    "plt.ylabel('number of misclassification')\n",
    "plt.title('Plot for (g)')\n",
    "plt.legend()\n",
    "plt.show()"
   ]
  },
  {
   "cell_type": "code",
   "execution_count": 10,
   "metadata": {
    "scrolled": true
   },
   "outputs": [
    {
     "data": {
      "text/plain": [
       "0.1608"
      ]
     },
     "execution_count": 10,
     "metadata": {},
     "output_type": "execute_result"
    }
   ],
   "source": [
    "## Now, run Step (e) and record the percentage of misclassified test samples under (g).\n",
    "# Given W obtained from the multicategory PTA.\n",
    "W = w\n",
    "#  Initialize errors = 0.\n",
    "error_test = 0\n",
    "# loop on all testing samples\n",
    "for i in range(10000):\n",
    "    # Calculate the induced local fields with the current test sample and weights:\n",
    "    vprime = W.dot(testing_image[i,])\n",
    "    # Find the largest component of v0 = [v0', v1', ...v9']^T^\n",
    "    predic_out = np.argmax(vprime)\n",
    "    #  If the prediceted output is different to the testing label, error +=1\n",
    "    diff = predic_out - testing_label[i]\n",
    "    if diff != 0:\n",
    "        error_test += 1\n",
    "error_test/10000"
   ]
  },
  {
   "cell_type": "markdown",
   "metadata": {},
   "source": [
    "##### <span style = 'color:red'> Q: What is the error rate when n=60000?.</span.>\n",
    "##### <span style = 'color:blue'>A: Error rate is 16.08%. </span>"
   ]
  },
  {
   "cell_type": "markdown",
   "metadata": {},
   "source": [
    "##### <span style='color:red'> Q: Comment on the results.</span>\n",
    "##### <span style='color:blue'> A: At first, the selection of 0 as the $\\epsilon$ decides the tuned NN are predestined to be overfitted over the training data, regardless of the fact that the entire training sets are used in the training. Nevertheless, as the reason described in question (g) already, the inclusion of all training samples mitigates the influences of the overfitting to its minimal possible extension. Besides, it should be noted that after 100 epochs, the convergence was still not achieved and it seemed like the convergence was likely to be impossible. Therefore, the error rate on the testing samples was brought down to a new low level. </span>"
   ]
  },
  {
   "cell_type": "markdown",
   "metadata": {
    "collapsed": true
   },
   "source": [
    "### (i)\n",
    "Using your observations in the previous step, pick some appropriate value for $\\epsilon$ (such that your\n",
    "algorithm in (d) will eventually terminate). Repeat the following two subitems three times with\n",
    "different initial weights and comment on the results:  \n",
    "Run Step (d) for n = 60000, some $\\eta$ of your choice and the $\\epsilon$ you picked.  \n",
    "Run Step (e) to with the W you obtained in the previous step.  \n"
   ]
  },
  {
   "cell_type": "code",
   "execution_count": 13,
   "metadata": {},
   "outputs": [
    {
     "data": {
      "image/png": "[encoded data removed]",
      "text/plain": [
       "<matplotlib.figure.Figure at 0x1dc84368e48>"
      ]
     },
     "metadata": {},
     "output_type": "display_data"
    }
   ],
   "source": [
    "### 1st intialized w\n",
    "### Do (d) under (i)'s request\n",
    "\n",
    "## initialization\n",
    "np.random.seed(4)\n",
    "# use first n samples from training data to train the NN\n",
    "n = 60000\n",
    "# learning rate\n",
    "eta = 1\n",
    "# convergence threshold\n",
    "epsi = 0.13\n",
    "# epoch number \n",
    "epoch = 0\n",
    "m = 100\n",
    "# initialize errors\n",
    "errors = np.zeros((m,1))\n",
    "# initialize real outputs given the current w\n",
    "y = np.zeros((n,1))\n",
    "# initialize w0\n",
    "w = np.random.rand(10,28*28)\n",
    "# initialize condi\n",
    "conti = True\n",
    "\n",
    "# realize 3)\n",
    "while conti ==True:\n",
    "    if epoch >=m:\n",
    "        print('Not converged yet, need more epoches.')\n",
    "        print('But the results are saved.')\n",
    "        break\n",
    "    else:\n",
    "        for i in range(n): # 3.1.1) this loop is where we count the misclassification errors\n",
    "            v = w.dot(training_image[i,])  #compute the induced local field\n",
    "            y[i,:] = np.argmax(v)  # the output of image i by argmax() instead of using the real step funcion, considering  multiple 1s or no 1\n",
    "            diff = y[i,:] - training_label[i]\n",
    "            if diff != 0:\n",
    "                errors[epoch,:] += 1\n",
    "        epoch += 1\n",
    "        for i in range(n): # 3.1.3) (this loop is where we update the weights)\n",
    "            v = w.dot(training_image[i,])\n",
    "            w += eta*(training_desiredout[i].reshape(10,1)-np.heaviside(v.reshape(10,1),1)).dot(training_image[i,].reshape(1,28*28))\n",
    "        conti = errors[(epoch-1),:]/n > epsi\n",
    "        conti = conti.astype(bool)\n",
    "\n",
    "        ## Plot the epoch number vs. the number of misclassification errors (including epoch 0).\n",
    "x = np.arange(0,m,1)\n",
    "plt.plot(x[0:epoch],errors[0:epoch],'k-o',label = '$\\eta$ =1, n =60000, $\\epsilon$ = 0.13,random seed = 4')\n",
    "plt.xlabel('epoch')\n",
    "plt.ylabel('number of misclassification')\n",
    "plt.title('1st repeatition for (i)')\n",
    "plt.legend()\n",
    "plt.show()"
   ]
  },
  {
   "cell_type": "code",
   "execution_count": 14,
   "metadata": {},
   "outputs": [
    {
     "data": {
      "text/plain": [
       "0.1425"
      ]
     },
     "execution_count": 14,
     "metadata": {},
     "output_type": "execute_result"
    }
   ],
   "source": [
    "## Now, run Step (e) and record the percentage of misclassified test samples under (g).\n",
    "# Given W obtained from the multicategory PTA.\n",
    "W = w\n",
    "#  Initialize errors = 0.\n",
    "error_test = 0\n",
    "# loop on all testing samples\n",
    "for i in range(10000):\n",
    "    # Calculate the induced local fields with the current test sample and weights:\n",
    "    vprime = W.dot(testing_image[i,])\n",
    "    # Find the largest component of v0 = [v0', v1', ...v9']^T^\n",
    "    predic_out = np.argmax(vprime)\n",
    "    #  If the prediceted output is different to the testing label, error +=1\n",
    "    diff = predic_out - testing_label[i]\n",
    "    if diff != 0:\n",
    "        error_test += 1\n",
    "error_test/10000"
   ]
  },
  {
   "cell_type": "code",
   "execution_count": 15,
   "metadata": {},
   "outputs": [
    {
     "data": {
      "image/png": "[encoded data removed]",
      "text/plain": [
       "<matplotlib.figure.Figure at 0x1dcf255e4a8>"
      ]
     },
     "metadata": {},
     "output_type": "display_data"
    }
   ],
   "source": [
    "### 2nd intialized w\n",
    "### Do (d) under (i)'s request\n",
    "## initialization\n",
    "np.random.seed(3)\n",
    "# use first n samples from training data to train the NN\n",
    "n = 60000\n",
    "# learning rate\n",
    "eta = 1\n",
    "# convergence threshold\n",
    "epsi = 0.13\n",
    "# epoch number \n",
    "epoch = 0\n",
    "m = 100\n",
    "# initialize errors\n",
    "errors = np.zeros((m,1))\n",
    "# initialize real outputs given the current w\n",
    "y = np.zeros((n,1))\n",
    "# initialize w0\n",
    "w = np.random.rand(10,28*28)\n",
    "# initialize condi\n",
    "conti = True\n",
    "\n",
    "# realize 3)\n",
    "while conti ==True:\n",
    "    if epoch >=m:\n",
    "        print('Not converged yet, need more epoches.')\n",
    "        print('But the results are saved.')\n",
    "        break\n",
    "    else:\n",
    "        for i in range(n): # 3.1.1) this loop is where we count the misclassification errors\n",
    "            v = w.dot(training_image[i,])  #compute the induced local field\n",
    "            y[i,:] = np.argmax(v)  # the output of image i by argmax() instead of using the real step funcion, considering  multiple 1s or no 1\n",
    "            diff = y[i,:] - training_label[i]\n",
    "            if diff != 0:\n",
    "                errors[epoch,:] += 1\n",
    "        epoch += 1\n",
    "        for i in range(n): # 3.1.3) (this loop is where we update the weights)\n",
    "            v = w.dot(training_image[i,])\n",
    "            w += eta*(training_desiredout[i].reshape(10,1)-np.heaviside(v.reshape(10,1),1)).dot(training_image[i,].reshape(1,28*28))\n",
    "        conti = errors[(epoch-1),:]/n > epsi\n",
    "        conti = conti.astype(bool)\n",
    "\n",
    "        ## Plot the epoch number vs. the number of misclassification errors (including epoch 0).\n",
    "x = np.arange(0,m,1)\n",
    "plt.plot(x[0:epoch],errors[0:epoch],'k-o',label = '$\\eta$ =1, n =60000, $\\epsilon$ = 0.13,random seed = 3')\n",
    "plt.xlabel('epoch')\n",
    "plt.ylabel('number of misclassification')\n",
    "plt.title('2nd repeatition for (i)')\n",
    "plt.legend()\n",
    "plt.show()"
   ]
  },
  {
   "cell_type": "code",
   "execution_count": 16,
   "metadata": {},
   "outputs": [
    {
     "data": {
      "text/plain": [
       "0.1587"
      ]
     },
     "execution_count": 16,
     "metadata": {},
     "output_type": "execute_result"
    }
   ],
   "source": [
    "## Now, run Step (e) and record the percentage of misclassified test samples under (g).\n",
    "# Given W obtained from the multicategory PTA.\n",
    "W = w\n",
    "#  Initialize errors = 0.\n",
    "error_test = 0\n",
    "# loop on all testing samples\n",
    "for i in range(10000):\n",
    "    # Calculate the induced local fields with the current test sample and weights:\n",
    "    vprime = W.dot(testing_image[i,])\n",
    "    # Find the largest component of v0 = [v0', v1', ...v9']^T^\n",
    "    predic_out = np.argmax(vprime)\n",
    "    #  If the prediceted output is different to the testing label, error +=1\n",
    "    diff = predic_out - testing_label[i]\n",
    "    if diff != 0:\n",
    "        error_test += 1\n",
    "error_test/10000"
   ]
  },
  {
   "cell_type": "code",
   "execution_count": 17,
   "metadata": {},
   "outputs": [
    {
     "data": {
      "image/png": "[encoded data removed]",
      "text/plain": [
       "<matplotlib.figure.Figure at 0x1dc8545b518>"
      ]
     },
     "metadata": {},
     "output_type": "display_data"
    }
   ],
   "source": [
    "### 3rd intialized w\n",
    "### Do (d) under (i)'s request\n",
    "## initialization\n",
    "np.random.seed(2)\n",
    "# use first n samples from training data to train the NN\n",
    "n = 60000\n",
    "# learning rate\n",
    "eta = 1\n",
    "# convergence threshold\n",
    "epsi = 0.13\n",
    "# epoch number \n",
    "epoch = 0\n",
    "m = 100\n",
    "# initialize errors\n",
    "errors = np.zeros((m,1))\n",
    "# initialize real outputs given the current w\n",
    "y = np.zeros((n,1))\n",
    "# initialize w0\n",
    "w = np.random.rand(10,28*28)\n",
    "# initialize condi\n",
    "conti = True\n",
    "# realize 3)\n",
    "while conti ==True:\n",
    "    if epoch >=m:\n",
    "        print('Not converged yet, need more epoches.')\n",
    "        print('But the results are saved.')\n",
    "        break\n",
    "    else:\n",
    "        for i in range(n): # 3.1.1) this loop is where we count the misclassification errors\n",
    "            v = w.dot(training_image[i,])  #compute the induced local field\n",
    "            y[i,:] = np.argmax(v)  # the output of image i by argmax() instead of using the real step funcion, considering  multiple 1s or no 1\n",
    "            diff = y[i,:] - training_label[i]\n",
    "            if diff != 0:\n",
    "                errors[epoch,:] += 1\n",
    "        epoch += 1\n",
    "        for i in range(n): # 3.1.3) (this loop is where we update the weights)\n",
    "            v = w.dot(training_image[i,])\n",
    "            w += eta*(training_desiredout[i].reshape(10,1)-np.heaviside(v.reshape(10,1),1)).dot(training_image[i,].reshape(1,28*28))\n",
    "        conti = errors[(epoch-1),:]/n > epsi\n",
    "        conti = conti.astype(bool)\n",
    "\n",
    "        ## Plot the epoch number vs. the number of misclassification errors (including epoch 0).\n",
    "x = np.arange(0,m,1)\n",
    "plt.plot(x[0:epoch],errors[0:epoch],'k-o',label = '$\\eta$ =1, n =60000, $\\epsilon$ = 0.13,random seed = 2')\n",
    "plt.xlabel('epoch')\n",
    "plt.ylabel('number of misclassification')\n",
    "plt.title('3rd repeatition for (i)')\n",
    "plt.legend()\n",
    "plt.show()"
   ]
  },
  {
   "cell_type": "code",
   "execution_count": 18,
   "metadata": {},
   "outputs": [
    {
     "data": {
      "text/plain": [
       "0.1587"
      ]
     },
     "execution_count": 18,
     "metadata": {},
     "output_type": "execute_result"
    }
   ],
   "source": [
    "## Now, run Step (e) and record the percentage of misclassified test samples under (g).\n",
    "# Given W obtained from the multicategory PTA.\n",
    "W = w\n",
    "#  Initialize errors = 0.\n",
    "error_test = 0\n",
    "# loop on all testing samples\n",
    "for i in range(10000):\n",
    "    # Calculate the induced local fields with the current test sample and weights:\n",
    "    vprime = W.dot(testing_image[i,])\n",
    "    # Find the largest component of v0 = [v0', v1', ...v9']^T^\n",
    "    predic_out = np.argmax(vprime)\n",
    "    #  If the prediceted output is different to the testing label, error +=1\n",
    "    diff = predic_out - testing_label[i]\n",
    "    if diff != 0:\n",
    "        error_test += 1\n",
    "error_test/10000"
   ]
  },
  {
   "cell_type": "markdown",
   "metadata": {
    "collapsed": true
   },
   "source": [
    "##### <span style='color:red'> Q: Comment on the results.</span>"
   ]
  },
  {
   "cell_type": "markdown",
   "metadata": {
    "collapsed": true
   },
   "source": [
    "##### <span style='color:blue'> A: By setting three different random seeds, we initialized the W matrix differently. Yet, with the same learning rate, only by relaxing the convergence threshold from 0 to 0.13, we discovered  three record low error rates on the testing samples as 0.1425, 0.1587 and 0.1587 compared to the 0.1608 when $\\epsilon = 0$. Meanwhile, it should be noted that when  $\\epsilon = 0$ the training won't converge whatsoever, but when $\\epsilon= 0.13$ was set, the convergence happened at the epoch 75, 2 and 44, which was another plus advantage. Hence, they both collaborated our previous argument on the overfitting on the training sample would compromise the tuned NN's performance on the testing samples. Therefore, the overfitting would be suppressed by setting an appropriate convergence threshold rather than 0 and the inclusion of a larger training sample size.  </span>"
   ]
  }
 ],
 "metadata": {
  "kernelspec": {
   "display_name": "Python 3",
   "language": "python",
   "name": "python3"
  },
  "language_info": {
   "codemirror_mode": {
    "name": "ipython",
    "version": 3
   },
   "file_extension": ".py",
   "mimetype": "text/x-python",
   "name": "python",
   "nbconvert_exporter": "python",
   "pygments_lexer": "ipython3",
   "version": "3.6.2"
  }
 },
 "nbformat": 4,
 "nbformat_minor": 2
}
