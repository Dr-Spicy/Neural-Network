{
 "cells": [
  {
   "cell_type": "code",
   "execution_count": null,
   "metadata": {
    "collapsed": true
   },
   "outputs": [],
   "source": [
    "  ### 2nd intialized w\n",
    "### Do (d) under (i)'s request\n",
    "## initialization\n",
    "np.random.seed(3)\n",
    "# use first n samples from training data to train the NN\n",
    "n = 60000\n",
    "# learning rate\n",
    "eta = 1\n",
    "# convergence threshold\n",
    "epsi = 0.13\n",
    "# epoch number \n",
    "epoch = 0\n",
    "m = 100\n",
    "# initialize errors\n",
    "errors = np.zeros((m,1))\n",
    "# initialize real outputs given the current w\n",
    "y = np.zeros((n,1))\n",
    "# initialize w0\n",
    "w = np.random.rand(10,28*28)\n",
    "# initialize condi\n",
    "conti = True\n",
    "\n",
    "# realize 3)\n",
    "while conti ==True:\n",
    "    if epoch >=m:\n",
    "        print('Not converged yet, need more epoches.')\n",
    "        print('But the results are saved.')\n",
    "        break\n",
    "    else:\n",
    "        for i in range(n): # 3.1.1) this loop is where we count the misclassification errors\n",
    "            v = w.dot(training_image[i,])  #compute the induced local field\n",
    "            y[i,:] = np.argmax(v)  # the output of image i by argmax() instead of using the real step funcion, considering  multiple 1s or no 1\n",
    "            diff = y[i,:] - training_label[i]\n",
    "            if diff != 0:\n",
    "                errors[epoch,:] += 1\n",
    "        epoch += 1\n",
    "        for i in range(n): # 3.1.3) (this loop is where we update the weights)\n",
    "            v = w.dot(training_image[i,])\n",
    "            w += eta*(training_desiredout[i].reshape(10,1)-np.heaviside(v.reshape(10,1),1)).dot(training_image[i,].reshape(1,28*28))\n",
    "        conti = errors[(epoch-1),:]/n > epsi\n",
    "        conti = conti.astype(bool)\n",
    "\n",
    "        ## Plot the epoch number vs. the number of misclassification errors (including epoch 0).\n",
    "x = np.arange(0,m,1)\n",
    "plt.plot(x[0:epoch],errors[0:epoch],'k-o',label = '$\\eta$ =1, n =60000, $\\epsilon$ = 0.13,random seed = 3')\n",
    "plt.xlabel('epoch')\n",
    "plt.ylabel('number of misclassification')\n",
    "plt.title('2nd repeatition for (i)')\n",
    "plt.legend()\n",
    "plt.show()"
   ]
  }
 ],
 "metadata": {
  "kernelspec": {
   "display_name": "Python 3",
   "language": "python",
   "name": "python3"
  },
  "language_info": {
   "codemirror_mode": {
    "name": "ipython",
    "version": 3
   },
   "file_extension": ".py",
   "mimetype": "text/x-python",
   "name": "python",
   "nbconvert_exporter": "python",
   "pygments_lexer": "ipython3",
   "version": "3.6.2"
  }
 },
 "nbformat": 4,
 "nbformat_minor": 2
}
