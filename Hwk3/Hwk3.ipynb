{
 "cells": [
  {
   "cell_type": "markdown",
   "metadata": {},
   "source": [
    "### Q.1"
   ]
  },
  {
   "cell_type": "markdown",
   "metadata": {},
   "source": [
    "##### <span style='color:red'>Show that if X has linearly independent columns, then $X^TX$ is invertible, and $X^+ = (X^TX)^{-1}X^T$ .</span>"
   ]
  },
  {
   "cell_type": "markdown",
   "metadata": {},
   "source": [
    "Do a SVD on X:  \n",
    "$X=QDP^T$, where $Q\\subset \\mathbb{R} ^{m\\times m}, P\\subset \\mathbb{R} ^{q\\times q}, D\\subset \\mathbb{R} ^{m\\times q}$. Both $Q$ and $P$ are orthonormal matrices.   $D$ is full column as well and $\\lambda_i >0, \\forall i$. \n",
    "$D = \\begin{bmatrix}\\lambda_1 & 0 & \\cdots & 0 \\\\ 0 & \\lambda_2 & \\cdots & \\vdots \\\\ \\vdots & & \\ddots & \\vdots \\\\ 0 & \\cdots & 0 & \\lambda_q\\\\ \\vdots & \\ddots &  & 0 \\\\ \\vdots & & \\ddots &\\vdots \\\\ 0 & \\cdots & \\cdots & 0 \\end{bmatrix}$   \n",
    "So, $X^TX=PD^TQ^TQDP^T = PD^TDP^T$, which implies $|\\det(X^TX)|=|det(P)||det(D^TD)||det(P^T)|$. \n",
    "Meanwhile, the determinant of orthonormal matrices are either 1 or -1, and $det(D^TD) = \\Pi_{i=1}^q \\lambda_i^2 \\neq 0$. Thus $\\det(X^TX)\\neq 0$. We also know that $det(A) \\neq 0 \\iff A$ is invertible. Thus, $X^TX$ is invertible. \n",
    "\n",
    "(A).  Because $XX^+$ is invertible, we have $XX^+ = (X^+)^TX^T$  \n",
    "(B).$XX^+X = X \\Rightarrow (X^+)^TX^TX = X \\Rightarrow  (X^+)^TX^TX(X^TX)^{-1} = X(X^TX)^{-1} \\Rightarrow (X^+)^T = X(X^TX)^{-1} \\Rightarrow X^+ = (X^TX)^{-1}X^T$"
   ]
  },
  {
   "cell_type": "markdown",
   "metadata": {},
   "source": [
    "##### <span style='color:red'>Show that if X has linearly independent rows, then $XX^T$ is invertible, and $X^+ = X^T(X^TX)^{-1}$ .</span>"
   ]
  },
  {
   "cell_type": "markdown",
   "metadata": {},
   "source": [
    "Do a SVD on X:  \n",
    "$X=QDP^T$, where $Q\\subset \\mathbb{R} ^{m\\times m}, P\\subset \\mathbb{R} ^{q\\times q}, D\\subset \\mathbb{R} ^{m\\times q}$. Both $Q$ and $P$ are orthonormal matrices.   $D$ is full row as well and $\\lambda_i >0, \\forall i$. \n",
    "$D = \\begin{bmatrix}\\lambda_1 & 0 & \\cdots & 0 & \\cdots & 0 \\\\ 0 & \\lambda_2 & \\cdots & \\vdots & & \\vdots \\\\ \\vdots & & \\ddots & \\vdots & & \\vdots \\\\ 0 & \\cdots & 0 & \\lambda_m & \\cdots & 0\\end{bmatrix}$  \n",
    "So, $XX^T=QDP^TPD^TQ^T = QDD^TQ^T$, which implies $|\\det(X^TX)|=|det(Q)||det(DD^T)||det(Q^T)|$. \n",
    "Meanwhile, the determinant of orthonormal matrices are either 1 or -1, and $det(DD^T) = \\Pi_{i=1}^m \\lambda_i^2 \\neq 0$. Thus $\\det(X^TX)\\neq 0$. We also know that $det(A) \\neq 0 \\iff A$ is invertible. Thus, $XX^T$ is invertible. \n",
    "\n",
    "(C).  Because $X^+X$ is invertible, we have $X^+X = X^T(X^+)^T$  \n",
    "(D). $XX^+X = X \\Rightarrow XX^T(X^+)^T = X \\Rightarrow  (X^TX)^{-1}XX^T(X^+)^T = (X^TX)^{-1}X \\Rightarrow (X^+)^T =  (X^TX)^{-1}X \\Rightarrow X^+ = X^T(X^TX)^{-1}$"
   ]
  },
  {
   "cell_type": "code",
   "execution_count": 20,
   "metadata": {
    "collapsed": true
   },
   "outputs": [],
   "source": [
    "import numpy as np\n",
    "import matplotlib.pyplot as plt\n",
    "import matplotlib as mpl"
   ]
  },
  {
   "cell_type": "markdown",
   "metadata": {},
   "source": [
    "### Q.2  Let f(x, y) = − log(1 − x − y) − log x − log y with domain D = {(x, y) : x + y < 1, x > 0, y > 0}.  \n",
    "#### (a) Find the gradient and the Hessian of f on paper."
   ]
  },
  {
   "cell_type": "markdown",
   "metadata": {},
   "source": [
    "$\\nabla f(x,y) = (\\frac{\\partial f(x,y)}{\\partial x},\\frac{\\partial f(x,y)}{\\partial y})^T = (\\frac{1}{1-x-y}-\\frac{1}{x}, \\frac{1}{1-x-y}-\\frac{1}{y})^T$  \n",
    "  \n",
    "$H = \\begin{bmatrix} \\frac{\\partial^2 f(x,y)}{\\partial x^2} & \\frac{\\partial^2 f(x,y)}{\\partial x \\partial y}\\\\ \\frac{\\partial^2 f(x,y)}{\\partial y \\partial x} & \\frac{\\partial^2 f(x,y)}{\\partial y^2}  \\end{bmatrix} =\\begin{bmatrix} \\frac{1}{(1-x-y)^2}+\\frac{1}{x^2} & \\frac{1}{(1-x-y)^2} \\\\ \\frac{1}{(1-x-y)^2} & \\frac{1}{(1-x-y)^2}+\\frac{1}{y^2} \\end{bmatrix}$"
   ]
  },
  {
   "cell_type": "markdown",
   "metadata": {},
   "source": [
    "#### (b) Begin with an initial point in w_0_ ∈ D with η = 1 and estimate the global minimum of f using the Gradient descent method, which will provide you with points w1, w2, . . . ,. Report your initial point w0 and η of your choice. Draw a graph that shows the trajectory followed by the points at each iteration. Also, plot the energies f(w0), f(w1), . . . , achieved by the points at each iteration. Note: During the iterations, your point may “jump” out of D where f is undefined. If that happens, change your initial starting point and/or η."
   ]
  },
  {
   "cell_type": "code",
   "execution_count": 21,
   "metadata": {},
   "outputs": [
    {
     "data": {
      "text/plain": [
       "array([ 0.2814473 ,  0.07728957])"
      ]
     },
     "execution_count": 21,
     "metadata": {},
     "output_type": "execute_result"
    }
   ],
   "source": [
    "np.random.seed(45)\n",
    "# define a loss function\n",
    "def losfunction (w):\n",
    "    loss = -np.log(1-np.sum(w))-np.log(w[0])-np.log(w[1])\n",
    "    return loss\n",
    "\n",
    "#  setup\n",
    "w = list()\n",
    "loss = list()\n",
    "epsilon = 0.005\n",
    "eta = 1\n",
    "j= 0\n",
    "# give a dummy start point which will be deleted later so that index is working\n",
    "temp = np.array([0.1,0.8])\n",
    "temploss = losfunction(temp)\n",
    "w.append(temp)\n",
    "loss.append(temploss)\n",
    "\n",
    "# initialize the starting point w_0 in D\n",
    "temp = np.random.uniform(0,1,2)\n",
    "while (np.sum(temp)>=1):\n",
    "        temp = np.random.uniform(0,1,2)\n",
    "# append the first point in w\n",
    "w.append(temp)\n",
    "temploss = losfunction(temp)\n",
    "loss.append(temploss)\n",
    "\n",
    "# the while loops ends when converge\n",
    "while (np.abs(loss[-1]-loss[-2])>=epsilon):\n",
    "    # find the gradient\n",
    "    g = np.array([(1/(1-np.sum(w[-1]))-1/w[-1][0]),(1/(1-np.sum(w[-1]))-1/w[-1][1])])\n",
    "    temp = w[-1]-eta*g\n",
    "    # if counter k is larger than 5, the overall eta will be reduced by 1/2\n",
    "    etanew = eta\n",
    "    k = 0\n",
    "    # if the temp is outside the D, will redo the while loop and add the counter\n",
    "    while (sum(temp)>=1 or temp[0]<=0 or temp[1]<=0):\n",
    "        etanew = etanew/2\n",
    "        temp = w[-1]-etanew*g\n",
    "        k += 1\n",
    "        j += 1\n",
    "    w.append(temp)\n",
    "    temploss = losfunction(temp)\n",
    "    loss.append(temploss)\n",
    "    \n",
    "    if k>=5:\n",
    "        eta = eta/2\n",
    "# delete the dummy point\n",
    "del(w[0])\n",
    "del(loss[0])\n",
    "# convert w to ndarray for plot\n",
    "w = np.asarray(w)\n",
    "w[0]"
   ]
  },
  {
   "cell_type": "markdown",
   "metadata": {},
   "source": [
    "#### <span style = 'color:red'>Q. Report your initial point w0 and η of your choice.</span>\n",
    "#### <span style = 'color:blue'>The intial point is at [ 0.2814473 ,  0.07728957]. The intial eta is 1, but if the update is out of boundaries, eta will temporarily shrink by 1/2 until the update is within boundaries. Also, if it takes for more than 5 temporaty attempts to shrink the eta for one iteration, the overall eta will be shrinked by 1/2. </span>"
   ]
  },
  {
   "cell_type": "markdown",
   "metadata": {},
   "source": [
    "#### <span style = 'color:red'>Q. Draw a graph that shows the trajectory followed by the points at each iteration. </span>"
   ]
  },
  {
   "cell_type": "code",
   "execution_count": 22,
   "metadata": {},
   "outputs": [
    {
     "data": {
      "image/png": "[encoded data removed]",
      "text/plain": [
       "<matplotlib.figure.Figure at 0x1fa04557940>"
      ]
     },
     "metadata": {},
     "output_type": "display_data"
    }
   ],
   "source": [
    "fig, ax = plt.subplots()\n",
    "A = w[:,0]\n",
    "B = w[:,1]\n",
    "n = range(len(w))\n",
    "plt.plot(A,B,'y->')\n",
    "C = list(A)\n",
    "for i, txt in enumerate(C):\n",
    "    ax.annotate(n[i], (A[i],B[i]))\n",
    "plt.plot([0,1],[1,0],'k-')\n",
    "plt.plot([0,1],[0,0],'k-')\n",
    "plt.plot([0,0],[0,1],'k-')\n",
    "plt.xlabel('x')\n",
    "plt.title('Trajectory followed by the points at each iteration (b)')\n",
    "plt.ylabel('y')\n",
    "ax.text(.6, .8, '$\\epsilon =5e-3$', style='italic',\n",
    "        bbox={'facecolor':'red', 'alpha':0.3, 'pad':10},fontsize = 10)\n",
    "plt.show()"
   ]
  },
  {
   "cell_type": "markdown",
   "metadata": {},
   "source": [
    "#### <span style = 'color:red'>Q. Plot the energies f(w0), f(w1), . . . , achieved by the points at each iteration. </span>"
   ]
  },
  {
   "cell_type": "code",
   "execution_count": 23,
   "metadata": {},
   "outputs": [
    {
     "data": {
      "image/png": "[encoded data removed]",
      "text/plain": [
       "<matplotlib.figure.Figure at 0x1fa04616908>"
      ]
     },
     "metadata": {},
     "output_type": "display_data"
    }
   ],
   "source": [
    "fig, ax = plt.subplots()\n",
    "A = loss\n",
    "n = range(len(A))\n",
    "plt.plot(n,A,'r->')\n",
    "for i, txt in enumerate(A):\n",
    "    ax.annotate(round(txt,2), (n[i],A[i]))\n",
    "plt.xlabel('Iteration')\n",
    "plt.title('Cost at each iteration (b)')\n",
    "plt.ylabel('Cost')\n",
    "plt.show()"
   ]
  },
  {
   "cell_type": "code",
   "execution_count": 24,
   "metadata": {},
   "outputs": [
    {
     "data": {
      "text/plain": [
       "array([ 0.31665327,  0.31669632])"
      ]
     },
     "execution_count": 24,
     "metadata": {},
     "output_type": "execute_result"
    }
   ],
   "source": [
    "# converging point\n",
    "w[-1]"
   ]
  },
  {
   "cell_type": "code",
   "execution_count": 25,
   "metadata": {},
   "outputs": [
    {
     "data": {
      "text/plain": [
       "3.3031062823844062"
      ]
     },
     "execution_count": 25,
     "metadata": {},
     "output_type": "execute_result"
    }
   ],
   "source": [
    "# converging cost\n",
    "loss[-1]"
   ]
  },
  {
   "cell_type": "markdown",
   "metadata": {},
   "source": [
    "#### (c) Repeat part (b) using Newton’s method."
   ]
  },
  {
   "cell_type": "code",
   "execution_count": 26,
   "metadata": {
    "collapsed": true
   },
   "outputs": [],
   "source": [
    "np.random.seed(45)\n",
    "def Hmatrix (w):\n",
    "    x = w[0]\n",
    "    y = w[1]\n",
    "    mat = [[(1/(1-x-y)**2+1/x**2),(1/(1-x-y)**2)],[(1/(1-x-y)**2),(1/(1-x-y)**2+1/y**2)]]\n",
    "    out = np.asarray(mat)\n",
    "    return out\n",
    "#  setup\n",
    "w = list()\n",
    "loss = list()\n",
    "epsilon = 0.005\n",
    "eta = 1\n",
    "j= 0\n",
    "# give a dummy start point which will be deleted later so that index is working\n",
    "temp = np.array([0.1,0.8])\n",
    "temploss = losfunction(temp)\n",
    "w.append(temp)\n",
    "loss.append(temploss)\n",
    "\n",
    "# initialize the starting point w_0 in D\n",
    "temp = np.random.uniform(0,1,2)\n",
    "while (np.sum(temp)>=1):\n",
    "        temp = np.random.uniform(0,1,2)\n",
    "# append the first point in w\n",
    "w.append(temp)\n",
    "temploss = losfunction(temp)\n",
    "loss.append(temploss)\n",
    "\n",
    "# the while loops ends when converge\n",
    "while (np.abs(loss[-1]-loss[-2])>=epsilon):\n",
    "    # find the gradient\n",
    "    g = np.array([(1/(1-np.sum(w[-1]))-1/w[-1][0]),(1/(1-np.sum(w[-1]))-1/w[-1][1])])\n",
    "    H = Hmatrix(w[-1])\n",
    "    Hinv = np.linalg.inv(H)\n",
    "    temp = w[-1]-eta*Hinv.dot(g)\n",
    "    # if counter k is larger than 5, the overall eta will be reduced by 1/2\n",
    "    etanew = eta\n",
    "    k = 0\n",
    "    # if the temp is outside the D, will redo the while loop and add the counter\n",
    "    while (sum(temp)>=1 or temp[0]<=0 or temp[1]<=0):\n",
    "        etanew = etanew/2\n",
    "        temp = w[-1]-etanew*Hinv.dot(g)\n",
    "        k += 1\n",
    "        j += 1\n",
    "    w.append(temp)\n",
    "    temploss = losfunction(temp)\n",
    "    loss.append(temploss)\n",
    "    \n",
    "    if k>=5:\n",
    "        eta = eta/2\n",
    "# delete the dummy point\n",
    "del(w[0])\n",
    "del(loss[0])\n",
    "# convert w to ndarray for plot\n",
    "w = np.asarray(w)\n"
   ]
  },
  {
   "cell_type": "markdown",
   "metadata": {},
   "source": [
    "#### <span style = 'color:red'>Q. Report your initial point w0 and η of your choice.</span>\n",
    "#### <span style = 'color:blue'>The intial point is at [ 0.2814473 ,  0.07728957]. The intial eta is 1, but if the update is out of boundaries, eta will temporarily shrink by 1/2 until the update is within boundaries. Also, if it takes for more than 5 temporaty attempts to shrink the eta for one iteration, the overall eta will be shrinked by 1/2.However, unlike the gradient descendent, eta stays at 1. </span>"
   ]
  },
  {
   "cell_type": "markdown",
   "metadata": {},
   "source": [
    "#### <span style = 'color:red'>Q. Draw a graph that shows the trajectory followed by the points at each iteration. </span>"
   ]
  },
  {
   "cell_type": "code",
   "execution_count": 27,
   "metadata": {},
   "outputs": [
    {
     "data": {
      "image/png": "[encoded data removed]",
      "text/plain": [
       "<matplotlib.figure.Figure at 0x1fa0450d9e8>"
      ]
     },
     "metadata": {},
     "output_type": "display_data"
    }
   ],
   "source": [
    "fig, ax = plt.subplots()\n",
    "A = w[:,0]\n",
    "B = w[:,1]\n",
    "n = range(len(w))\n",
    "plt.plot(A,B,'y->')\n",
    "C = list(A)\n",
    "for i, txt in enumerate(C):\n",
    "    ax.annotate(n[i], (A[i],B[i]))\n",
    "plt.plot([0,1],[1,0],'k-')\n",
    "plt.plot([0,1],[0,0],'k-')\n",
    "plt.plot([0,0],[0,1],'k-')\n",
    "plt.xlabel('x')\n",
    "plt.title('Trajectory followed by the points at each iteration (c)')\n",
    "plt.ylabel('y')\n",
    "ax.text(.6, .8, '$\\epsilon =5e-3$', style='italic',\n",
    "        bbox={'facecolor':'red', 'alpha':0.3, 'pad':10},fontsize = 10)\n",
    "plt.show()"
   ]
  },
  {
   "cell_type": "markdown",
   "metadata": {},
   "source": [
    "#### <span style = 'color:red'>Q. Plot the energies f(w0), f(w1), . . . , achieved by the points at each iteration. </span>"
   ]
  },
  {
   "cell_type": "code",
   "execution_count": 28,
   "metadata": {},
   "outputs": [
    {
     "data": {
      "image/png": "[encoded data removed]",
      "text/plain": [
       "<matplotlib.figure.Figure at 0x1fa04635550>"
      ]
     },
     "metadata": {},
     "output_type": "display_data"
    }
   ],
   "source": [
    "fig, ax = plt.subplots()\n",
    "A = loss\n",
    "n = range(len(A))\n",
    "plt.plot(n,A,'r->')\n",
    "for i, txt in enumerate(A):\n",
    "    ax.annotate(round(txt,5), (n[i],A[i]))\n",
    "plt.xlabel('Iteration')\n",
    "plt.title('Cost at each iteration (c)')\n",
    "plt.ylabel('Cost')\n",
    "plt.show()"
   ]
  },
  {
   "cell_type": "code",
   "execution_count": 29,
   "metadata": {},
   "outputs": [
    {
     "data": {
      "text/plain": [
       "array([ 0.33385717,  0.33241947])"
      ]
     },
     "execution_count": 29,
     "metadata": {},
     "output_type": "execute_result"
    }
   ],
   "source": [
    "# converging point\n",
    "w[-1]"
   ]
  },
  {
   "cell_type": "code",
   "execution_count": 30,
   "metadata": {},
   "outputs": [
    {
     "data": {
      "text/plain": [
       "3.2958425486216987"
      ]
     },
     "execution_count": 30,
     "metadata": {},
     "output_type": "execute_result"
    }
   ],
   "source": [
    "# converging cost\n",
    "loss[-1]"
   ]
  },
  {
   "cell_type": "markdown",
   "metadata": {},
   "source": [
    "#### (d) Compare the speed of convergence of gradient descent and Newton’s method, i.e. how fast does each method approach the estimated global minimum?"
   ]
  },
  {
   "cell_type": "markdown",
   "metadata": {},
   "source": [
    " <span style = 'color:blue'> With the same intialized starting point and eta, and the same convergence condition, it took gradient descent **21** epochs while **5** for the Newton's method. Meanwhile,this was accomplished with the \"smart\" shrinkage programming on the eta on both methods. In the gradient descent case, the gloabal eta shrunk down to 0.0625, while the global eta of Newton's method stayed at 1 for the whole time. Finally, the estimated global minimum is 3.303106 (gradient descent) vs. 3.295843 (Newton's method). In sum, with the appropriate choice of $\\eta$ if the computation of the Hessian matrix and its inverse is not computation heavy, Newton's method can achieve the covergence faster and probably provide a more optimized cost function. It should be noted that a oversmall or overbig $\\eta$ might make the Newton's method perform worse than the gradient descent method."
   ]
  },
  {
   "cell_type": "markdown",
   "metadata": {},
   "source": [
    "### Q.3"
   ]
  },
  {
   "cell_type": "markdown",
   "metadata": {},
   "source": [
    "##### (a) Let xi = i, i = 1,...,50.\n",
    "##### (b) Let yi = i + ui, i = 1,...,50, where each ui should be chosen to be an arbitrary real number between −1 and 1."
   ]
  },
  {
   "cell_type": "code",
   "execution_count": 31,
   "metadata": {
    "collapsed": true
   },
   "outputs": [],
   "source": [
    "np.random.seed(45)\n",
    "x = list(range(1,51))\n",
    "x = np.asarray(x)\n",
    "y = np.random.uniform(-1,1,50) + x\n"
   ]
  },
  {
   "cell_type": "markdown",
   "metadata": {},
   "source": [
    "#### (c) Find the linear least squares fit to (xi , yi ), i = 1, . . . , 50. Note that the linear least squares fit is the line y = w0 + w1x, where w0 and w1 should be chosen to minimize  50 (yi − (w0 + w1xi))2.  \n",
    "\n",
    "<span style = 'color:blue'> Let $W = [w_0, w_1], X = \\begin{bmatrix}1 & 1 & \\cdots & 1 \\\\ x_1 & x_2 & \\cdots & x_{50} \\end{bmatrix}, Y = \\begin{bmatrix} y_1 & y_2 & \\cdots & y_{50} \\end{bmatrix}$.  \n",
    "Thus, we are essentially finding $\\underset{W}{\\arg\\min}||Y-WX||^2$. \n",
    "And we have already known that the solution to $Y-WX=0$ is $W^*_{L.S.} = YX^+$, where $X^+ = X^T(XX^T)^{-1}$ given X is full row. \n",
    "Therefore, $W^*_{L.S.} = YX^T(XX^T)^{-1}$ </span>"
   ]
  },
  {
   "cell_type": "code",
   "execution_count": 32,
   "metadata": {},
   "outputs": [
    {
     "data": {
      "text/plain": [
       "array([-0.049585  ,  0.99941613])"
      ]
     },
     "execution_count": 32,
     "metadata": {},
     "output_type": "execute_result"
    }
   ],
   "source": [
    "Y = y\n",
    "X = np.vstack((np.repeat(1,50),x))\n",
    "Wstar = Y.dot(np.transpose(X)).dot(np.linalg.inv(X.dot(np.transpose(X))))\n",
    "Wstar"
   ]
  },
  {
   "cell_type": "markdown",
   "metadata": {},
   "source": [
    "<span style = 'color:blue'> So w<sub>0</sub> =  -0.049585, w<sub>1</sub> = 0.99941613 are to chosen to minimize E.</span> "
   ]
  },
  {
   "cell_type": "markdown",
   "metadata": {},
   "source": [
    "#### (d) Plot the points (xi; yi); i = 1; : : : ; 50 together with their linear least squares fit."
   ]
  },
  {
   "cell_type": "code",
   "execution_count": 33,
   "metadata": {},
   "outputs": [
    {
     "data": {
      "image/png": "[encoded data removed]",
      "text/plain": [
       "<matplotlib.figure.Figure at 0x1fa04552128>"
      ]
     },
     "metadata": {},
     "output_type": "display_data"
    }
   ],
   "source": [
    "plt.scatter(x,y,color = 'orange')\n",
    "yfit = [Wstar[0] + Wstar[1] * xi for xi in x]\n",
    "plt.plot(x, yfit,color = 'black')\n",
    "plt.xlabel('x')\n",
    "plt.title('Plot for 3(d)')\n",
    "plt.ylabel('y')\n",
    "plt.show()"
   ]
  },
  {
   "cell_type": "markdown",
   "metadata": {},
   "source": [
    "#### (e) Find (on paper) the gradient of  50 (yi −(w0 +w1xi))2 (derivatives with respect to w0 and w1).\n",
    "\n",
    "<span style = 'color:blue'>\n",
    "Let $E = \\sum_{i=1}^{50}(y_i-(w_0+w_1x_i))^2$.  \n",
    "Then $\\nabla E = (\\frac{\\partial E}{\\partial w_0},\\frac{\\partial E}{\\partial w_1}) = (-2\\sum_{i=1}^{50}(y_i-(w_0+w_1x_i)),-2\\sum_{i=1}^{50}((y_i-(w_0+w_1x_i))x_i) = 2(Y-WX)X^T$.  \n",
    "Thus, the update will be: $w \\leftarrow w - \\eta \\nabla E$\n",
    "</span>"
   ]
  },
  {
   "cell_type": "markdown",
   "metadata": {},
   "source": [
    "#### (f) (Re)find the linear least squares fit using the gradient descent algorithm. Compare with (c)."
   ]
  },
  {
   "cell_type": "code",
   "execution_count": 34,
   "metadata": {},
   "outputs": [
    {
     "data": {
      "text/plain": [
       "28427"
      ]
     },
     "execution_count": 34,
     "metadata": {},
     "output_type": "execute_result"
    }
   ],
   "source": [
    "np.random.seed(45)\n",
    "# define a cost function\n",
    "def cost_function (w):\n",
    "    cost = np.sum((Y-w.dot(X))**2)\n",
    "    return cost\n",
    "\n",
    "#  setup\n",
    "w = list()\n",
    "cost = list()\n",
    "epsilon = 1e-6\n",
    "eta = 3e-4\n",
    "j = 0\n",
    "\n",
    "# give a dummy start point which will be deleted later so that index is working\n",
    "temp = np.array([0.1,0.8])\n",
    "temploss = cost_function(temp)\n",
    "w.append(temp)\n",
    "cost.append(temploss)\n",
    "\n",
    "# initialize the starting point w_0 in D\n",
    "temp = np.random.uniform(0,1,2)\n",
    "# append the first point in w\n",
    "w.append(temp)\n",
    "temploss = cost_function(temp)\n",
    "cost.append(temploss)\n",
    "\n",
    "# the while loops ends when converge\n",
    "while (np.abs(cost[-1]-cost[-2])>=epsilon):\n",
    "    # find the gradient\n",
    "    g = np.array([-2*np.sum(Y-w[-1].dot(X)),-2*np.sum((Y-w[-1].dot(X)) * x)])/50\n",
    "    temp = w[-1]-eta*g\n",
    "    w.append(temp)\n",
    "    temploss = cost_function(temp)\n",
    "    cost.append(temploss)\n",
    "    j += 1\n",
    "\n",
    "# delete the dummy point\n",
    "del(w[0])\n",
    "del(cost[0])\n",
    "# convert w to ndarray for plot\n",
    "w = np.asarray(w)\n",
    "j"
   ]
  },
  {
   "cell_type": "code",
   "execution_count": 35,
   "metadata": {},
   "outputs": [
    {
     "data": {
      "text/plain": [
       "array([-0.03274961,  0.99891593])"
      ]
     },
     "execution_count": 35,
     "metadata": {},
     "output_type": "execute_result"
    }
   ],
   "source": [
    "w[-1]"
   ]
  },
  {
   "cell_type": "code",
   "execution_count": 36,
   "metadata": {},
   "outputs": [
    {
     "data": {
      "text/plain": [
       "16.526723550620243"
      ]
     },
     "execution_count": 36,
     "metadata": {},
     "output_type": "execute_result"
    }
   ],
   "source": [
    "cost_function(Wstar)"
   ]
  },
  {
   "cell_type": "code",
   "execution_count": 37,
   "metadata": {},
   "outputs": [
    {
     "data": {
      "text/plain": [
       "16.530161196220153"
      ]
     },
     "execution_count": 37,
     "metadata": {},
     "output_type": "execute_result"
    }
   ],
   "source": [
    "cost[-1]"
   ]
  },
  {
   "cell_type": "markdown",
   "metadata": {},
   "source": [
    "#### <span style='color:red'> Compare with (c).</span>\n",
    "\n",
    "<span style='color:blue'>So w<sub>0</sub> =  -0.03275, w<sub>1</sub> = 0.99892 are to chosen to by the gradient descent method after 28427 epoch (batch version), compared with the w<sub>0</sub> =  -0.049585, w<sub>1</sub> = 0.99941613 chosen by the least square mothod in one iteration. The cost by gradient descent is 16.53016, while the least square's cost is 16.52672. And an appropriate choice of $\\eta$ for gradient descent is tricky.</span>"
   ]
  },
  {
   "cell_type": "markdown",
   "metadata": {},
   "source": [
    "#### (g) Show (on paper) that a single iteration of Newton’s method with η = 1 provides the globally optimal solution (the solution in (c)) regardless of the initial point."
   ]
  },
  {
   "cell_type": "markdown",
   "metadata": {},
   "source": [
    "<span style = 'color:blue'> \n",
    "From (c), we have already known that the least square  $W^*_{L.S.} = YX^T(XX^T)^{-1}$.  \n",
    "By gradient descent method, the gradient is: $\\nabla E = \\frac{\\partial (Y-WX)(Y-WX)^T}{\\partial W} = 2(Y-WX)X^T$.  \n",
    "And the Hessian matrix is: $H = \\frac{\\partial \\nabla E}{\\partial W} = \\frac{\\partial 2(Y-WX)X^T}{\\partial W} =-2XX^T$, and $H^{-1} = -\\frac{1}{2}(XX^T)^{-1}$.  \n",
    "Thus, $W^*_{G.D.} = W - \\eta \\nabla E H^{-1} = W + (Y-WX)X^T(XX^T)^{-1} = W + YX^T(XX^T)^{-1} - W = YX^T(XX^T)^{-1} = W^*_{L.S.}$\n",
    "</span>"
   ]
  }
 ],
 "metadata": {
  "kernelspec": {
   "display_name": "Python 3",
   "language": "python",
   "name": "python3"
  },
  "language_info": {
   "codemirror_mode": {
    "name": "ipython",
    "version": 3
   },
   "file_extension": ".py",
   "mimetype": "text/x-python",
   "name": "python",
   "nbconvert_exporter": "python",
   "pygments_lexer": "ipython3",
   "version": "3.6.3"
  }
 },
 "nbformat": 4,
 "nbformat_minor": 2
}
