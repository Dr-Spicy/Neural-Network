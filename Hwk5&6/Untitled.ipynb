{
 "cells": [
  {
   "cell_type": "markdown",
   "metadata": {},
   "source": [
    "## Q.1"
   ]
  },
  {
   "cell_type": "markdown",
   "metadata": {},
   "source": [
    "#### (a) Draw n = 300 real numbers uniformly at random on [0, 1], call them x1, . . . , xn.  \n",
    "#### (b) Draw n real numbers uniformly at random on [− 1 , 1 ], call them ν1,...,νn."
   ]
  },
  {
   "cell_type": "code",
   "execution_count": 17,
   "metadata": {},
   "outputs": [],
   "source": [
    "import numpy as np\n",
    "import matplotlib.pyplot as plt\n",
    "import matplotlib as mpl\n",
    "\n",
    "np.random.seed(42)\n",
    "n=300\n",
    "X = np.random.randint(0,2,size = n).reshape((n,1))\n",
    "V = np.random.uniform(-.1,.1,size = n).reshape((n,1))"
   ]
  },
  {
   "cell_type": "markdown",
   "metadata": {},
   "source": [
    "#### (c) Let di = sin(20xi) + 3xi + νi, i = 1, . . . , n. Plot the points (xi, di), i = 1, . . . , n."
   ]
  },
  {
   "cell_type": "code",
   "execution_count": 25,
   "metadata": {},
   "outputs": [
    {
     "data": {
      "image/png": "[encoded data removed]",
      "text/plain": [
       "<matplotlib.figure.Figure at 0x111cb1240>"
      ]
     },
     "metadata": {},
     "output_type": "display_data"
    }
   ],
   "source": [
    "D = np.sin(20*X) + 3*X + MU\n",
    "plt.plot(X,D,'b-o')\n",
    "plt.show()"
   ]
  },
  {
   "cell_type": "markdown",
   "metadata": {},
   "source": [
    "We will consider a 1 × N × 1 neural network with one input, N = 24 hidden neurons, and 1 output neuron. The network will thus have 3N + 1 weights including biases. Let w denote the vector of all these 3N + 1 weights. The output neuron will use the activation function φ(v) = v; all other neurons will use the activation function φ(v) = tanhv. Given input x, we use the notation f(x,w) to represent the network output."
   ]
  },
  {
   "cell_type": "code",
   "execution_count": 31,
   "metadata": {},
   "outputs": [],
   "source": [
    "\n",
    "# define a function to calculate the MSE:\n",
    "\n",
    "def msefunction (w):\n",
    "    \n",
    "    mse =np.sum()/n\n",
    "    return mse\n",
    "\n",
    "# Number of hidden layer's neurons\n",
    "N = 24\n",
    "W = np.random.uniform(-1,1,size = (3*N+1)).reshape((3*N+1,1))\n",
    "eta = 1e-2\n",
    "epsilon = 5e-4\n",
    "mse = list()\n",
    "j=0\n",
    "\n"
   ]
  },
  {
   "cell_type": "code",
   "execution_count": null,
   "metadata": {},
   "outputs": [],
   "source": []
  },
  {
   "cell_type": "code",
   "execution_count": 30,
   "metadata": {},
   "outputs": [
    {
     "data": {
      "text/plain": [
       "array([[ 0.33511548],\n",
       "       [-0.65536026],\n",
       "       [-0.61542196],\n",
       "       [-0.91826277],\n",
       "       [-0.66212987],\n",
       "       [-0.44281932],\n",
       "       [-0.64597903],\n",
       "       [-0.82259493],\n",
       "       [-0.75872826],\n",
       "       [-0.07844246],\n",
       "       [-0.58733256],\n",
       "       [-0.27146028],\n",
       "       [ 0.00683454],\n",
       "       [ 0.38078966],\n",
       "       [-0.92137572],\n",
       "       [ 0.5988208 ],\n",
       "       [ 0.25580078],\n",
       "       [-0.83648194],\n",
       "       [ 0.74715725],\n",
       "       [ 0.8417448 ],\n",
       "       [-0.87784408],\n",
       "       [-0.4462447 ],\n",
       "       [ 0.61240256],\n",
       "       [ 0.49651938],\n",
       "       [-0.63095796],\n",
       "       [-0.58130135],\n",
       "       [-0.25905579],\n",
       "       [-0.03095403],\n",
       "       [ 0.23650954],\n",
       "       [-0.26217272],\n",
       "       [-0.07493057],\n",
       "       [ 0.49494188],\n",
       "       [-0.92663359],\n",
       "       [-0.49512611],\n",
       "       [ 0.42669917],\n",
       "       [ 0.79041368],\n",
       "       [ 0.02335488],\n",
       "       [ 0.06422697],\n",
       "       [-0.78565598],\n",
       "       [-0.10517527],\n",
       "       [ 0.06523453],\n",
       "       [-0.51505899],\n",
       "       [-0.46151354],\n",
       "       [-0.24543167],\n",
       "       [-0.9598576 ],\n",
       "       [-0.35584167],\n",
       "       [-0.57710399],\n",
       "       [-0.3450053 ],\n",
       "       [-0.76047574],\n",
       "       [ 0.78105456],\n",
       "       [ 0.18718491],\n",
       "       [ 0.35820464],\n",
       "       [ 0.57834248],\n",
       "       [-0.0031156 ],\n",
       "       [-0.82615942],\n",
       "       [ 0.07421308],\n",
       "       [ 0.17368224],\n",
       "       [ 0.49087895],\n",
       "       [-0.13668091],\n",
       "       [-0.74483939],\n",
       "       [-0.43244819],\n",
       "       [-0.27383541],\n",
       "       [ 0.29183448],\n",
       "       [ 0.14155661],\n",
       "       [-0.28780655],\n",
       "       [ 0.9730305 ],\n",
       "       [ 0.21154964],\n",
       "       [-0.52554642],\n",
       "       [-0.79643505],\n",
       "       [-0.69428172],\n",
       "       [-0.50808454],\n",
       "       [-0.67863725],\n",
       "       [-0.62686595]])"
      ]
     },
     "execution_count": 30,
     "metadata": {},
     "output_type": "execute_result"
    }
   ],
   "source": []
  },
  {
   "cell_type": "code",
   "execution_count": null,
   "metadata": {},
   "outputs": [],
   "source": []
  },
  {
   "cell_type": "code",
   "execution_count": null,
   "metadata": {},
   "outputs": [],
   "source": []
  },
  {
   "cell_type": "markdown",
   "metadata": {},
   "source": [
    "Given n, N, and $\\epsilon$.  \n",
    "\n",
    "Initialize $\\eta \\in \\mathbb{R}, W \\in \\mathbb{R}^{(3N+1) \\times 1}$.  \n",
    "\n",
    "Initialize epoch = 0. \n",
    "\n",
    "Initialize mse(epoch) = 0 for epoch = 0, 1, ... .  \n",
    "\n",
    "Do\n",
    "    for $i=1 to n$ do (this loop is where we !!!)\n",
    "        \n"
   ]
  },
  {
   "cell_type": "code",
   "execution_count": null,
   "metadata": {},
   "outputs": [],
   "source": []
  },
  {
   "cell_type": "code",
   "execution_count": null,
   "metadata": {},
   "outputs": [],
   "source": []
  },
  {
   "cell_type": "code",
   "execution_count": null,
   "metadata": {},
   "outputs": [],
   "source": []
  },
  {
   "cell_type": "code",
   "execution_count": null,
   "metadata": {},
   "outputs": [],
   "source": []
  },
  {
   "cell_type": "code",
   "execution_count": null,
   "metadata": {},
   "outputs": [],
   "source": []
  },
  {
   "cell_type": "code",
   "execution_count": null,
   "metadata": {},
   "outputs": [],
   "source": []
  },
  {
   "cell_type": "code",
   "execution_count": null,
   "metadata": {},
   "outputs": [],
   "source": []
  },
  {
   "cell_type": "code",
   "execution_count": null,
   "metadata": {},
   "outputs": [],
   "source": []
  },
  {
   "cell_type": "code",
   "execution_count": null,
   "metadata": {},
   "outputs": [],
   "source": []
  },
  {
   "cell_type": "code",
   "execution_count": 11,
   "metadata": {},
   "outputs": [
    {
     "data": {
      "text/plain": [
       "(300, 1)"
      ]
     },
     "execution_count": 11,
     "metadata": {},
     "output_type": "execute_result"
    }
   ],
   "source": []
  },
  {
   "cell_type": "code",
   "execution_count": null,
   "metadata": {},
   "outputs": [],
   "source": []
  },
  {
   "cell_type": "code",
   "execution_count": null,
   "metadata": {},
   "outputs": [],
   "source": []
  },
  {
   "cell_type": "code",
   "execution_count": null,
   "metadata": {},
   "outputs": [],
   "source": []
  },
  {
   "cell_type": "code",
   "execution_count": null,
   "metadata": {},
   "outputs": [],
   "source": []
  },
  {
   "cell_type": "code",
   "execution_count": null,
   "metadata": {},
   "outputs": [],
   "source": []
  },
  {
   "cell_type": "code",
   "execution_count": null,
   "metadata": {},
   "outputs": [],
   "source": []
  },
  {
   "cell_type": "code",
   "execution_count": null,
   "metadata": {},
   "outputs": [],
   "source": []
  },
  {
   "cell_type": "code",
   "execution_count": null,
   "metadata": {},
   "outputs": [],
   "source": []
  },
  {
   "cell_type": "code",
   "execution_count": null,
   "metadata": {},
   "outputs": [],
   "source": []
  },
  {
   "cell_type": "code",
   "execution_count": null,
   "metadata": {},
   "outputs": [],
   "source": []
  },
  {
   "cell_type": "code",
   "execution_count": null,
   "metadata": {},
   "outputs": [],
   "source": []
  },
  {
   "cell_type": "code",
   "execution_count": null,
   "metadata": {},
   "outputs": [],
   "source": []
  },
  {
   "cell_type": "code",
   "execution_count": null,
   "metadata": {},
   "outputs": [],
   "source": []
  },
  {
   "cell_type": "code",
   "execution_count": null,
   "metadata": {},
   "outputs": [],
   "source": []
  },
  {
   "cell_type": "code",
   "execution_count": null,
   "metadata": {},
   "outputs": [],
   "source": []
  },
  {
   "cell_type": "code",
   "execution_count": null,
   "metadata": {},
   "outputs": [],
   "source": []
  },
  {
   "cell_type": "code",
   "execution_count": null,
   "metadata": {},
   "outputs": [],
   "source": []
  },
  {
   "cell_type": "code",
   "execution_count": null,
   "metadata": {},
   "outputs": [],
   "source": []
  },
  {
   "cell_type": "code",
   "execution_count": null,
   "metadata": {},
   "outputs": [],
   "source": []
  },
  {
   "cell_type": "code",
   "execution_count": null,
   "metadata": {},
   "outputs": [],
   "source": []
  },
  {
   "cell_type": "code",
   "execution_count": null,
   "metadata": {},
   "outputs": [],
   "source": []
  },
  {
   "cell_type": "code",
   "execution_count": null,
   "metadata": {},
   "outputs": [],
   "source": []
  },
  {
   "cell_type": "code",
   "execution_count": null,
   "metadata": {},
   "outputs": [],
   "source": []
  },
  {
   "cell_type": "code",
   "execution_count": null,
   "metadata": {},
   "outputs": [],
   "source": []
  }
 ],
 "metadata": {
  "kernelspec": {
   "display_name": "Python 3",
   "language": "python",
   "name": "python3"
  },
  "language_info": {
   "codemirror_mode": {
    "name": "ipython",
    "version": 3
   },
   "file_extension": ".py",
   "mimetype": "text/x-python",
   "name": "python",
   "nbconvert_exporter": "python",
   "pygments_lexer": "ipython3",
   "version": "3.6.3"
  }
 },
 "nbformat": 4,
 "nbformat_minor": 2
}
