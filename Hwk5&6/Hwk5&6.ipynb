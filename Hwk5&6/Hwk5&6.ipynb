{
 "cells": [
  {
   "cell_type": "markdown",
   "metadata": {},
   "source": [
    "## Q.1"
   ]
  },
  {
   "cell_type": "markdown",
   "metadata": {},
   "source": [
    "#### (a) Draw n = 300 real numbers uniformly at random on [0, 1], call them x1, . . . , xn.  \n",
    "#### (b) Draw n real numbers uniformly at random on [− 1 , 1 ], call them ν1,...,νn."
   ]
  },
  {
   "cell_type": "code",
   "execution_count": 1,
   "metadata": {},
   "outputs": [],
   "source": [
    "import os\n",
    "import struct\n",
    "import numpy as np \n",
    "import pandas as pd\n",
    "import matplotlib.pyplot as plt\n",
    "import matplotlib as mpl\n",
    "\n",
    "np.random.seed(42)\n",
    "n=300\n",
    "X = np.random.uniform(0,1,size = n).reshape((n,1))\n",
    "MU = np.random.uniform(-.1,.1,size = n).reshape((n,1))\n",
    "Y = np.zeros(n).reshape((n,1))"
   ]
  },
  {
   "cell_type": "markdown",
   "metadata": {},
   "source": [
    "#### (c) Let di = sin(20xi) + 3xi + νi, i = 1, . . . , n. Plot the points (xi, di), i = 1, . . . , n."
   ]
  },
  {
   "cell_type": "code",
   "execution_count": 2,
   "metadata": {},
   "outputs": [
    {
     "data": {
      "image/png": "[encoded data removed]",
      "text/plain": [
       "<matplotlib.figure.Figure at 0x104abf6d8>"
      ]
     },
     "metadata": {},
     "output_type": "display_data"
    }
   ],
   "source": [
    "D = np.sin(20*X) + 3*X + MU\n",
    "plt.plot(X,D,'bo')\n",
    "plt.show()"
   ]
  },
  {
   "cell_type": "markdown",
   "metadata": {},
   "source": [
    "We will consider a 1 × N × 1 neural network with one input, N = 24 hidden neurons, and 1 output neuron. The network will thus have 3N + 1 weights including biases. Let w denote the vector of all these 3N + 1 weights. The output neuron will use the activation function φ(v) = v; all other neurons will use the activation function φ(v) = tanhv. Given input x, we use the notation f(x,w) to represent the network output."
   ]
  },
  {
   "cell_type": "code",
   "execution_count": 3,
   "metadata": {
    "collapsed": true
   },
   "outputs": [],
   "source": [
    "### Step 1 to 4\n",
    "# Number of hidden layer's neurons\n",
    "N = 24\n",
    "W = np.random.uniform(-.1,.1,size = (3*N+1)).reshape((3*N+1,1))\n",
    "eta = 4\n",
    "epsilon = 1e-8\n",
    "mse = list()\n",
    "mse.append(1e2)\n",
    "mse.append(1e1)\n",
    "l=0\n",
    "m = 0 \n",
    "\n",
    "epoch = 2\n",
    "U = np.zeros(N)\n",
    "Z = U\n",
    "A = W[0:N]\n",
    "B = W[N:2*N]\n",
    "C = W[2*N:3*N]\n",
    "e = W[-1]"
   ]
  },
  {
   "cell_type": "code",
   "execution_count": 4,
   "metadata": {},
   "outputs": [
    {
     "name": "stdout",
     "output_type": "stream",
     "text": [
      "The current epoch is 2000, MSE is 0.2734198, eta is 4.\n",
      "The current epoch is 4000, MSE is 0.0568886, eta is 4.\n",
      "The current epoch is 6000, MSE is 0.0070565, eta is 4.\n",
      "The current epoch is 8000, MSE is 0.0047691, eta is 2.0.\n",
      "The current epoch is 10000, MSE is 0.0047136, eta is 2.0.\n",
      "The current epoch is 12000, MSE is 0.0045142, eta is 2.0.\n",
      "The current epoch is 14000, MSE is 0.0040327, eta is 1.0.\n",
      "The current epoch is 16000, MSE is 0.0039895, eta is 1.0.\n",
      "The current epoch is 18000, MSE is 0.0038325, eta is 1.0.\n",
      "The current epoch is 20000, MSE is 0.003672, eta is 0.5.\n",
      "The current epoch is 22000, MSE is 0.003659, eta is 0.5.\n"
     ]
    }
   ],
   "source": [
    "### Step 5\n",
    "\n",
    "while (np.abs(mse[-1]-mse[-2])>=epsilon):\n",
    "    m += 1\n",
    "    index = np.random.choice(np.arange(n), size= n,  replace=False)\n",
    "    # Step 5.A and C\n",
    "    for i in index: \n",
    "        U = X[i]*A + B\n",
    "        Z = np.tanh(U)  \n",
    "        Y[i] = np.transpose(Z).dot(C) + e\n",
    "        # update A:   \n",
    "        A += 2 / n * eta * X[i] * (D[i]-Y[i]) * (1-Z) * (1+Z) * C\n",
    "        # update B:   \n",
    "        B += 2 / n * eta * (D[i]-Y[i]) * (1-Z) * (1+Z) * C\n",
    "        # update C:   \n",
    "        C += 2 / n * eta * (D[i]-Y[i]) * Z\n",
    "        # update e:   \n",
    "        e += 2 / n * eta * (D[i]-Y[i])\n",
    "            \n",
    "    # Step 5.B\n",
    "    mse.append(np.sum((D-Y)**2)/n)\n",
    "    epoch +=1\n",
    "\n",
    "    if (epoch-2) % 2000 == 0:\n",
    "        print('The current epoch is {}, MSE is {}, eta is {}.'.format((epoch-2) ,round(mse[epoch-2],7) , eta))\n",
    "        if (epoch-2) % 6000 == 0:\n",
    "            eta *= 0.5\n",
    "            \n",
    "            \n",
    "# delete the 2 dummpy points\n",
    "epoch -= 2\n",
    "del(mse[0:2])"
   ]
  },
  {
   "cell_type": "markdown",
   "metadata": {},
   "source": [
    "#### (d) Use the backpropagation algorithm with online learning to find the optimal weights/network that minimize the mean-squared error (MSE) 1  n (di −f(xi,w))2. Use some η of your choice. Plot the number of n~i~=1 epochs vs the MSE in the backpropagation algorithm."
   ]
  },
  {
   "cell_type": "code",
   "execution_count": 76,
   "metadata": {},
   "outputs": [
    {
     "data": {
      "image/png": "[encoded data removed]",
      "text/plain": [
       "<matplotlib.figure.Figure at 0x1110a0390>"
      ]
     },
     "metadata": {},
     "output_type": "display_data"
    }
   ],
   "source": [
    "fig, ax = plt.subplots()\n",
    "ny = np.arange(epoch)\n",
    "m = ny[ny%3000 == 0]\n",
    "m = np.append(m,ny[-1])\n",
    "mse =  DataFrame(mse, columns = ['MSE'])\n",
    "A = np.array(mse.iloc[m])\n",
    "plt.plot(m,np.log(A),'y->')\n",
    "for i, txt in enumerate(A):\n",
    "    ax.annotate(np.round(txt.tolist(),5), (m[i], np.log(A[i])+0.2*(-1)**i),fontsize = 8)\n",
    "plt.xlabel('Epoch')\n",
    "plt.title('log(MSE) at each 3,000 epochs in BP')\n",
    "plt.ylabel('log(MSE)')\n",
    "plt.show()\n"
   ]
  },
  {
   "cell_type": "markdown",
   "metadata": {},
   "source": [
    "#### (e) Plot the curve f(x, w0) as x ranges from 0 to 1 on top of the plot of points in (c). The fit should be a “good” fit."
   ]
  },
  {
   "cell_type": "code",
   "execution_count": 72,
   "metadata": {},
   "outputs": [
    {
     "data": {
      "image/png": "[encoded data removed]",
      "text/plain": [
       "<matplotlib.figure.Figure at 0x1150fa0b8>"
      ]
     },
     "metadata": {},
     "output_type": "display_data"
    }
   ],
   "source": [
    "W0 =W\n",
    "Desired_curve = D\n",
    "Fitt\n",
    "ed_curve = Y\n",
    "for i in range(n):\n",
    "    Y[i] = np.transpose(np.tanh(X[i] * W0[0:N] +W0[N:2*N])).dot(W0[2*N:3*N]) + W0[-1]\n",
    "plot1, = plt.plot(X,Desired_curve,'bo',markersize = 3)\n",
    "plot2, = plt.plot(X,Fitted_curve,'ro',markersize = 3)\n",
    "plt.legend([plot1,plot2],[\"Desired curve\", \"Fitted curve\"])\n",
    "plt.show()"
   ]
  },
  {
   "cell_type": "markdown",
   "metadata": {},
   "source": [
    "#### (f) Pseudocode of implementation."
   ]
  },
  {
   "cell_type": "markdown",
   "metadata": {},
   "source": [
    "1. Given n, N, and $\\epsilon$.\n",
    "\n",
    "2. Initialize $\\eta \\in \\mathbb{R}, W \\in \\mathbb{R}^{(3N+1) \\times 1}$ randomly.  Note: $W = {A,B,C,d}$, where $A \\in \\mathbb{R}^N, B \\in \\mathbb{R}^N, C \\in \\mathbb{R}^N, e in \\mathbb{R}$.\n",
    "\n",
    "3. Initialize epoch = 0. \n",
    "\n",
    "4. Initialize $MSE_{epoch}$ = 0 for epoch = 0, 1, ... .  \n",
    "\n",
    "5. Do SGD, so sample n numbers out range(n) without replacement as the index:\n",
    "    1. for i in index, do (this loop is where we compute the mse of each epoch):  \n",
    "        1. Compute the induced local fields as a vector with the current training sample and weights by:\n",
    "           $$\n",
    "                U = x_i \\cdot A +  B  \\in \\mathbb{R}^N\n",
    "                $$        \n",
    "        2. Then, get the N outputs from the N hidden neurons  as a vector by:\n",
    "        $$\n",
    "        Z = tanh(U)  \\in \\mathbb{R}^N\n",
    "        $$\n",
    "        3. So, the output of the last neuron will be:\n",
    "        $$\n",
    "        y_i = Z^T \\cdot  C+ e\n",
    "        $$\n",
    "    2.  Compute the MSE for current epoch:\n",
    "         $$\n",
    "                    MSE_{epoch} = \\frac{1}{n}\\sum_{i=1}^n(d_i-y_i)^2\n",
    "                    $$\n",
    "            Then, update the epoch:\n",
    "          $$\n",
    "                    epoch \\leftarrow epoch +1.\n",
    "                    $$\n",
    "    3. for i = 1 to n, do (this loop is where we update the weights):   \n",
    "        Note: \n",
    "        $$\n",
    "        \\frac{\\partial tanh(U)}{\\partial U} = \\begin{bmatrix}  \\frac{\\partial tanh(u_1)}{\\partial u_1} & \\frac{\\partial tanh(u_1)}{\\partial u_2} &  \\cdots & \\frac{\\partial tanh(u_1)}{\\partial u_{24}} \\\\ \\frac{\\partial tanh(u_2)}{\\partial u_1} & \\frac{\\partial tanh(u_2)}{\\partial u_2} &  & \\vdots \\\\  \\vdots & & \\ddots & \\vdots \\\\ \\frac{\\partial tanh(u_{24})}{\\partial u_1} & \\cdots & \\cdots & \\frac{\\partial tanh(u_{24})}{\\partial u_{24}} \\end{bmatrix} = \\begin{bmatrix}  \\frac{\\partial tanh(u_1)}{\\partial u_1} & \\cdots & 0 \\\\ \\vdots & \\ddots &  \\vdots \\\\  0 & \\cdots & \\frac{\\partial tanh(u_{24})}{\\partial u_{24}} \\end{bmatrix} = \\begin{bmatrix}  1- tanh^2(u_1) & \\cdots & 0 \\\\ \\vdots & \\ddots &  \\vdots \\\\  0 & \\cdots & 1- tanh^2(u_{24}) \\end{bmatrix} \n",
    "        $$\n",
    "        3. update the A here:  \n",
    "            1. According to the backpropogation algorithm, we have:\n",
    "                $$\n",
    "                \\frac{\\partial MSE}{\\partial A} = -x_i \\cdot \\frac{2}{n}(d_i-y_i) \\cdot \\frac{\\partial tanh(U)}{\\partial U} \\cdot C = -x_i \\cdot \\frac{2}{n}(d_i-y_i) \\cdot (1-tanh(U)) \\bigodot  (1+tanh(U)) \\bigodot C\n",
    "                $$\n",
    "            2. The update would be:\n",
    "                $$\n",
    "                A \\leftarrow A - \\eta \\frac{\\partial MSE}{\\partial A} =A + \\eta x_i \\cdot \\frac{2}{n}(d_i-y_i) \\cdot (1-tanh(U)) \\bigodot  (1+tanh(U)) \\bigodot C\n",
    "                $$\n",
    "        4. update the B here:   \n",
    "            1. According to the backpropogation algorithm, we have:\n",
    "                $$\n",
    "               \\frac{\\partial MSE}{\\partial B} = -1 \\cdot \\frac{2}{n}(d_i-y_i) \\cdot \\frac{\\partial tanh(U)}{\\partial U} \\cdot C = -1 \\cdot \\frac{2}{n}(d_i-y_i) \\cdot (1-tanh(U)) \\bigodot  (1+tanh(U)) \\bigodot C\n",
    "                $$\n",
    "            2. The update would be:\n",
    "                $$\n",
    "                B \\leftarrow B - \\eta \\frac{\\partial MSE}{\\partial B} =B + \\eta \\frac{2}{n}(d_i-y_i) \\cdot (1-tanh(U)) \\bigodot  (1+tanh(U)) \\bigodot C\n",
    "                $$\n",
    "        5. update the C here:  \n",
    "            1. According to the backpropogation algorithm, we have:\n",
    "                $$\n",
    "                \\frac{\\partial MSE}{\\partial C} = -tanh(U) \\cdot \\frac{2}{n}(d_i - y_i)\n",
    "                $$\n",
    "            2. The update would be:\n",
    "                $$\n",
    "                C \\leftarrow C - \\eta \\frac{\\partial MSE}{\\partial C} =C + \\eta \\frac{2}{n}(d_i-y_i) \\cdot tanh(U)\n",
    "                $$\n",
    "        6. update the e here:  \n",
    "            1. According to the backpropogation algorithm, we have:\n",
    "                $$\n",
    "                \\frac{\\partial MSE}{\\partial e} = -\\frac{2}{n}(d_i - y_i)\n",
    "                $$\n",
    "            2. The update would be:\n",
    "                $$\n",
    "                e \\leftarrow e - \\eta \\frac{\\partial MSE}{\\partial e} =e + \\eta \\frac{2}{n}(d_i-y_i)\n",
    "                $$\n",
    "        7. for every kth (k = 6000) epoch:\n",
    "            $$\\eta = 0.5 * \\eta$$\n",
    "    2. Loop to A, if $abs(MSE_{epoch} - MSE_{epoch-1}) >\\epsilon$. \n",
    "    \n",
    "        \n",
    "Reamrk: Could consider to reduce the $\\eta$ after a certain epochs systematically. \n",
    "\n",
    "\n",
    "\n",
    "\n"
   ]
  },
  {
   "cell_type": "markdown",
   "metadata": {},
   "source": [
    " "
   ]
  },
  {
   "cell_type": "markdown",
   "metadata": {},
   "source": [
    "### 2. \n",
    "(150pts) In this computer project, we will design a neural network for digit classification using the backpropagation algorithm (see the notes above). You should use the MNIST data set (see Homework 2 for details) that consists of 60000 training images and 10000 test images. The training set should only be used for training, and the test set should only be used for testing. Your final report should include the following:"
   ]
  },
  {
   "cell_type": "markdown",
   "metadata": {},
   "source": [
    "####  0. Input the data files"
   ]
  },
  {
   "cell_type": "code",
   "execution_count": 2,
   "metadata": {
    "collapsed": true
   },
   "outputs": [],
   "source": [
    "# save the original binary MNIST data files in 0-255\n",
    "def read(dataset = \"training\", path = \".\"):\n",
    "    if dataset is \"training\":\n",
    "        fname_img = os.path.join(path, 'train-images-idx3-ubyte')\n",
    "        fname_lbl = os.path.join(path, 'train-labels-idx1-ubyte')\n",
    "    elif dataset is \"testing\":\n",
    "        fname_img = os.path.join(path, 't10k-images-idx3-ubyte')\n",
    "        fname_lbl = os.path.join(path, 't10k-labels-idx1-ubyte')\n",
    "    else:\n",
    "        raise ValueError( \"It needs to be between 'testing' and 'training'\")\n",
    "\n",
    "    with open(fname_lbl, 'rb') as flbl:\n",
    "        magic, num = struct.unpack(\">II\", flbl.read(8))\n",
    "        lbl = np.fromfile(flbl, dtype=np.int8)\n",
    "        # print(len(lbl))\n",
    "    with open(fname_img, 'rb') as fimg:\n",
    "        magic, num, rows, cols = struct.unpack(\">IIII\", fimg.read(16))\n",
    "        image = np.fromfile(fimg, dtype=np.uint8)      \n",
    "        image = image.reshape(len(lbl), rows, cols)\n",
    "\n",
    "    get_image = lambda idx: (lbl[idx], image[idx])\n",
    "\n",
    "    for i in range(len(lbl)):\n",
    "        yield get_image(i)\n",
    "\n",
    "training_data = list(read(dataset = \"training\",path = r'C:\\Users\\Han\\Desktop\\Box Sync\\CS 559\\hwk2'))\n",
    "testing_data = list(read(dataset = \"testing\",path = r'C:\\Users\\Han\\Desktop\\Box Sync\\CS 559\\hwk2'))\n",
    "training_label = np.zeros((len(training_data),1))\n",
    "training_desiredout =np.zeros((len(training_data),10))\n",
    "training_image = np.zeros((len(training_data),28*28))\n",
    "testing_label = np.zeros((len(testing_data),1))\n",
    "testing_desiredout = np.zeros((len(testing_data),10))\n",
    "testing_image = np.zeros((len(testing_data),28*28))\n",
    "\n",
    "# split the training and testing data to labels and images\n",
    "for i in range(len(training_data)):\n",
    "    temp = training_data[i]\n",
    "    training_label[i] = temp[0]\n",
    "    training_desiredout[i,temp[0]] = 1 \n",
    "    training_image[i,] = temp[1].reshape(1,28*28)\n",
    "#training_label = training_label.reshape((1,60000))\n",
    "for i in range(len(testing_data)):\n",
    "    temp = testing_data[i]\n",
    "    testing_label[i] = temp[0]\n",
    "    testing_desiredout[i,temp[0]] = 1 \n",
    "    testing_image[i,] = temp[1].reshape(1,28*28)\n",
    "#testing_label = testing_label.reshape((1,10000))\n",
    "\n",
    "# Rename data\n",
    "X_train = training_image\n",
    "X_test = testing_image\n",
    "Y_train = training_desiredout\n",
    "Y_test = testing_desiredout\n",
    "# Standardize X (images from 0-255 to 0-1)\n",
    "X_train = X_train.astype('float32')\n",
    "X_test = X_test.astype('float32')\n",
    "X_train /= 255\n",
    "X_test /= 255"
   ]
  },
  {
   "cell_type": "markdown",
   "metadata": {},
   "source": [
    "### 1. First try \n",
    "#####  1. Architecture of NN: 784 input neurons, 1 hidden layer with $N_1$ = 100 neurons, 10 output neurons with 0 or 1 as their outputs to be compatible with the use of 0-1 vector outputs.  \n",
    "##### 2. Output: With [1 0 · · · 0] representing a 0, [0 1 0 · · · 0] representing a 1 and so on, it is denoted as $f(x_i,w)$.  \n",
    "##### 3.1 Activation functions:, tanh() from input to 1st hidden layer and softmax from 1st hidden layer to output.  \n",
    "##### 3.2 Leanring rate:     0.1.   \n",
    "##### 3.2 Weight initialization:    all weights are intialized randomly from unifrom(-0.5,0.5).   \n",
    "##### 4. Energy function: MSE in the form of: $\\frac{1}{n}\\sum_{i=1}^{n}||d_i-f(x_i,w)||^2$.\n",
    "##### 5. Other tricks: reduce the eta by 50% when at plateau."
   ]
  },
  {
   "cell_type": "code",
   "execution_count": 6,
   "metadata": {
    "collapsed": true
   },
   "outputs": [],
   "source": [
    "## initialization\n",
    "np.random.seed(2)\n",
    "# use first n samples from training data to train the NN\n",
    "n = 60000\n",
    "# number of neurons in 1st hidden layer, N1\n",
    "N1 = 100\n",
    "# learning rate\n",
    "eta = 1e-2\n",
    "# convergence threshold\n",
    "epsilon = 5e-8\n",
    "# epoch number \n",
    "epoch = 2\n",
    "# batch size\n",
    "bs = 1\n",
    "# initialize errors\n",
    "mse = list()\n",
    "mse.append(1e3)\n",
    "mse.append(5e2)\n",
    "# initialize real outputs given the current w\n",
    "out = np.zeros((n,10))\n",
    "# initialize weights from input to 1st hidden layer\n",
    "u = np.random.uniform(-0.05,0.05,size = (784*N1)).reshape(784,N1)\n",
    "# initialize weights from 1st hidden layer to output\n",
    "v = np.random.uniform(-0.2,0.2,size = (10*N1)).reshape(N1,10)\n",
    "# initialzie the bias\n",
    "b = np.random.normal(-0.1,0.1,size = (bs*N1)).reshape(bs,N1)\n",
    "\n",
    "# define softmax actiavtion function\n",
    "def softmax(w):\n",
    "    e = np.exp(np.array(w) - np.max(w))\n",
    "    dist = e / np.sum(e)\n",
    "    return dist\n",
    "# define a continuous vector to 0-1 vector functin\n",
    "def vec_to_01(x):\n",
    "    s1 = np.zeros(x.shape[0])\n",
    "    q = np.argmax(x)\n",
    "    s1[q] =1\n",
    "    return s1\n",
    "# define softmax's Jacobian matrix function\n",
    "def softmax_jacobian(s):\n",
    "    return np.diagflat(s) - np.outer(s, s)\n",
    "# define tanh's Jacobian matrix function\n",
    "def tanh_jacobian(t):\n",
    "    return np.diagflat(1-t**2)\n",
    "def cross_S(out, Label):\n",
    "    return - np.sum(np.multiply(out, np.log(Label)) + np.multiply((1-out), np.log(1-Label)))"
   ]
  },
  {
   "cell_type": "code",
   "execution_count": 10,
   "metadata": {
    "collapsed": true
   },
   "outputs": [],
   "source": [
    "while (np.abs(mse[-1]-mse[-2])>=epsilon):\n",
    "    index = np.random.choice(np.arange(n), size= n,  replace=False)\n",
    "    X_train_rndm = X_train[index]\n",
    "    # this loop is where we update the weights\n",
    "    for i in range(0,n, bs): \n",
    "        lf1 = np.dot(X_train_rndm[i:(i+bs)],u) + b  #compute the input layers' induced local field\n",
    "        z0 = np.tanh(lf1)          #compute the input layer's out\n",
    "        lf2 = np.dot(z0,v)             #compute the 1st H layers' induced local field\n",
    "        out[i:(i+bs)] = softmax(lf2)        #compute the 1st H layer's out\n",
    "        if (True):\n",
    "            # update u:   \n",
    "            temp1 = 2 / n * eta *(Y_train[i:(i+bs)] - out[i:(i+bs)]).dot(softmax_jacobian(lf2))\n",
    "            temp2 = np.dot(temp1,v.T)\n",
    "            temp2 = temp2.dot(tanh_jacobian(lf1))\n",
    "            u -= np.outer(X_train_rndm[i:(i+bs)],temp2)\n",
    "            # update b:   \n",
    "            b -= temp2\n",
    "            # update v:   \n",
    "            v -= np.outer(z0, temp1)            \n",
    "    #  calculate mse for the current epoch\n",
    "    mse.append(np.sum((out-Y_train)**2)/n)\n",
    "    epoch +=1\n",
    "    \n",
    "    if mse[epoch-2] <= mse[epoch-1]:\n",
    "        eta *= 0.5\n",
    "    #if (epoch-2) % 2 == 0:\n",
    "        #print('The current epoch is {}, MSE is {}, eta is {}.'.format((epoch-2) ,round(mse[epoch-2],7) , eta))\n",
    "                        \n",
    "# delete the 2 dummpy points\n",
    "epoch -= 2\n",
    "del(mse[0:2])            "
   ]
  },
  {
   "cell_type": "code",
   "execution_count": 12,
   "metadata": {},
   "outputs": [
    {
     "data": {
      "text/plain": [
       "0.122"
      ]
     },
     "execution_count": 12,
     "metadata": {},
     "output_type": "execute_result"
    }
   ],
   "source": [
    "u0 = u\n",
    "b0 = b\n",
    "v0 = v\n",
    "#  Initialize errors = 0.\n",
    "error_test = 0\n",
    "# loop on all testing samples\n",
    "for i in range(10000):\n",
    "    lf1 = np.dot(X_train_rndm[i:(i+bs)],u) + b  #compute the input layers' induced local field\n",
    "    z0 = np.tanh(lf1)          #compute the input layer's out\n",
    "    lf2 = np.dot(z0,v)             #compute the 1st H layers' induced local field\n",
    "    out[i:(i+bs)] = softmax(lf2)        #compute the 1st H layer's out\n",
    "    # Find the largest component of v0 = [v0', v1', ...v9']^T^\n",
    "    predic_out = np.argmax(out[i,:])\n",
    "    #  If the prediceted output is different to the testing label, error +=1\n",
    "    diff = predic_out - np.argmax(Y_test[i,:])\n",
    "    if diff != 0:\n",
    "        error_test += 1\n",
    "error_test/10000"
   ]
  },
  {
   "cell_type": "code",
   "execution_count": 270,
   "metadata": {
    "collapsed": true
   },
   "outputs": [
    {
     "data": {
      "image/png": "[encoded data removed]",
      "text/plain": [
       "<matplotlib.figure.Figure at 0x209a018cf60>"
      ]
     },
     "metadata": {},
     "output_type": "display_data"
    }
   ],
   "source": [
    "fig, ax = plt.subplots()\n",
    "ny = np.arange(epoch)\n",
    "m = ny[ny%30 == 0]\n",
    "m = np.append(m,ny[-1])\n",
    "mse =  pd.DataFrame(mse, columns = ['MSE'])\n",
    "A = np.array(mse.iloc[m])\n",
    "plt.plot(m,np.log(A),'y->')\n",
    "for i, txt in enumerate(A):\n",
    "    ax.annotate(np.round(txt.tolist(),5), (m[i], np.log(A[i])),fontsize = 8)\n",
    "plt.xlabel('Epoch')\n",
    "plt.title('log(MSE) at each 3,000 epochs in BP')\n",
    "plt.ylabel('log(MSE)')\n",
    "plt.show()"
   ]
  },
  {
   "cell_type": "markdown",
   "metadata": {},
   "source": [
    "#### Clearly, we at not satisfied with a 12.2% errorrate on the test data. And I concluded that it was due to the undernumber of the neurons in the hidden layer, careless initialization of parameters and/or hyperparameters, and lack of other tricks. Thus, I had my 2nd try:"
   ]
  },
  {
   "cell_type": "markdown",
   "metadata": {},
   "source": [
    "### 2. Second try \n",
    "#####  1. Architecture of NN: 784 input neurons, 1 hidden layer with $N_1$ = 150 neurons, 10 output neurons with 0 or 1 as their outputs to be compatible with the use of 0-1 vector outputs.  \n",
    "##### 2. Output: With [1 0 · · · 0] representing a 0, [0 1 0 · · · 0] representing a 1 and so on, it is denoted as $f(x_i,w)$.  \n",
    "##### 3.1 Activation functions:, tanh() from input to 1st hidden layer and softmax from 1st hidden layer to output.  \n",
    "##### 3.2 Leanring rate:     Set to 0.03 due to the emperical principle $\\eta \\sim O(1/ \\sqrt{m})$, m is 784 here.   \n",
    "##### 3.2 Weight initialization:    For hyperbolic tangent units: sample a Uniform(-r, r) with $r = \\sqrt{\\frac{6}{fan-in + fan-out}}$; For softmax tangent units: sample a Uniform(-r, r) with $r = 4\\sqrt{\\frac{6}{fan-in + fan-out}}$ (fan-in is the number of inputs of the unit, fan-out is the number of outputs of the unit); For bias: sample the same way as the associated weight. \n",
    "##### 4. Energy function: MSE in the form of: $\\frac{1}{n}\\sum_{i=1}^{n}||d_i-f(x_i,w)||^2$.\n",
    "##### 5. Other tricks: SGD optimizer; reduce the eta by 50% when at plateau; carry 90% of the last epoch's gradient over to the current epoch when updating; Early termination (done mannully)"
   ]
  },
  {
   "cell_type": "code",
   "execution_count": 278,
   "metadata": {
    "collapsed": true
   },
   "outputs": [],
   "source": [
    "## initialization\n",
    "np.random.seed(2)\n",
    "# use first n samples from training data to train the NN\n",
    "n = 60000\n",
    "# number of neurons in 1st hidden layer, N1\n",
    "N1 =150\n",
    "# learning rate\n",
    "eta = 0.03\n",
    "# convergence threshold\n",
    "epsilon = 5e-7\n",
    "# epoch number \n",
    "epoch = 2\n",
    "# batch size\n",
    "bs = 1\n",
    "# initialize errors\n",
    "mse = list()\n",
    "mse.append(1e3)\n",
    "mse.append(5e2)\n",
    "# initialize real outputs given the current w\n",
    "out = np.zeros((n,10))\n",
    "# initialize weights from input to 1st hidden layer\n",
    "u = np.random.uniform(-0.05,0.05,size = (784*N1)).reshape(784,N1)\n",
    "# initialize weights from 1st hidden layer to output\n",
    "v = np.random.uniform(-0.2,0.2,size = (10*N1)).reshape(N1,10)\n",
    "# initialzie the bias\n",
    "b = np.random.uniform(-0.05,0.05,size = (bs*N1)).reshape(bs,N1)\n",
    "# initialize condi\n",
    "m = 0\n",
    "l = 0\n",
    "# intialize momentum\n",
    "momentum = 0.9"
   ]
  },
  {
   "cell_type": "code",
   "execution_count": 279,
   "metadata": {},
   "outputs": [
    {
     "name": "stdout",
     "output_type": "stream",
     "text": [
      "The current epoch is 1, MSE is 500.0, eta is 0.05.\n",
      "The current epoch is 2, MSE is 0.905694, eta is 0.05.\n",
      "The current epoch is 3, MSE is 0.9045923, eta is 0.05.\n",
      "The current epoch is 4, MSE is 0.9036999, eta is 0.05.\n",
      "The current epoch is 5, MSE is 0.9041162, eta is 0.025.\n",
      "The current epoch is 6, MSE is 0.9044415, eta is 0.0125.\n",
      "The current epoch is 7, MSE is 0.9055231, eta is 0.00625.\n"
     ]
    },
    {
     "ename": "KeyboardInterrupt",
     "evalue": "",
     "output_type": "error",
     "traceback": [
      "\u001b[1;31m---------------------------------------------------------------------------\u001b[0m",
      "\u001b[1;31mKeyboardInterrupt\u001b[0m                         Traceback (most recent call last)",
      "\u001b[1;32m<ipython-input-279-d046039d4285>\u001b[0m in \u001b[0;36m<module>\u001b[1;34m()\u001b[0m\n\u001b[0;32m     33\u001b[0m             \u001b[1;31m# update v:\u001b[0m\u001b[1;33m\u001b[0m\u001b[1;33m\u001b[0m\u001b[0m\n\u001b[0;32m     34\u001b[0m             \u001b[0mgrad_v\u001b[0m \u001b[1;33m=\u001b[0m \u001b[0mnp\u001b[0m\u001b[1;33m.\u001b[0m\u001b[0mouter\u001b[0m\u001b[1;33m(\u001b[0m\u001b[0mz0\u001b[0m\u001b[1;33m,\u001b[0m \u001b[0mtemp1\u001b[0m\u001b[1;33m)\u001b[0m\u001b[1;33m\u001b[0m\u001b[0m\n\u001b[1;32m---> 35\u001b[1;33m             \u001b[0mgrad_v\u001b[0m \u001b[1;33m=\u001b[0m \u001b[0mgrad_vold\u001b[0m\u001b[1;33m*\u001b[0m\u001b[0mmomentum\u001b[0m\u001b[1;33m+\u001b[0m\u001b[0mgrad_v\u001b[0m\u001b[1;33m\u001b[0m\u001b[0m\n\u001b[0m\u001b[0;32m     36\u001b[0m             \u001b[0mv\u001b[0m \u001b[1;33m-=\u001b[0m\u001b[0mgrad_v\u001b[0m\u001b[1;33m\u001b[0m\u001b[0m\n\u001b[0;32m     37\u001b[0m             \u001b[0mgrad_vold\u001b[0m \u001b[1;33m=\u001b[0m \u001b[0mgrad_v\u001b[0m\u001b[1;33m\u001b[0m\u001b[0m\n",
      "\u001b[1;31mKeyboardInterrupt\u001b[0m: "
     ]
    }
   ],
   "source": [
    "while (np.abs(mse[-1]-mse[-2])>=epsilon):\n",
    "    m += 1\n",
    "    index = np.random.choice(np.arange(n), size= n,  replace=False)\n",
    "    X_train_rndm = X_train[index]\n",
    "    # re-initialzie last epoch's gradients\n",
    "    grad_uold = 0\n",
    "    grad_bold = 0\n",
    "    grad_vold = 0\n",
    "    # this loop is where we update the weights\n",
    "    for i in range(0,n, bs): \n",
    "        l +=1\n",
    "        lf1 = np.dot(X_train_rndm[i:(i+bs)],u) + b  #compute the input layers' induced local field\n",
    "        z0 = np.tanh(lf1)          #compute the input layer's out\n",
    "        lf2 = np.dot(z0,v)             #compute the 1st H layers' induced local field\n",
    "        out[i:(i+bs)] = softmax(lf2)        #compute the 1st H layer's out\n",
    "        if (True):\n",
    "            # update u:   \n",
    "            temp1 = 2 / n * eta * (Y_train[i:(i+bs)]-out[i:(i+bs)]).dot(softmax_jacobian(lf2))\n",
    "            temp2 = np.dot(temp1,v.T)\n",
    "            temp2 = temp2.dot(tanh_jacobian(lf1))\n",
    "            grad_u= np.outer(X_train_rndm[i:(i+bs)],temp2)\n",
    "            grad_u = grad_uold*momentum+grad_u\n",
    "            u -= grad_u\n",
    "            grad_uold = grad_u           \n",
    "            # update b:   \n",
    "            grad_b = (temp2)\n",
    "            grad_b = grad_bold*momentum+grad_b\n",
    "            b -=grad_b\n",
    "            grad_bold = grad_b           \n",
    "            # update v:  \n",
    "            grad_v = np.outer(z0, temp1)\n",
    "            grad_v = grad_vold*momentum+grad_v\n",
    "            v -=grad_v\n",
    "            grad_vold = grad_v           \n",
    "    #  calculate mse for the current epoch\n",
    "    mse.append(np.sum((out-Y_train)**2)/n)\n",
    "    epoch +=1\n",
    "    if mse[epoch-2] <= mse[epoch-1]:\n",
    "        eta *= 0.5           \n",
    "# delete the 2 dummpy points\n",
    "epoch -= 2\n",
    "del(mse[0:2])         "
   ]
  },
  {
   "cell_type": "code",
   "execution_count": 14,
   "metadata": {},
   "outputs": [
    {
     "data": {
      "text/plain": [
       "0.0672"
      ]
     },
     "execution_count": 14,
     "metadata": {},
     "output_type": "execute_result"
    }
   ],
   "source": [
    "u0 = u\n",
    "b0 = b\n",
    "v0 = v\n",
    "#  Initialize errors = 0.\n",
    "error_test = 0\n",
    "# loop on all testing samples\n",
    "for i in range(10000):\n",
    "    lf1 = np.dot(X_train_rndm[i:(i+bs)],u) + b  #compute the input layers' induced local field\n",
    "    z0 = np.tanh(lf1)          #compute the input layer's out\n",
    "    lf2 = np.dot(z0,v)             #compute the 1st H layers' induced local field\n",
    "    out[i:(i+bs)] = softmax(lf2)        #compute the 1st H layer's out\n",
    "    # Find the largest component of v0 = [v0', v1', ...v9']^T^\n",
    "    predic_out = np.argmax(out[i,:])\n",
    "    #  If the prediceted output is different to the testing label, error +=1\n",
    "    diff = predic_out - np.argmax(Y_test[i,:])\n",
    "    if diff != 0:\n",
    "        error_test += 1\n",
    "error_test/10000"
   ]
  },
  {
   "cell_type": "code",
   "execution_count": 153,
   "metadata": {
    "collapsed": true
   },
   "outputs": [
    {
     "data": {
      "image/png": "[encoded data removed]",
      "text/plain": [
       "<matplotlib.figure.Figure at 0x2468005fa20>"
      ]
     },
     "metadata": {},
     "output_type": "display_data"
    }
   ],
   "source": [
    "fig, ax = plt.subplots()\n",
    "ny = np.arange(epoch)\n",
    "m = ny[ny%30 == 0]\n",
    "m = np.append(m,ny[-1])\n",
    "mse =  pd.DataFrame(mse, columns = ['MSE'])\n",
    "A = np.array(mse.iloc[m])\n",
    "plt.plot(m,np.log(A),'y->')\n",
    "for i, txt in enumerate(A):\n",
    "    ax.annotate(np.round(txt.tolist(),5), (m[i], np.log(A[i])),fontsize = 8)\n",
    "plt.xlabel('Epoch')\n",
    "plt.title('log(MSE) at each 30 epochs in BP')\n",
    "plt.ylabel('log(MSE)')\n",
    "plt.show()"
   ]
  },
  {
   "cell_type": "markdown",
   "metadata": {},
   "source": [
    "#### 6.72% to 12.2% error rate on the test data was a big boost. But I concluded that cross-entropy will be a better choice of the energy function of the than good old MSE. Meanwhile, adding more neurons will definitely help me to get into the 5% error rate club. Thus, I had my 3rd try:"
   ]
  },
  {
   "cell_type": "markdown",
   "metadata": {},
   "source": [
    "### 3. Third try \n",
    "#####  1. Architecture of NN: 784 input neurons, 1 hidden layer with $N_1$ = 250 neurons, 10 output neurons with 0 or 1 as their outputs to be compatible with the use of 0-1 vector outputs.  \n",
    "##### 2. Output: With [1 0 · · · 0] representing a 0, [0 1 0 · · · 0] representing a 1 and so on, it is denoted as $f(x_i,w)$.  \n",
    "##### 3.1 Activation functions:, tanh() from input to 1st hidden layer and softmax from 1st hidden layer to output.  \n",
    "##### 3.2 Leanring rate:     Set to 0.03 due to the emperical principle $\\eta \\sim O(1/ \\sqrt{m})$, m is 784 here.   \n",
    "##### 3.2 Weight initialization:    For hyperbolic tangent units: sample a Uniform(-r, r) with $r = \\sqrt{\\frac{6}{fan-in + fan-out}}$; For softmax units: sample a Uniform(-r, r) with $r = 4\\sqrt{\\frac{6}{fan-in + fan-out}}$ (fan-in is the number of inputs of the unit, fan-out is the number of outputs of the unit); For bias: sample the same way as the associated weight. \n",
    "##### 4. Energy function: Cross-entropy in the form of: $-\\frac{1}{n}\\sum_{i=1}^{n}\\sum_{j=1}^{10}d_{ij} log(f(x_i,w)_j)$, where j represents the 10 output classes.\n",
    "##### 5. Other tricks: SGD optimizer; reduce the eta by 50% when at plateau; carry 82% of the last epoch's gradient over to the current epoch when updating; Early termination (done mannully)"
   ]
  },
  {
   "cell_type": "code",
   "execution_count": 4,
   "metadata": {
    "collapsed": true
   },
   "outputs": [],
   "source": [
    "## initialization\n",
    "np.random.seed(2)\n",
    "# use first n samples from training data to train the NN\n",
    "n = 60000\n",
    "# number of neurons in 1st hidden layer, N1\n",
    "N1 = 250\n",
    "# learning rate\n",
    "eta = 0.03\n",
    "# convergence threshold\n",
    "epsilon = 5e-8\n",
    "# epoch number \n",
    "epoch = 2\n",
    "# batch size\n",
    "bs = 1\n",
    "# initialize errors\n",
    "entropy = list()\n",
    "entropy.append(1e1)\n",
    "entropy.append(5e0)\n",
    "# initialize real outputs given the current w\n",
    "out = np.zeros((n,10))\n",
    "# initialize weights from input to 1st hidden layer\n",
    "u = np.random.uniform(-0.05,0.05,size = (784*N1)).reshape(784,N1)\n",
    "# initialize weights from 1st hidden layer to output\n",
    "v = np.random.uniform(-0.2,0.2,size = (10*N1)).reshape(N1,10)\n",
    "# initialzie the bias\n",
    "b = np.random.normal(-0.1,0.1,size = (bs*N1)).reshape(bs,N1)\n",
    "# initialize condi\n",
    "m = 0\n",
    "l = 0\n",
    "# intialize momentum\n",
    "momentum = 0.82"
   ]
  },
  {
   "cell_type": "code",
   "execution_count": 5,
   "metadata": {},
   "outputs": [
    {
     "name": "stdout",
     "output_type": "stream",
     "text": [
      "The current epoch is 2, entropy is 2.3293869, eta is 0.001.\n",
      "The current epoch is 4, entropy is 2.3156306, eta is 0.001.\n",
      "The current epoch is 6, entropy is 2.3145826, eta is 0.001.\n",
      "The current epoch is 8, entropy is 2.3144166, eta is 0.0005.\n",
      "The current epoch is 10, entropy is 2.3126246, eta is 0.0005.\n",
      "The current epoch is 12, entropy is 2.3125176, eta is 0.00025.\n",
      "The current epoch is 14, entropy is 2.3135191, eta is 0.00025.\n",
      "The current epoch is 16, entropy is 2.3121888, eta is 0.00025.\n"
     ]
    },
    {
     "ename": "KeyboardInterrupt",
     "evalue": "",
     "output_type": "error",
     "traceback": [
      "\u001b[1;31m---------------------------------------------------------------------------\u001b[0m",
      "\u001b[1;31mKeyboardInterrupt\u001b[0m                         Traceback (most recent call last)",
      "\u001b[1;32m<ipython-input-5-7266b2deb077>\u001b[0m in \u001b[0;36m<module>\u001b[1;34m()\u001b[0m\n\u001b[0;32m     19\u001b[0m             \u001b[0mtemp2\u001b[0m \u001b[1;33m=\u001b[0m \u001b[0mnp\u001b[0m\u001b[1;33m.\u001b[0m\u001b[0mdot\u001b[0m\u001b[1;33m(\u001b[0m\u001b[0mtemp1\u001b[0m\u001b[1;33m,\u001b[0m\u001b[0mv\u001b[0m\u001b[1;33m.\u001b[0m\u001b[0mT\u001b[0m\u001b[1;33m)\u001b[0m\u001b[1;33m\u001b[0m\u001b[0m\n\u001b[0;32m     20\u001b[0m             \u001b[0mtemp2\u001b[0m \u001b[1;33m=\u001b[0m \u001b[0mtemp2\u001b[0m\u001b[1;33m.\u001b[0m\u001b[0mdot\u001b[0m\u001b[1;33m(\u001b[0m\u001b[0mtanh_jacobian\u001b[0m\u001b[1;33m(\u001b[0m\u001b[0mlf1\u001b[0m\u001b[1;33m)\u001b[0m\u001b[1;33m)\u001b[0m\u001b[1;33m\u001b[0m\u001b[0m\n\u001b[1;32m---> 21\u001b[1;33m             \u001b[0mgrad_u\u001b[0m\u001b[1;33m=\u001b[0m \u001b[0mnp\u001b[0m\u001b[1;33m.\u001b[0m\u001b[0mouter\u001b[0m\u001b[1;33m(\u001b[0m\u001b[0mX_train_rndm\u001b[0m\u001b[1;33m[\u001b[0m\u001b[0mi\u001b[0m\u001b[1;33m:\u001b[0m\u001b[1;33m(\u001b[0m\u001b[0mi\u001b[0m\u001b[1;33m+\u001b[0m\u001b[0mbs\u001b[0m\u001b[1;33m)\u001b[0m\u001b[1;33m]\u001b[0m\u001b[1;33m,\u001b[0m\u001b[0mtemp2\u001b[0m\u001b[1;33m)\u001b[0m\u001b[1;33m\u001b[0m\u001b[0m\n\u001b[0m\u001b[0;32m     22\u001b[0m             \u001b[0mgrad_u\u001b[0m \u001b[1;33m=\u001b[0m \u001b[0mgrad_uold\u001b[0m\u001b[1;33m*\u001b[0m\u001b[0mmomentum\u001b[0m\u001b[1;33m+\u001b[0m\u001b[0mgrad_u\u001b[0m\u001b[1;33m\u001b[0m\u001b[0m\n\u001b[0;32m     23\u001b[0m             \u001b[0mu\u001b[0m \u001b[1;33m-=\u001b[0m \u001b[0mgrad_u\u001b[0m\u001b[1;33m\u001b[0m\u001b[0m\n",
      "\u001b[1;32mI:\\Software\\Anaconda3_4.4.0\\lib\\site-packages\\numpy\\core\\numeric.py\u001b[0m in \u001b[0;36mouter\u001b[1;34m(a, b, out)\u001b[0m\n\u001b[0;32m   1152\u001b[0m     \u001b[0ma\u001b[0m \u001b[1;33m=\u001b[0m \u001b[0masarray\u001b[0m\u001b[1;33m(\u001b[0m\u001b[0ma\u001b[0m\u001b[1;33m)\u001b[0m\u001b[1;33m\u001b[0m\u001b[0m\n\u001b[0;32m   1153\u001b[0m     \u001b[0mb\u001b[0m \u001b[1;33m=\u001b[0m \u001b[0masarray\u001b[0m\u001b[1;33m(\u001b[0m\u001b[0mb\u001b[0m\u001b[1;33m)\u001b[0m\u001b[1;33m\u001b[0m\u001b[0m\n\u001b[1;32m-> 1154\u001b[1;33m     \u001b[1;32mreturn\u001b[0m \u001b[0mmultiply\u001b[0m\u001b[1;33m(\u001b[0m\u001b[0ma\u001b[0m\u001b[1;33m.\u001b[0m\u001b[0mravel\u001b[0m\u001b[1;33m(\u001b[0m\u001b[1;33m)\u001b[0m\u001b[1;33m[\u001b[0m\u001b[1;33m:\u001b[0m\u001b[1;33m,\u001b[0m \u001b[0mnewaxis\u001b[0m\u001b[1;33m]\u001b[0m\u001b[1;33m,\u001b[0m \u001b[0mb\u001b[0m\u001b[1;33m.\u001b[0m\u001b[0mravel\u001b[0m\u001b[1;33m(\u001b[0m\u001b[1;33m)\u001b[0m\u001b[1;33m[\u001b[0m\u001b[0mnewaxis\u001b[0m\u001b[1;33m,\u001b[0m\u001b[1;33m:\u001b[0m\u001b[1;33m]\u001b[0m\u001b[1;33m,\u001b[0m \u001b[0mout\u001b[0m\u001b[1;33m)\u001b[0m\u001b[1;33m\u001b[0m\u001b[0m\n\u001b[0m\u001b[0;32m   1155\u001b[0m \u001b[1;33m\u001b[0m\u001b[0m\n\u001b[0;32m   1156\u001b[0m \u001b[1;33m\u001b[0m\u001b[0m\n",
      "\u001b[1;31mKeyboardInterrupt\u001b[0m: "
     ]
    }
   ],
   "source": [
    "\n",
    "while (np.abs(entropy[-1]-entropy[-2])>=epsilon):\n",
    "    m += 1\n",
    "    index = np.random.choice(np.arange(n), size= n,  replace=False)\n",
    "    X_train_rndm = X_train[index]\n",
    "    # re-initialzie last epoch's gradients\n",
    "    grad_uold = 0\n",
    "    grad_bold = 0\n",
    "    grad_vold = 0\n",
    "    # this loop is where we update the weights\n",
    "    for i in range(0,n, bs): \n",
    "        lf1 = np.dot(X_train_rndm[i:(i+bs)],u) + b  #compute the input layers' induced local field\n",
    "        z0 = np.tanh(lf1)          #compute the input layer's out\n",
    "        lf2 = np.dot(z0,v)             #compute the 1st H layers' induced local field\n",
    "        out[i:(i+bs)] = softmax(lf2)        #compute the 1st H layer's out\n",
    "        if (True):\n",
    "            # update u:   \n",
    "            temp1 = 1 / n * eta * np.sum(Y_train[i:(i+bs)] / out[i:(i+bs)], axis = 0).dot(softmax_jacobian(lf2))\n",
    "            temp2 = np.dot(temp1,v.T)\n",
    "            temp2 = temp2.dot(tanh_jacobian(lf1))\n",
    "            grad_u= np.outer(X_train_rndm[i:(i+bs)],temp2)\n",
    "            grad_u = grad_uold*momentum+grad_u\n",
    "            u -= grad_u\n",
    "            grad_uold = grad_u\n",
    "           \n",
    "            # update b:   \n",
    "            grad_b = (temp2)\n",
    "            grad_b = grad_bold*momentum+grad_b\n",
    "            b -=grad_b\n",
    "            grad_bold = grad_b\n",
    "           \n",
    "            # update v:  \n",
    "            grad_v = np.outer(z0, temp1)\n",
    "            grad_v = grad_vold*momentum+grad_v\n",
    "            v -=grad_v\n",
    "            grad_vold = grad_v\n",
    "            #if (i%1000 == 0):\n",
    "                 #print(np.mean(u**2),np.mean(b**2),np.mean(v**2),i)\n",
    "           \n",
    "            if np.isnan(v).sum ()>0:\n",
    "                break\n",
    "            \n",
    "    #  calculate mse for the current epoch\n",
    "    entropy.append(-np.sum(np.log(out) * Y_train)/n)\n",
    "    epoch +=1\n",
    "\n",
    "    if (epoch-2) % 2 == 0:\n",
    "        print('The current epoch is {}, entropy is {}, eta is {}.'.format((epoch-2) ,round(entropy[epoch-2],7) , eta))\n",
    "        if entropy[epoch-2] <= entropy[epoch-1]:\n",
    "            eta *= 0.5\n",
    "            \n",
    "            \n",
    "# delete the 2 dummpy points\n",
    "epoch -= 2\n",
    "del(entropy[0:2])         "
   ]
  },
  {
   "cell_type": "code",
   "execution_count": 157,
   "metadata": {},
   "outputs": [
    {
     "data": {
      "text/plain": [
       "0.0463"
      ]
     },
     "execution_count": 157,
     "metadata": {},
     "output_type": "execute_result"
    }
   ],
   "source": [
    "u0 = u\n",
    "b0 = b\n",
    "v0 = v\n",
    "#  Initialize errors = 0.\n",
    "error_test = 0\n",
    "# loop on all testing samples\n",
    "for i in range(10000):\n",
    "    lf1 = np.dot(X_train_rndm[i:(i+bs)],u) + b  #compute the input layers' induced local field\n",
    "    z0 = np.tanh(lf1)          #compute the input layer's out\n",
    "    lf2 = np.dot(z0,v)             #compute the 1st H layers' induced local field\n",
    "    out[i:(i+bs)] = softmax(lf2)        #compute the 1st H layer's out\n",
    "    # Find the largest component of v0 = [v0', v1', ...v9']^T^\n",
    "    predic_out = np.argmax(out[i,:])\n",
    "    #  If the prediceted output is different to the testing label, error +=1\n",
    "    diff = predic_out - np.argmax(Y_test[i,:])\n",
    "    if diff != 0:\n",
    "        error_test += 1\n",
    "error_test/10000"
   ]
  },
  {
   "cell_type": "code",
   "execution_count": 161,
   "metadata": {
    "collapsed": true
   },
   "outputs": [
    {
     "data": {
      "image/png": "[encoded data removed]",
      "text/plain": [
       "<matplotlib.figure.Figure at 0x2468037afd0>"
      ]
     },
     "metadata": {},
     "output_type": "display_data"
    }
   ],
   "source": [
    "fig, ax = plt.subplots()\n",
    "ny = np.arange(epoch)\n",
    "m = ny[ny%30 == 0]\n",
    "m = np.append(m,ny[-1])\n",
    "mse =  pd.DataFrame(mse, columns = ['MSE'])\n",
    "A = np.array(mse.iloc[m])\n",
    "plt.plot(m,np.log(A),'y->')\n",
    "for i, txt in enumerate(A):\n",
    "    ax.annotate(np.round(txt.tolist(),5), (m[i], np.log(A[i])),fontsize = 8)\n",
    "plt.xlabel('Epoch')\n",
    "plt.title('log(MSE) at each 30 epochs in BP')\n",
    "plt.ylabel('log(MSE)')\n",
    "plt.show()"
   ]
  },
  {
   "cell_type": "markdown",
   "metadata": {},
   "source": [
    "#### Now, with an errorrate of 4.63%. We have accomplised our goal with the 3rd try, where the pseudocode was listed below:"
   ]
  },
  {
   "cell_type": "markdown",
   "metadata": {},
   "source": [
    "1. Given n, $N_1$, momentum and $\\epsilon$.\n",
    "\n",
    "2. Initialize $\\eta \\sim O(1/ \\sqrt{m}) \\in \\mathbb{R}, u \\in \\mathbb{R}^{(784) \\times N_1}$ and $b \\in \\mathbb{R}^{1 \\times N_1}$ by Uniform(-r, r) with $r = \\sqrt{\\frac{6}{fan-in + fan-out}}$, then $v \\in \\mathbb{R}^{N_1 \\times 10}$ by Uniform(-r, r) with $r = 4\\sqrt{\\frac{6}{fan-in + fan-out}}$. (fan-in is the number of inputs of the unit, fan-out is the number of outputs of the unit)\n",
    "\n",
    "3. Initialize epoch = 0. \n",
    "\n",
    "4. Initialize $loss_{epoch}$ = 0 for epoch = 0, 1, ... .  \n",
    "\n",
    "5. Do SGD, so sample n numbers out range(n) without replacement as the index:\n",
    "    1. for i in index, do (this loop is where we compute the mse of each epoch):  \n",
    "        1. Compute the 1st induced local fields as a vector with the current training sample and weights by:\n",
    "           $$\n",
    "                K= x_i \\cdot u +  b  \\in \\mathbb{R}^{1 \\times N_1}\n",
    "                $$        \n",
    "        2. Then, get the outputs from the N_1 hidden neurons  as a vector by:\n",
    "        $$\n",
    "        Z = tanh(K)  \\in \\mathbb{R}^{1 \\times N_1}\n",
    "        $$\n",
    "        3. Do the same for the rest, the outputs of the 10 output neurons will be:\n",
    "        $$\n",
    "        L = Z^T \\cdot  v\n",
    "        $$\n",
    "        $$\n",
    "        y_i = softmax(L)\n",
    "        $$\n",
    "    2.  Compute the Cross-entropy for current epoch:\n",
    "         $$\n",
    "                    loss_{epoch} = -\\frac{1}{n}\\sum_{i=1}^{n}\\sum_{j=1}^{10}d_{ij} log(f(x_i,w)_j)\n",
    "                    $$\n",
    "            Then, update the epoch:\n",
    "          $$\n",
    "                    epoch \\leftarrow epoch +1.\n",
    "                    $$\n",
    "    3. for i = 1 to n, do (this loop is where we update the weights):   \n",
    "        Note: \n",
    "        $$\n",
    "        \\frac{\\partial tanh(U)}{\\partial U} = \\begin{bmatrix}  \\frac{\\partial tanh(u_1)}{\\partial u_1} & \\frac{\\partial tanh(u_1)}{\\partial u_2} &  \\cdots & \\frac{\\partial tanh(u_1)}{\\partial u_{q}} \\\\ \\frac{\\partial tanh(u_2)}{\\partial u_1} & \\frac{\\partial tanh(u_2)}{\\partial u_2} &  & \\vdots \\\\  \\vdots & & \\ddots & \\vdots \\\\ \\frac{\\partial tanh(u_{q})}{\\partial u_1} & \\cdots & \\cdots & \\frac{\\partial tanh(u_{q})}{\\partial u_{q}} \\end{bmatrix} = \\begin{bmatrix}  1- tanh^2(u_1) & \\cdots & 0 \\\\ \\vdots & \\ddots &  \\vdots \\\\  0 & \\cdots & 1- tanh^2(u_{q}) \\end{bmatrix} = (1-tanh(U)) \\bigodot  (1+tanh(U))\n",
    "        $$\n",
    "        $$\n",
    "         \\frac{\\partial softmax(U)}{\\partial U} = \\begin{bmatrix}  \\frac{\\partial softmax(u_1)}{\\partial u_1} & \\frac{\\partial softmax(u_1)}{\\partial u_2} &  \\cdots & \\frac{\\partial softmax(u_1)}{\\partial u_{q}} \\\\ \\frac{\\partial softmax(u_2)}{\\partial u_1} & \\frac{\\partial softmax(u_2)}{\\partial u_2} &  & \\vdots \\\\  \\vdots & & \\ddots & \\vdots \\\\ \\frac{\\partial softmax(u_{24})}{\\partial u_1} & \\cdots & \\cdots & \\frac{\\partial softmax(u_{q})}{\\partial u_{q}} \\end{bmatrix} = \\begin{bmatrix}  u_1(\\delta_{11}-u_1)& \\cdots & u_1(\\delta_{1q}-u_q) \\\\ \\vdots & \\ddots &  \\vdots \\\\   u_q(\\delta_{q1}-u_1) & \\cdots &  u_q(\\delta_{qq}-u_q) \\end{bmatrix} = U \\cdot I - U \\otimes U^T\n",
    "        $$\n",
    "        3. update the u here:  \n",
    "            1. According to the backpropogation algorithm, we have:\n",
    "                $$\n",
    "                \\frac{\\partial loss}{\\partial u} = -x_i \\cdot \\frac{1}{n}(d_i-y_i) \\cdot \\frac{\\partial softmax(L)}{\\partial L} \\cdot v \\cdot \\frac{\\partial tanh(K)}{\\partial K} = -x_i \\cdot \\frac{1}{n}(d_i-y_i) \\cdot (L \\cdot I - L \\otimes L^T) \\cdot v \\cdot (1-tanh(K)) \\bigodot  (1+tanh(K))\n",
    "                $$\n",
    "            2. The update would be:\n",
    "                $$\n",
    "                u_{(t)} \\leftarrow u_{(t-1)} \\cdot momentum - \\eta  \\frac{\\partial loss}{\\partial u} = u_{(t-1)} \\cdot momentum - x_i \\cdot \\frac{1}{n}(d_i-y_i) \\cdot (L \\cdot I - L \\otimes L^T) \\cdot v \\cdot (1-tanh(K)) \\bigodot  (1+tanh(K))\n",
    "                $$     \n",
    "        4. update the b here:   \n",
    "            1. According to the backpropogation algorithm, we have:\n",
    "                $$\n",
    "                \\frac{\\partial loss}{\\partial b} = - \\frac{1}{n}(d_i-y_i) \\cdot \\frac{\\partial softmax(L)}{\\partial L} \\cdot v \\cdot \\frac{\\partial tanh(K)}{\\partial K} = - \\frac{1}{n}(d_i-y_i) \\cdot (L \\cdot I - L \\otimes L^T) \\cdot v \\cdot (1-tanh(K)) \\bigodot  (1+tanh(K))\n",
    "                $$\n",
    "            2. The update would be:\n",
    "                $$\n",
    "                b_{(t)} \\leftarrow b_{(t-1)} \\cdot momentum - \\eta  \\frac{\\partial loss}{\\partial b} =b_{(t-1)} \\cdot momentum - \\frac{1}{n}(d_i-y_i) \\cdot (L \\cdot I - L \\otimes L^T) \\cdot v \\cdot (1-tanh(K)) \\bigodot  (1+tanh(K))\n",
    "                $$  \n",
    "        5. update the v here:  \n",
    "            1. According to the backpropogation algorithm, we have:\n",
    "                $$\n",
    "                \\frac{\\partial loss}{\\partial v} = -tanh(K) \\cdot \\frac{1}{n}(d_i - y_i) \\cdot \\frac{\\partial softmax(L)}{\\partial L}\n",
    "                $$\n",
    "            2. The update would be:\n",
    "                $$\n",
    "                v_{(t)} \\leftarrow v_{(t-1)} \\cdot momentum - \\eta  \\frac{\\partial loss}{\\partial v} =v_{(t-1)} \\cdot momentum - \\frac{1}{n}(d_i-y_i) \\cdot Z  \\cdot (L \\cdot I - L \\otimes L^T)\n",
    "                $$  \n",
    "\n",
    "        6. for every kth (k = 6000) epoch:\n",
    "            $$\\eta = 0.5 * \\eta$$ if loss_{epoch} - loss_{epoch-1} >0\n",
    "    2. Loop to A, if $abs(loss_{epoch} - loss_{epoch-1}) >\\epsilon$. \n",
    "    \n",
    "        \n",
    "Reamrk: The initiliazation needs some try and error. "
   ]
  }
 ],
 "metadata": {
  "kernelspec": {
   "display_name": "Python 3",
   "language": "python",
   "name": "python3"
  },
  "language_info": {
   "codemirror_mode": {
    "name": "ipython",
    "version": 3
   },
   "file_extension": ".py",
   "mimetype": "text/x-python",
   "name": "python",
   "nbconvert_exporter": "python",
   "pygments_lexer": "ipython3",
   "version": "3.6.3"
  }
 },
 "nbformat": 4,
 "nbformat_minor": 2
}
