{
 "cells": [
  {
   "cell_type": "code",
   "execution_count": 1,
   "metadata": {
    "collapsed": true
   },
   "outputs": [],
   "source": [
    "import numpy as np\n",
    "import matplotlib.pyplot as plt"
   ]
  },
  {
   "cell_type": "code",
   "execution_count": 2,
   "metadata": {
    "collapsed": true
   },
   "outputs": [],
   "source": [
    "np.random.seed(42)"
   ]
  },
  {
   "cell_type": "markdown",
   "metadata": {},
   "source": [
    "#### (b) Pick (your code should pick it) w0 uniformly at random on [− 1/4 , 1/4 ].  \n",
    "#### (c) Pick w1 uniformly at random on [−1, 1].  \n",
    "#### (d) Pick w2 uniformly at random on [−1, 1].  "
   ]
  },
  {
   "cell_type": "code",
   "execution_count": 3,
   "metadata": {
    "collapsed": true
   },
   "outputs": [],
   "source": [
    "# (b),(c),(d)\n",
    "w = np.zeros(3)\n",
    "w[0] = np.random.uniform(-.25,.25)\n",
    "w[1] = np.random.uniform(-1,1)\n",
    "w[2] = np.random.uniform(-1,1)"
   ]
  },
  {
   "cell_type": "markdown",
   "metadata": {},
   "source": [
    "#### (e) Write in your report the numbers [w0, w1, w2] you have picked."
   ]
  },
  {
   "cell_type": "code",
   "execution_count": 4,
   "metadata": {},
   "outputs": [
    {
     "data": {
      "text/plain": [
       "array([-0.06272994,  0.90142861,  0.46398788])"
      ]
     },
     "execution_count": 4,
     "metadata": {},
     "output_type": "execute_result"
    }
   ],
   "source": [
    "# (e)\n",
    "w"
   ]
  },
  {
   "cell_type": "markdown",
   "metadata": {},
   "source": [
    "#### (f) Pick n = 100 vectors x<sub>1</sub>, . . . , x<sub>n</sub> independently and uniformly at random on [−1, 1]<sup>2</sup>, call the collection of these vectors S."
   ]
  },
  {
   "cell_type": "code",
   "execution_count": 5,
   "metadata": {
    "collapsed": true
   },
   "outputs": [],
   "source": [
    "# (f)\n",
    "S = np.random.uniform(-1,1,(100, 2))"
   ]
  },
  {
   "cell_type": "markdown",
   "metadata": {},
   "source": [
    "#### (g) Let S1 ⊂ S denote the collection of all x = [x1 x2] ∈ S satisfying [1 x1 x2][w0 w1, w2]T ≥ 0.      \n",
    "\n",
    "#### (h) Let S0 ⊂ S denote the collection of all x = [x1 x2] ∈ S satisfying [1 x1 x2][w0 w1, w2]T < 0.   "
   ]
  },
  {
   "cell_type": "code",
   "execution_count": 6,
   "metadata": {
    "collapsed": true
   },
   "outputs": [],
   "source": [
    "# (g)(h)\n",
    "Sone = np.hstack((np.ones((100,1)),S))\n",
    "temp = Sone.dot(w)>=0\n",
    "Sone_labeled = np.hstack((Sone,temp.reshape((100,1))))\n",
    "S1 = Sone_labeled[Sone_labeled[:,3]==1,1:3]\n",
    "S0 = Sone_labeled[Sone_labeled[:,3]!=1,1:3]\n"
   ]
  },
  {
   "cell_type": "markdown",
   "metadata": {},
   "source": [
    "#### (i) In one plot, show the line w0 + w1x1 + w2x2 = 0, with x1 being the “x-axis” and x2 being the “y-axis.” In the same plot, show all the points in S1 and all the points in S0. Use different symbols for S0 and S1. Indicate which points belong to which class."
   ]
  },
  {
   "cell_type": "markdown",
   "metadata": {},
   "source": [
    "Given the $\\omega, x_1$ serves as the x-axis and $x_2$ serves as the y-aixs, we should have the boundary line like: $y = -\\frac{\\omega_1}{\\omega_2}x-\\frac{\\omega_0}{\\omega_2}$."
   ]
  },
  {
   "cell_type": "code",
   "execution_count": 36,
   "metadata": {},
   "outputs": [
    {
     "data": {
      "image/png": "[encoded data removed]",
      "text/plain": [
       "<matplotlib.figure.Figure at 0x11711d198>"
      ]
     },
     "metadata": {},
     "output_type": "display_data"
    }
   ],
   "source": [
    "# (i)\n",
    "x = np.arange(-1,1,0.01)\n",
    "plt.plot(x,-x*w[1]/w[2]-w[0]/w[2],'k-')\n",
    "ps0 = plt.plot(S0[:,0],S0[:,1],'r+',label = 'S0')\n",
    "ps1 = plt.plot(S1[:,0],S1[:,1],'bs',label = 'S1')\n",
    "plt.xlabel('$x_1$')\n",
    "plt.ylabel('$x_2$')\n",
    "plt.legend()\n",
    "plt.show()"
   ]
  },
  {
   "cell_type": "markdown",
   "metadata": {},
   "source": [
    "#### (j) Use the perceptron training algorithm to find the weights that can separate the two classes S0 and S1."
   ]
  },
  {
   "cell_type": "markdown",
   "metadata": {},
   "source": [
    "#####  i. Use the training parameter η = 1."
   ]
  },
  {
   "cell_type": "code",
   "execution_count": 231,
   "metadata": {
    "collapsed": true
   },
   "outputs": [],
   "source": [
    "## (j)\n",
    "# [i]\n",
    "np.random.seed(44)\n",
    "eta = 1"
   ]
  },
  {
   "cell_type": "markdown",
   "metadata": {},
   "source": [
    "##### ii. Pick w0′ , w1′ , w2′ independently and uniformly at random on [−1, 1]. Write them in your report."
   ]
  },
  {
   "cell_type": "code",
   "execution_count": 232,
   "metadata": {},
   "outputs": [
    {
     "data": {
      "text/plain": [
       "array([ 0.6696843 , -0.79040779,  0.48928096])"
      ]
     },
     "execution_count": 232,
     "metadata": {},
     "output_type": "execute_result"
    }
   ],
   "source": [
    "# [ii]\n",
    "wprime0 = np.zeros(3)\n",
    "wprime0[0] = np.random.uniform(-1,1)\n",
    "wprime0[1] = np.random.uniform(-1,1)\n",
    "wprime0[2] = np.random.uniform(-1,1)\n",
    "wprime0"
   ]
  },
  {
   "cell_type": "markdown",
   "metadata": {},
   "source": [
    "##### iii. Record the number of misclassifications if we use the weights [w0′ , w1′ , w2′ ]."
   ]
  },
  {
   "cell_type": "code",
   "execution_count": 233,
   "metadata": {},
   "outputs": [
    {
     "data": {
      "text/plain": [
       "63"
      ]
     },
     "execution_count": 233,
     "metadata": {},
     "output_type": "execute_result"
    }
   ],
   "source": [
    "# [iii]\n",
    "S0one = np.hstack((np.ones((np.shape(S0)[0],1)),S0))\n",
    "S1one = np.hstack((np.ones((np.shape(S1)[0],1)),S1))\n",
    "count0 = np.sum(S0one.dot(wprime0)>=0) + np.sum(S1one.dot(wprime0)<0)\n",
    "count0"
   ]
  },
  {
   "cell_type": "markdown",
   "metadata": {
    "collapsed": true
   },
   "source": [
    "##### iv.After one epoch of the perceptron training algorithm, you will find a new set of weights [w0′′, w1′′, w2′′]."
   ]
  },
  {
   "cell_type": "code",
   "execution_count": 234,
   "metadata": {},
   "outputs": [
    {
     "data": {
      "text/plain": [
       "array([-0.3303157 ,  3.29102147,  0.5143063 ])"
      ]
     },
     "execution_count": 234,
     "metadata": {},
     "output_type": "execute_result"
    }
   ],
   "source": [
    "# [iv]\n",
    "wtemp = wprime0\n",
    "for i in range(0,100):\n",
    "    wtemp += eta * Sone_labeled[i,0:3]* (Sone_labeled[i,3]-np.heaviside(Sone_labeled[i,0:3].dot(wtemp),1))\n",
    "# result from epoch 1\n",
    "wprime1 = wtemp\n",
    "wprime1"
   ]
  },
  {
   "cell_type": "markdown",
   "metadata": {
    "collapsed": true
   },
   "source": [
    "##### v. Record the number of misclassifications if we use the weights [w0′′, w1′′, w2′′].  "
   ]
  },
  {
   "cell_type": "code",
   "execution_count": 235,
   "metadata": {},
   "outputs": [
    {
     "data": {
      "text/plain": [
       "6"
      ]
     },
     "execution_count": 235,
     "metadata": {},
     "output_type": "execute_result"
    }
   ],
   "source": [
    "# [v]\n",
    "count1 = np.sum(S0one.dot(wprime1)>=0) + np.sum(S1one.dot(wprime1)<0)\n",
    "count1"
   ]
  },
  {
   "cell_type": "markdown",
   "metadata": {},
   "source": [
    "##### vi. Do another epoch of the perceptron training algorithm, find a new set of weights, record the number of misclassifications, and so on, until convergence."
   ]
  },
  {
   "cell_type": "code",
   "execution_count": 236,
   "metadata": {},
   "outputs": [
    {
     "data": {
      "text/plain": [
       "array([-0.3303157 ,  3.81725553,  1.77925678])"
      ]
     },
     "execution_count": 236,
     "metadata": {},
     "output_type": "execute_result"
    }
   ],
   "source": [
    "# [vi]\n",
    "# epoch 2\n",
    "wtemp = wprime1\n",
    "for i in range(0,100):\n",
    "    wtemp += eta * Sone_labeled[i,0:3] * (Sone_labeled[i,3]-np.heaviside(Sone_labeled[i,0:3].dot(wtemp),1))\n",
    "# result from epoch 2\n",
    "wprime2 = wtemp\n",
    "wprime2"
   ]
  },
  {
   "cell_type": "code",
   "execution_count": 237,
   "metadata": {},
   "outputs": [
    {
     "data": {
      "text/plain": [
       "1"
      ]
     },
     "execution_count": 237,
     "metadata": {},
     "output_type": "execute_result"
    }
   ],
   "source": [
    "# record the  number of misclassifications after epoch 2\n",
    "count2 = np.sum(S0one.dot(wprime2)>=0) + np.sum(S1one.dot(wprime2)<0)\n",
    "count2"
   ]
  },
  {
   "cell_type": "code",
   "execution_count": 238,
   "metadata": {},
   "outputs": [],
   "source": [
    "# write a loop to run PTA until converge(NO more misclassification)\n",
    "itern = 7\n",
    "count = np.empty((1,itern+1))\n",
    "count[:,0] = count0\n",
    "wall = np.empty((3,itern+1))\n",
    "wall[:,0] = wprime0.reshape((1,3))\n",
    "\n",
    "for k in range(0,itern):\n",
    "    wtemp = wall[:,k]\n",
    "    for i in range(0,100):\n",
    "        wtemp += eta * Sone_labeled[i,0:3] * (Sone_labeled[i,3]-np.heaviside(Sone_labeled[i,0:3].dot(wtemp),1))\n",
    "    \n",
    "    counttemp = np.sum(S0one.dot(wtemp)>=0) + np.sum(S1one.dot(wtemp)<0)\n",
    "    wall[:,k+1] = wtemp\n",
    "    count[:,k+1] = counttemp"
   ]
  },
  {
   "cell_type": "markdown",
   "metadata": {},
   "source": [
    "##### vii. Write down the final weights you obtain in your report. How does these weights compare to the “optimal” weights [w0, w1, w2]?"
   ]
  },
  {
   "cell_type": "markdown",
   "metadata": {},
   "source": [
    "We know that the creterion of convergence in this situation is the count of misclassification becomes 0. So we show the "
   ]
  },
  {
   "cell_type": "code",
   "execution_count": 239,
   "metadata": {},
   "outputs": [
    {
     "data": {
      "text/plain": [
       "array([[ 63.,   0.,   0.,   0.,   0.,   0.,   0.,   0.]])"
      ]
     },
     "execution_count": 239,
     "metadata": {},
     "output_type": "execute_result"
    }
   ],
   "source": [
    "count_eta_1 = count\n",
    "count_eta_1"
   ]
  },
  {
   "cell_type": "markdown",
   "metadata": {},
   "source": [
    "Thus, we just get the latest epoch's weights as our final weights."
   ]
  },
  {
   "cell_type": "code",
   "execution_count": 240,
   "metadata": {},
   "outputs": [
    {
     "data": {
      "text/plain": [
       "array([-0.3303157 ,  4.14741448,  2.01640985])"
      ]
     },
     "execution_count": 240,
     "metadata": {},
     "output_type": "execute_result"
    }
   ],
   "source": [
    "# final weights\n",
    "w_final_1 = wall[:,-1]\n",
    "w_final_1"
   ]
  },
  {
   "cell_type": "code",
   "execution_count": 241,
   "metadata": {},
   "outputs": [
    {
     "data": {
      "text/plain": [
       "array([False, False, False], dtype=bool)"
      ]
     },
     "execution_count": 241,
     "metadata": {},
     "output_type": "execute_result"
    }
   ],
   "source": [
    "# compare the final weights with the optimal weights\n",
    "w_final_1 == w"
   ]
  },
  {
   "cell_type": "markdown",
   "metadata": {},
   "source": [
    "Clearly, the final weights are different to the optimal weights. But they could be the same if we manipulate the random seed. After all, the two classes of points can be linearly separated in more than one way, so there is not a unique weight in terms of merely no misclassific"
   ]
  },
  {
   "cell_type": "markdown",
   "metadata": {},
   "source": [
    "#### (k) Regarding the previous step, draw a graph that shows the epoch number vs the number of mis- classifications."
   ]
  },
  {
   "cell_type": "code",
   "execution_count": 250,
   "metadata": {},
   "outputs": [
    {
     "data": {
      "image/png": "[encoded data removed]",
      "text/plain": [
       "<matplotlib.figure.Figure at 0x117ad60b8>"
      ]
     },
     "metadata": {},
     "output_type": "display_data"
    }
   ],
   "source": [
    "x = np.arange(1,(itern+2),1)\n",
    "plt.plot(x,count_eta_1[0],'gs-',label = 'eta=1')\n",
    "plt.plot(x,count_eta_10[0],'ko-',label = 'eta=10')\n",
    "plt.plot(x,count_eta_01[0],'r^-',label = 'eta=0.1')\n",
    "plt.xlabel('epoch')\n",
    "plt.ylabel('number of misclassification when n =100')\n",
    "plt.title('graphs for (k),(l),(m)')\n",
    "plt.legend()\n",
    "plt.show()"
   ]
  },
  {
   "cell_type": "markdown",
   "metadata": {},
   "source": [
    "#### (l) Repeat the same experiment with η = 10. Do not change w0, w1, w2, S, w0′ , w1′ , w2′ . As in the case η = 1, draw a graph that shows the epoch number vs the number of misclassifications."
   ]
  },
  {
   "cell_type": "code",
   "execution_count": 242,
   "metadata": {},
   "outputs": [
    {
     "data": {
      "text/plain": [
       "array([[ 63.,   2.,   1.,   0.,   0.,   0.,   0.,   0.]])"
      ]
     },
     "execution_count": 242,
     "metadata": {},
     "output_type": "execute_result"
    }
   ],
   "source": [
    "# write a loop to run PTA until converge(NO more misclassification)\n",
    "eta = 10\n",
    "itern = 7\n",
    "count = np.empty((1,itern+1))\n",
    "count[:,0] = count0\n",
    "wall = np.empty((3,itern+1))\n",
    "wall[:,0] = wprime0.reshape((1,3))\n",
    "\n",
    "for k in range(0,itern):\n",
    "    wtemp = wall[:,k]\n",
    "    for i in range(0,100):\n",
    "        wtemp += eta * Sone_labeled[i,0:3] * (Sone_labeled[i,3]-np.heaviside(Sone_labeled[i,0:3].dot(wtemp),1))\n",
    "    \n",
    "    counttemp = np.sum(S0one.dot(wtemp)>=0) + np.sum(S1one.dot(wtemp)<0)\n",
    "    wall[:,k+1] = wtemp\n",
    "    count[:,k+1] = counttemp\n",
    "\n",
    "# see the mis-classified count \n",
    "count_eta_10 = count\n",
    "count_eta_10"
   ]
  },
  {
   "cell_type": "code",
   "execution_count": 243,
   "metadata": {},
   "outputs": [
    {
     "data": {
      "text/plain": [
       "array([ -0.3303157 ,  26.4552763 ,  13.31221826])"
      ]
     },
     "execution_count": 243,
     "metadata": {},
     "output_type": "execute_result"
    }
   ],
   "source": [
    "# get the final weights\n",
    "w_final_10 = wall[:,-1]\n",
    "w_final_10"
   ]
  },
  {
   "cell_type": "markdown",
   "metadata": {},
   "source": [
    "#### (m) Repeat the same experiment with η = 0.1. Do not change w0, w1, w2, S, w0′ , w1′ , w2′ . As in the case η = 1, draw a graph that shows the epoch number vs the number of misclassifications."
   ]
  },
  {
   "cell_type": "code",
   "execution_count": 244,
   "metadata": {},
   "outputs": [
    {
     "data": {
      "text/plain": [
       "array([[ 63.,   0.,   0.,   0.,   0.,   0.,   0.,   0.]])"
      ]
     },
     "execution_count": 244,
     "metadata": {},
     "output_type": "execute_result"
    }
   ],
   "source": [
    "# write a loop to run PTA until converge(NO more misclassification)\n",
    "eta = 0.1\n",
    "itern = 7\n",
    "count = np.empty((1,itern+1))\n",
    "count[:,0] = count0\n",
    "wall = np.empty((3,itern+1))\n",
    "wall[:,0] = wprime0.reshape((1,3))\n",
    "\n",
    "for k in range(0,itern):\n",
    "    wtemp = wall[:,k]\n",
    "    for i in range(0,100):\n",
    "        wtemp += eta * Sone_labeled[i,0:3] * (Sone_labeled[i,3]-np.heaviside(Sone_labeled[i,0:3].dot(wtemp),1))\n",
    "    \n",
    "    counttemp = np.sum(S0one.dot(wtemp)>=0) + np.sum(S1one.dot(wtemp)<0)\n",
    "    wall[:,k+1] = wtemp\n",
    "    count[:,k+1] = counttemp\n",
    "\n",
    "# see the mis-classified count \n",
    "count_eta_01 = count\n",
    "count_eta_01"
   ]
  },
  {
   "cell_type": "markdown",
   "metadata": {
    "collapsed": true
   },
   "source": [
    "#### (n) Comment on how the changes in η effect the number of epochs needed until convergence."
   ]
  },
  {
   "cell_type": "markdown",
   "metadata": {
    "collapsed": true
   },
   "source": [
    "Given the random seed, different choices between the learning rates do not post any practical differences in the coverging speed.  However, in practice, if we are working with more complicated networks, choosing a not too large or too small is very important. If the learning rate is too high, we might have a hard time of finding a converging point. Whilst, if the learning rate is set too low, we are likely to be \"trapped\" in local minima and have a extreme long converging process."
   ]
  },
  {
   "cell_type": "markdown",
   "metadata": {},
   "source": [
    "#### (o) Comment on whether we would get the exact same results (in terms of the effects of η on training performance) if we had started with different w0, w1, w2, S, w0′ , w1′ , w2′ ."
   ]
  },
  {
   "cell_type": "markdown",
   "metadata": {},
   "source": [
    "When the random seed changes, which flips how the weights and data are initilized, dramatic changes on the final weights choices, converging speed across different $\\eta$s should be expected. This is sensible given there exists infinit many of weights that can get the classification job done."
   ]
  },
  {
   "cell_type": "markdown",
   "metadata": {},
   "source": [
    "#### (p) Do the same experiments with n = 1000 samples. Comment on the differences compared to n = 100."
   ]
  },
  {
   "cell_type": "code",
   "execution_count": 249,
   "metadata": {},
   "outputs": [
    {
     "data": {
      "image/png": "[encoded data removed]",
      "text/plain": [
       "<matplotlib.figure.Figure at 0x1176e72b0>"
      ]
     },
     "metadata": {},
     "output_type": "display_data"
    }
   ],
   "source": [
    "np.random.seed(42)\n",
    "S = np.random.uniform(-1,1,(1000, 2))\n",
    "Sone = np.hstack((np.ones((1000,1)),S))\n",
    "temp = Sone.dot(w)>=0\n",
    "Sone_labeled = np.hstack((Sone,temp.reshape((1000,1))))\n",
    "S1 = Sone_labeled[Sone_labeled[:,3]==1,1:3]\n",
    "S0 = Sone_labeled[Sone_labeled[:,3]!=1,1:3]\n",
    "np.random.seed(44)\n",
    "wprime0 = np.zeros(3)\n",
    "wprime0[0] = np.random.uniform(-1,1)\n",
    "wprime0[1] = np.random.uniform(-1,1)\n",
    "wprime0[2] = np.random.uniform(-1,1)\n",
    "# write a loop to run PTA until converge(NO more misclassification)\n",
    "eta = 1\n",
    "itern = 7\n",
    "count = np.empty((1,itern+1))\n",
    "count[:,0] = count0\n",
    "wall = np.empty((3,itern+1))\n",
    "wall[:,0] = wprime0.reshape((1,3))\n",
    "\n",
    "for k in range(0,itern):\n",
    "    wtemp = wall[:,k]\n",
    "    for i in range(0,100):\n",
    "        wtemp += eta * Sone_labeled[i,0:3] * (Sone_labeled[i,3]-np.heaviside(Sone_labeled[i,0:3].dot(wtemp),1))\n",
    "    \n",
    "    counttemp = np.sum(S0one.dot(wtemp)>=0) + np.sum(S1one.dot(wtemp)<0)\n",
    "    wall[:,k+1] = wtemp\n",
    "    count[:,k+1] = counttemp\n",
    "count_eta_1 = count\n",
    "w_final_1 = wall[:,-1]\n",
    "# write a loop to run PTA until converge(NO more misclassification)\n",
    "eta = 10\n",
    "itern = 7\n",
    "count = np.empty((1,itern+1))\n",
    "count[:,0] = count0\n",
    "wall = np.empty((3,itern+1))\n",
    "wall[:,0] = wprime0.reshape((1,3))\n",
    "\n",
    "for k in range(0,itern):\n",
    "    wtemp = wall[:,k]\n",
    "    for i in range(0,100):\n",
    "        wtemp += eta * Sone_labeled[i,0:3] * (Sone_labeled[i,3]-np.heaviside(Sone_labeled[i,0:3].dot(wtemp),1))\n",
    "    \n",
    "    counttemp = np.sum(S0one.dot(wtemp)>=0) + np.sum(S1one.dot(wtemp)<0)\n",
    "    wall[:,k+1] = wtemp\n",
    "    count[:,k+1] = counttemp\n",
    "# see the mis-classified count \n",
    "count_eta_10 = count\n",
    "# get the final weights\n",
    "w_final_10 = wall[:,-1]\n",
    "# write a loop to run PTA until converge(NO more misclassification)\n",
    "eta = 0.1\n",
    "itern = 7\n",
    "count = np.empty((1,itern+1))\n",
    "count[:,0] = count0\n",
    "wall = np.empty((3,itern+1))\n",
    "wall[:,0] = wprime0.reshape((1,3))\n",
    "\n",
    "for k in range(0,itern):\n",
    "    wtemp = wall[:,k]\n",
    "    for i in range(0,100):\n",
    "        wtemp += eta * Sone_labeled[i,0:3] * (Sone_labeled[i,3]-np.heaviside(Sone_labeled[i,0:3].dot(wtemp),1))\n",
    "    \n",
    "    counttemp = np.sum(S0one.dot(wtemp)>=0) + np.sum(S1one.dot(wtemp)<0)\n",
    "    wall[:,k+1] = wtemp\n",
    "    count[:,k+1] = counttemp\n",
    "\n",
    "# see the mis-classified count \n",
    "count_eta_01 = count\n",
    "w_final_01 = wall[:,-1]\n",
    "x = np.arange(1,(itern+2),1)\n",
    "plt.plot(x,count_eta_1[0],'gs-',label = 'eta=1')\n",
    "plt.plot(x,count_eta_10[0],'ko-',label = 'eta=10')\n",
    "plt.plot(x,count_eta_01[0],'r^-',label = 'eta=0.1')\n",
    "plt.xlabel('epoch')\n",
    "plt.ylabel('number of misclassification')\n",
    "plt.title('graphs for (k),(l),(m) when n=1000')\n",
    "plt.legend()\n",
    "plt.show()"
   ]
  },
  {
   "cell_type": "markdown",
   "metadata": {},
   "source": [
    "By setting the same random seeds, we can gurantee that the weight vectors are initialized exactly the same as they were in n=100 case. From the above plot, we can clearly observe the converging speed slows down due to the increased sample size. And different $\\eta$ values causes more tangible disparities in their convergence and final weight values. As a result, we generally need more epochs to find the converging point to deal with the increased sample size."
   ]
  }
 ],
 "metadata": {
  "kernelspec": {
   "display_name": "Python 3",
   "language": "python",
   "name": "python3"
  },
  "language_info": {
   "codemirror_mode": {
    "name": "ipython",
    "version": 3
   },
   "file_extension": ".py",
   "mimetype": "text/x-python",
   "name": "python",
   "nbconvert_exporter": "python",
   "pygments_lexer": "ipython3",
   "version": "3.6.2"
  }
 },
 "nbformat": 4,
 "nbformat_minor": 2
}
